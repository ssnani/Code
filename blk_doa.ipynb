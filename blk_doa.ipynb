{
 "cells": [
  {
   "cell_type": "code",
   "execution_count": 1,
   "metadata": {},
   "outputs": [],
   "source": [
    "import torch\n",
    "import matplotlib.pyplot as plt\n",
    "import numpy as np"
   ]
  },
  {
   "cell_type": "code",
   "execution_count": 2,
   "metadata": {},
   "outputs": [],
   "source": [
    "def cart2sph(cart):\n",
    "\txy2 = cart[:,0]**2 + cart[:,1]**2\n",
    "\tsph = np.zeros_like(cart)\n",
    "\tsph[:,0] = np.sqrt(xy2 + cart[:,2]**2)\n",
    "\tsph[:,1] = np.arctan2(np.sqrt(xy2), cart[:,2]) # Elevation angle defined from Z-axis down\n",
    "\tsph[:,2] = np.arctan2(cart[:,1], cart[:,0])\n",
    "\treturn sph"
   ]
  },
  {
   "cell_type": "code",
   "execution_count": 3,
   "metadata": {},
   "outputs": [],
   "source": [
    "def block_doa(frm_val, block_size):\n",
    "    n_blocks = frm_val.shape[1]// block_size + 1\n",
    "\n",
    "    blk_doas = []\n",
    "    blk_start = 0\n",
    "    for blk_idx in range(0, n_blocks):\n",
    "\n",
    "        if blk_idx < n_blocks-1:\n",
    "            blk_end = blk_start + block_size\n",
    "        else:\n",
    "            blk_end = blk_start + frm_val.shape[1]\n",
    "\n",
    "        blk_sum = torch.sum(frm_val[:,blk_start:blk_end],dim=1)\n",
    "        blk_doa_idx = torch.argmax(blk_sum)\n",
    "        blk_doa = blk_doa_idx\n",
    "\n",
    "        blk_start = blk_end\n",
    "\n",
    "        blk_doas.append(blk_doa)\n",
    "\n",
    "    return blk_doas\n",
    "\n",
    "#for now taking absolute inside the block\n",
    "def block_lbl_doa(lbl_doa, block_size):\n",
    "    #assuming lbl_doa [r, elv, azi] : (1, frms, 3)\n",
    "    n_blocks = lbl_doa.shape[1]// block_size + 1\n",
    "\n",
    "    blk_doas = []\n",
    "    blk_range = []\n",
    "    blk_start = 0\n",
    "    for blk_idx in range(0, n_blocks):\n",
    "        if blk_idx < n_blocks-1:\n",
    "            blk_end = blk_start + block_size\n",
    "        else:\n",
    "            blk_end = blk_start + lbl_doa.shape[1]\n",
    "\n",
    "        blk_doa = torch.mean(torch.abs(lbl_doa[:,blk_start:blk_end, : ]),dim=1)\n",
    "\n",
    "        blk_start = blk_end\n",
    "        blk_doas.append(torch.rad2deg(blk_doa[:,2])) # azimuth\n",
    "        blk_range.append(blk_doa[:,0]) # range\n",
    "\n",
    "    return blk_doas, blk_range\n",
    "\n",
    "\n",
    "def blk_vad(frm_level_vad, block_size):\n",
    "    #assuming frm_level_vad : (frms)\n",
    "    n_blocks = frm_level_vad.shape[0]// block_size + 1\n",
    "\n",
    "    frm_level_vad = 1.0*frm_level_vad\n",
    "    blk_vads = []\n",
    "    blk_start = 0\n",
    "    for blk_idx in range(0, n_blocks):\n",
    "        if blk_idx < n_blocks-1:\n",
    "            blk_end = blk_start + block_size\n",
    "        else:\n",
    "            blk_end = blk_start + frm_level_vad.shape[0]\n",
    "\n",
    "        _blk_vad = torch.mean(frm_level_vad[blk_start:blk_end])\n",
    "\n",
    "        blk_start = blk_end\n",
    "        blk_vads.append(_blk_vad)\n",
    "    return blk_vads\n"
   ]
  },
  {
   "cell_type": "code",
   "execution_count": 4,
   "metadata": {},
   "outputs": [],
   "source": [
    "tol = 5\n",
    "\n",
    "def get_acc(est_vad, est_blk_val, tgt_blk_val, tol=5):\n",
    "    n_blocks = len(est_vad)\n",
    "    non_vad_blks =[]\n",
    "    acc=0\n",
    "    valid_blk_count = 0\n",
    "    for idx in range(0, n_blocks):\n",
    "        if est_vad[idx] >=0.98:\n",
    "            if (np.abs(est_blk_val[idx] - np.abs(tgt_blk_val[idx])) <= tol):\n",
    "                acc += 1\n",
    "            valid_blk_count +=1\n",
    "        else:\n",
    "            non_vad_blks.append(idx)\n",
    "\n",
    "    acc /= valid_blk_count\n",
    "    \n",
    "    print(f'n_blocks: {n_blocks}, non_vad_blks: {non_vad_blks}')\n",
    "    return acc\n",
    "\n"
   ]
  },
  {
   "cell_type": "code",
   "execution_count": 5,
   "metadata": {},
   "outputs": [
    {
     "name": "stdout",
     "output_type": "stream",
     "text": [
      " Noise range: [1.], elevation: [90.], azimuth : [106.]\n",
      "n_blocks: 398, non_vad_blks: [8, 9, 10, 11, 12, 13, 14, 15, 16, 17, 18, 19, 20, 21, 22, 23, 24, 25, 26, 27, 28, 29, 30, 31, 32]\n",
      "n_blocks: 398, non_vad_blks: [8, 9, 10, 11, 12, 13, 14, 15, 16, 17, 18, 19, 20, 21, 22, 23, 24, 25, 26, 27, 28, 29, 30, 31, 32]\n",
      "n_blocks: 398, non_vad_blks: [8, 9, 10, 11, 12, 13, 14, 15, 16, 17, 18, 19, 20, 21, 22, 23, 24, 25, 26, 27, 28, 29, 30, 31, 32]\n",
      "n_blocks: 16, non_vad_blks: [0, 1]\n",
      "n_blocks: 16, non_vad_blks: [0, 1]\n",
      "n_blocks: 16, non_vad_blks: [0, 1]\n"
     ]
    }
   ],
   "source": [
    "scenario = \"source_moving\"\n",
    "snr =  -5\n",
    "t60 = 0.2\n",
    "src_mic_dist = 1.0\n",
    "noi_mic_dist = 1.0\n",
    "\n",
    "idx=2\n",
    "#read the config file\n",
    "#\n",
    "file_path = f'../test_dataset_file_circular_motion_snr_{snr}_t60_{t60}.txt' #dataset_file_10sec.txt'\n",
    "\n",
    "with open(file_path) as f:\n",
    "    configs_lst = [line.strip().split(',')[-1] for line in f.readlines()]\n",
    "\n",
    "\n",
    "config_file = configs_lst[idx]\n",
    "\n",
    "cfg = torch.load(config_file)\n",
    "\n",
    "config_dict = cfg #circular_motion_config_dict\n",
    "room_sz = config_dict['room_sz']\n",
    "mic_pos = config_dict['mic_pos']\n",
    "traj_pts= config_dict['src_traj_pts']\n",
    "noise_pos= config_dict['noise_pos']\n",
    "T60= config_dict['t60']\n",
    "SNR= config_dict['snr']\n",
    "\n",
    "noise_pos =  np.expand_dims(noise_pos, axis=0) if len(noise_pos.shape) == 1 else noise_pos\n",
    "\n",
    "\n",
    "array_pos = np.mean(mic_pos, axis=0, keepdims=True)\n",
    "noise_spherical = cart2sph(noise_pos-array_pos)\n",
    "\n",
    "#range motion of source\n",
    "print(f' Noise range: {noise_spherical[:,0]}, elevation: {np.degrees(noise_spherical[:,1])}, azimuth : {np.degrees(noise_spherical[:,2]) }')\n",
    "\n",
    "\n",
    "mix_t60_lst = []\n",
    "est_t60_lst = []\n",
    "mvng_t60_lst = []\n",
    "\n",
    "mix_frm_t60_lst = []\n",
    "est_frm_t60_lst = []\n",
    "mvng_frm_t60_lst = []\n",
    "\n",
    "for t60 in [0.2]:\n",
    "    mix_avg_lst = []\n",
    "    est_avg_lst = []\n",
    "    mvng_avg_lst = []\n",
    "    \n",
    "    mix_frm_avg_lst = []\n",
    "    est_frm_avg_lst = []\n",
    "    mvng_frm_avg_lst = []\n",
    "    pp_str = f'../signals/{scenario}/from_dataset_circular_motion_snr_{snr}_t60_{t60}_src_mic_dist_{src_mic_dist}_noi_mic_dist_{noi_mic_dist}/'  #from_dataset_file_10sec/v2/'\n",
    "    for batch_idx in range(idx, idx+1):\n",
    "        app_str = f'{batch_idx}'\n",
    "\n",
    "        #app_str = f'sp_{static_prob}_nlp_{non_linear_motion_prob}_snr_{test_snr}_t60_{test_t60}_nb_points_{nb_points}'\n",
    "\n",
    "        info = torch.load(f'{pp_str}doa_{app_str}.pt')\n",
    "\n",
    "        (mix_f_doa, mix_f_vals, mix_sig_vad, mix_utt_doa, mix_utt_sum) = info['mix']\n",
    "        (tgt_f_doa, tgt_f_vals, tgt_sig_vad, tgt_utt_doa, tgt_utt_sum) = info['tgt']\n",
    "        (est_f_doa, est_f_vals, est_sig_vad, est_utt_doa, est_utt_sum) = info['est']\n",
    "        (mvng_est_f_doa, mvng_est_f_vals, mvng_est_sig_vad, mvng_est_utt_doa, mvng_est_utt_sum) = info['mvng_est']\n",
    "        lbl_doa = info['lbl_doa']\n",
    "\n",
    "\n",
    "        mix_frm_Acc = get_acc(np.array(tgt_sig_vad), np.array(mix_f_doa), np.array(tgt_f_doa))\n",
    "        est_frm_Acc = get_acc(np.array(tgt_sig_vad), np.array(est_f_doa), np.array(tgt_f_doa))\n",
    "        mvng_frm_Acc = get_acc(np.array(tgt_sig_vad), np.array(mvng_est_f_doa), np.array(tgt_f_doa))\n",
    "\n",
    "\n",
    "        mix_frm_avg_lst.append(mix_frm_Acc)\n",
    "        est_frm_avg_lst.append(est_frm_Acc)\n",
    "        mvng_frm_avg_lst.append(mvng_frm_Acc)\n",
    "        \n",
    "\n",
    "        blk_size = 25\n",
    "        mix_blk_vals = block_doa(frm_val=mix_f_vals, block_size=blk_size)\n",
    "        tgt_blk_vals = block_doa(frm_val=tgt_f_vals, block_size=blk_size)\n",
    "        est_blk_vals = block_doa(frm_val=est_f_vals, block_size=blk_size)\n",
    "        mvng_est_blk_vals = block_doa(frm_val=mvng_est_f_vals, block_size=blk_size)\n",
    "\n",
    "        lbl_blk_doa, lbl_blk_range = block_lbl_doa(lbl_doa, block_size=blk_size)\n",
    "\n",
    "        mix_blk_vad = blk_vad(mix_sig_vad, blk_size)\n",
    "        tgt_blk_vad = blk_vad(tgt_sig_vad, blk_size)\n",
    "        est_blk_vad = blk_vad(est_sig_vad, blk_size)\n",
    "        mvng_blk_vad = blk_vad(mvng_est_sig_vad, blk_size)\n",
    "\n",
    "        mix_Acc = get_acc(np.array(tgt_blk_vad), np.array(mix_blk_vals), np.array(tgt_blk_vals))\n",
    "        est_Acc = get_acc(np.array(tgt_blk_vad), np.array(est_blk_vals), np.array(tgt_blk_vals))\n",
    "        mvng_est_Acc = get_acc(np.array(tgt_blk_vad), np.array(mvng_est_blk_vals), np.array(tgt_blk_vals))\n",
    "\n",
    "        mix_avg_lst.append(mix_Acc)\n",
    "        est_avg_lst.append(est_Acc)\n",
    "        mvng_avg_lst.append(mvng_est_Acc)\n",
    "    \n",
    "    mix_t60_lst.append(np.mean(np.array(mix_avg_lst)))\n",
    "    est_t60_lst.append(np.mean(np.array(est_avg_lst)))\n",
    "    mvng_t60_lst.append(np.mean(np.array(mvng_avg_lst)))\n",
    "\n",
    "    \n",
    "    mix_frm_t60_lst.append(np.mean(np.array(mix_frm_avg_lst)))\n",
    "    est_frm_t60_lst.append(np.mean(np.array(est_frm_avg_lst)))\n",
    "    mvng_frm_t60_lst.append(np.mean(np.array(mvng_frm_avg_lst)))"
   ]
  },
  {
   "cell_type": "code",
   "execution_count": 6,
   "metadata": {},
   "outputs": [
    {
     "data": {
      "text/plain": [
       "(0.07142857142857142,\n",
       " 0.42857142857142855,\n",
       " 0.5,\n",
       " 0.13404825737265416,\n",
       " 0.27882037533512066,\n",
       " 0.28418230563002683)"
      ]
     },
     "execution_count": 6,
     "metadata": {},
     "output_type": "execute_result"
    }
   ],
   "source": [
    "mix_Acc, est_Acc, mvng_est_Acc, mix_frm_Acc, est_frm_Acc, mvng_frm_Acc"
   ]
  },
  {
   "cell_type": "code",
   "execution_count": 7,
   "metadata": {},
   "outputs": [
    {
     "data": {
      "text/plain": [
       "({'snr': -5.130601201630472,\n",
       "  'si_snr': -5.3124505015825845,\n",
       "  'pesq_nb': 1.3265853457878802,\n",
       "  'pesq_wb': 1.020091528560431,\n",
       "  'stoi': 0.605847117493291,\n",
       "  'e_stoi': 0.35614004813406014},\n",
       " {'snr': 1.444107137850494,\n",
       "  'si_snr': 0.46602025395079777,\n",
       "  'pesq_nb': 1.7002648626191286,\n",
       "  'pesq_wb': 1.0342803545736239,\n",
       "  'stoi': 0.7118510461965174,\n",
       "  'e_stoi': 0.5100052642801048},\n",
       " {'snr': 1.7212857964997341,\n",
       "  'si_snr': 0.9363757027060458,\n",
       "  'pesq_nb': 1.755599013133626,\n",
       "  'pesq_wb': 1.039709324406556,\n",
       "  'stoi': 0.7205313700045699,\n",
       "  'e_stoi': 0.5118070277578602})"
      ]
     },
     "execution_count": 7,
     "metadata": {},
     "output_type": "execute_result"
    }
   ],
   "source": [
    "info['mix_metrics'], info['est_metrics'], info['mvng_est_metrics']"
   ]
  },
  {
   "cell_type": "code",
   "execution_count": 8,
   "metadata": {},
   "outputs": [],
   "source": [
    "src_azimuth = np.degrees(cart2sph(traj_pts-array_pos)[:,2])\n",
    "src_azimuth_keys = np.round(np.where(src_azimuth<0, 360+src_azimuth, src_azimuth)).astype('int32')\t"
   ]
  },
  {
   "cell_type": "code",
   "execution_count": 9,
   "metadata": {},
   "outputs": [
    {
     "data": {
      "text/plain": [
       "(array([-81., -76., -71., -66., -60., -55., -50., -45., -40., -35., -30.,\n",
       "        -25., -19., -14.,  -9.,  -4.]),\n",
       " array([279, 284, 289, 294, 300, 305, 310, 315, 320, 325, 330, 335, 341,\n",
       "        346, 351, 356], dtype=int32),\n",
       " array([ 99, 104, 109, 114, 120, 125, 130, 135, 140, 145, 150, 155, 161,\n",
       "        166, 171, 176], dtype=int32))"
      ]
     },
     "execution_count": 9,
     "metadata": {},
     "output_type": "execute_result"
    }
   ],
   "source": [
    "src_azimuth, src_azimuth_keys, src_azimuth_keys-180"
   ]
  },
  {
   "cell_type": "code",
   "execution_count": 10,
   "metadata": {},
   "outputs": [
    {
     "data": {
      "text/plain": [
       "[tensor(73),\n",
       " tensor(106),\n",
       " tensor(108),\n",
       " tensor(111),\n",
       " tensor(123),\n",
       " tensor(70),\n",
       " tensor(131),\n",
       " tensor(132),\n",
       " tensor(72),\n",
       " tensor(146),\n",
       " tensor(158),\n",
       " tensor(72),\n",
       " tensor(71),\n",
       " tensor(164),\n",
       " tensor(67),\n",
       " tensor(71)]"
      ]
     },
     "execution_count": 10,
     "metadata": {},
     "output_type": "execute_result"
    }
   ],
   "source": [
    "mvng_est_blk_vals"
   ]
  },
  {
   "cell_type": "code",
   "execution_count": 11,
   "metadata": {},
   "outputs": [
    {
     "data": {
      "text/plain": [
       "[<matplotlib.lines.Line2D at 0x7f8a208854f0>]"
      ]
     },
     "execution_count": 11,
     "metadata": {},
     "output_type": "execute_result"
    },
    {
     "data": {
      "image/png": "[encoded data removed]",
      "text/plain": [
       "<Figure size 640x480 with 1 Axes>"
      ]
     },
     "metadata": {},
     "output_type": "display_data"
    }
   ],
   "source": [
    "plt.figure()\n",
    "plt.plot(tgt_blk_vals,'b')\n",
    "plt.plot(est_blk_vals,'g')\n",
    "plt.plot(mvng_est_blk_vals,'r')\n",
    "plt.plot(mix_blk_vals, 'o')\n",
    "#plt.plot(src_azimuth, 'b+')"
   ]
  },
  {
   "cell_type": "code",
   "execution_count": 12,
   "metadata": {},
   "outputs": [
    {
     "data": {
      "text/plain": [
       "[<matplotlib.lines.Line2D at 0x7f8a206e8fa0>]"
      ]
     },
     "execution_count": 12,
     "metadata": {},
     "output_type": "execute_result"
    },
    {
     "data": {
      "image/png": "[encoded data removed]",
      "text/plain": [
       "<Figure size 640x480 with 1 Axes>"
      ]
     },
     "metadata": {},
     "output_type": "display_data"
    }
   ],
   "source": [
    "plt.figure()\n",
    "plt.plot(tgt_blk_vad,'b')\n",
    "plt.plot(est_blk_vad,'g')\n",
    "plt.plot(mvng_blk_vad,'r')\n",
    "plt.plot(mix_blk_vad, 'o')"
   ]
  },
  {
   "cell_type": "code",
   "execution_count": null,
   "metadata": {},
   "outputs": [],
   "source": []
  }
 ],
 "metadata": {
  "kernelspec": {
   "display_name": "Python 3.9.13 ('moving_source')",
   "language": "python",
   "name": "python3"
  },
  "language_info": {
   "codemirror_mode": {
    "name": "ipython",
    "version": 3
   },
   "file_extension": ".py",
   "mimetype": "text/x-python",
   "name": "python",
   "nbconvert_exporter": "python",
   "pygments_lexer": "ipython3",
   "version": "3.9.13"
  },
  "orig_nbformat": 4,
  "vscode": {
   "interpreter": {
    "hash": "5b19b528aa93bd51c7336d5aea62157de271cd7dded6857ac2564e2dc9749b07"
   }
  }
 },
 "nbformat": 4,
 "nbformat_minor": 2
}
