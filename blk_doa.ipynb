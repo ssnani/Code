{
 "cells": [
  {
   "cell_type": "code",
   "execution_count": 1,
   "metadata": {},
   "outputs": [],
   "source": [
    "import torch\n",
    "import matplotlib.pyplot as plt\n",
    "import numpy as np"
   ]
  },
  {
   "cell_type": "code",
   "execution_count": 2,
   "metadata": {},
   "outputs": [],
   "source": [
    "def cart2sph(cart):\n",
    "\txy2 = cart[:,0]**2 + cart[:,1]**2\n",
    "\tsph = np.zeros_like(cart) #np.zeros(cart.shape) #\n",
    "\tsph[:,0] = np.sqrt(xy2 + cart[:,2]**2)\n",
    "\tsph[:,1] = np.arctan2(np.sqrt(xy2), cart[:,2]) # Elevation angle defined from Z-axis down\n",
    "\tsph[:,2] = np.arctan2(cart[:,1], cart[:,0])\n",
    "\treturn sph"
   ]
  },
  {
   "cell_type": "code",
   "execution_count": 3,
   "metadata": {},
   "outputs": [
    {
     "data": {
      "text/plain": [
       "((1, 3),\n",
       " (1, 3),\n",
       " array([[1., 1., 0.]]),\n",
       " array([[1.41421356, 1.57079633, 0.78539816]]),\n",
       " 45.0,\n",
       " 90.0)"
      ]
     },
     "execution_count": 3,
     "metadata": {},
     "output_type": "execute_result"
    }
   ],
   "source": [
    "x = np.array([[1.0,  1.0,  0.]])\n",
    "x_s = cart2sph(x)\n",
    "x.shape, x_s.shape, x, x_s , np.degrees(x_s[0,2]), np.degrees(x_s[0,1])"
   ]
  },
  {
   "cell_type": "code",
   "execution_count": 2,
   "metadata": {},
   "outputs": [],
   "source": [
    "def block_doa(frm_val, block_size):\n",
    "    n_blocks = frm_val.shape[1]// block_size + 1\n",
    "\n",
    "    blk_doas = []\n",
    "    blk_start = 0\n",
    "    for blk_idx in range(0, n_blocks):\n",
    "\n",
    "        if blk_idx < n_blocks-1:\n",
    "            blk_end = blk_start + block_size\n",
    "        else:\n",
    "            blk_end = blk_start + frm_val.shape[1]\n",
    "\n",
    "        blk_sum = torch.sum(frm_val[:,blk_start:blk_end],dim=1)\n",
    "        blk_doa_idx = torch.argmax(blk_sum)\n",
    "        blk_doa = blk_doa_idx\n",
    "\n",
    "        blk_start = blk_end\n",
    "\n",
    "        blk_doas.append(blk_doa)\n",
    "\n",
    "    return blk_doas\n",
    "\n",
    "#for now taking absolute inside the block\n",
    "def block_lbl_doa(lbl_doa, block_size):\n",
    "    #assuming lbl_doa [r, elv, azi] : (1, frms, 3)\n",
    "    n_blocks = lbl_doa.shape[1]// block_size + 1\n",
    "\n",
    "    blk_doas = []\n",
    "    blk_range = []\n",
    "    blk_start = 0\n",
    "    for blk_idx in range(0, n_blocks):\n",
    "        if blk_idx < n_blocks-1:\n",
    "            blk_end = blk_start + block_size\n",
    "        else:\n",
    "            blk_end = blk_start + lbl_doa.shape[1]\n",
    "\n",
    "        blk_doa = torch.mean(torch.abs(lbl_doa[:,blk_start:blk_end, : ]),dim=1)\n",
    "\n",
    "        blk_start = blk_end\n",
    "        blk_doas.append(torch.rad2deg(blk_doa[:,2])) # azimuth\n",
    "        blk_range.append(blk_doa[:,0]) # range\n",
    "\n",
    "    return blk_doas, blk_range\n",
    "\n",
    "def blk_vad(frm_level_vad, block_size):\n",
    "    #assuming frm_level_vad : (frms)\n",
    "    n_blocks = frm_level_vad.shape[0]// block_size + 1\n",
    "\n",
    "    frm_level_vad = 1.0*frm_level_vad\n",
    "    blk_vads = []\n",
    "    blk_start = 0\n",
    "    for blk_idx in range(0, n_blocks):\n",
    "        if blk_idx < n_blocks-1:\n",
    "            blk_end = blk_start + block_size\n",
    "        else:\n",
    "            blk_end = blk_start + frm_level_vad.shape[0]\n",
    "\n",
    "        _blk_vad = torch.mean(frm_level_vad[blk_start:blk_end])\n",
    "\n",
    "        blk_start = blk_end\n",
    "        blk_vads.append(_blk_vad)\n",
    "    return blk_vads\n"
   ]
  },
  {
   "cell_type": "code",
   "execution_count": 3,
   "metadata": {},
   "outputs": [],
   "source": [
    "tol = 5\n",
    "\n",
    "def get_acc(est_vad, est_blk_val, tgt_blk_val, tol=5, vad_th=0.6):\n",
    "    n_blocks = len(est_vad)\n",
    "    non_vad_blks =[]\n",
    "    acc=0\n",
    "    valid_blk_count = 0\n",
    "    for idx in range(0, n_blocks):\n",
    "        if est_vad[idx] >=vad_th:\n",
    "            if (np.abs(est_blk_val[idx] - np.abs(tgt_blk_val[idx])) <= tol):\n",
    "                acc += 1\n",
    "            valid_blk_count +=1\n",
    "        else:\n",
    "            non_vad_blks.append(idx)\n",
    "\n",
    "    acc /= valid_blk_count\n",
    "    \n",
    "    #print(f'n_blocks: {n_blocks}, non_vad_blks: {non_vad_blks}')\n",
    "    return acc"
   ]
  },
  {
   "cell_type": "code",
   "execution_count": null,
   "metadata": {},
   "outputs": [],
   "source": [
    "scenario = \"source_moving\"\n",
    "snr =  -5\n",
    "t60 = 0.2\n",
    "src_mic_dist = 1.0\n",
    "noi_mic_dist = 1.0\n",
    "\n",
    "idx=0\n",
    "#read the config file\n",
    "#\n",
    "scratch_dir='/scratch/bbje/battula12/ControlledExp/Testing/Scenario_Comparision/'\n",
    "file_path = f'../val_dataset_file_circular_motion_snr_{snr}_t60_{t60}.txt' #dataset_file_10sec.txt'\n",
    "\n",
    "with open(file_path) as f:\n",
    "    configs_lst = [line.strip().split(',')[-1] for line in f.readlines()]\n",
    "\n",
    "\n",
    "config_file = configs_lst[idx]\n",
    "\n",
    "cfg = torch.load(config_file)\n",
    "\n",
    "config_dict = cfg #circular_motion_config_dict\n",
    "room_sz = config_dict['room_sz']\n",
    "mic_pos = config_dict['mic_pos']\n",
    "traj_pts= config_dict['src_traj_pts']\n",
    "noise_pos= config_dict['noise_pos']\n",
    "T60= config_dict['t60']\n",
    "SNR= config_dict['snr']\n",
    "\n",
    "noise_pos =  np.expand_dims(noise_pos, axis=0) if len(noise_pos.shape) == 1 else noise_pos\n",
    "\n",
    "\n",
    "array_pos = np.mean(mic_pos, axis=0, keepdims=True)\n",
    "noise_spherical = cart2sph(noise_pos-array_pos)\n",
    "\n",
    "#range motion of source\n",
    "print(f' Noise range: {noise_spherical[:,0]}, elevation: {np.degrees(noise_spherical[:,1])}, azimuth : {np.degrees(noise_spherical[:,2]) }')\n",
    "\n",
    "\n",
    "mix_t60_lst = []\n",
    "est_t60_lst = []\n",
    "mvng_t60_lst = []\n",
    "\n",
    "mix_frm_t60_lst = []\n",
    "est_frm_t60_lst = []\n",
    "mvng_frm_t60_lst = []\n",
    "\n",
    "for t60 in [0.2]:\n",
    "    mix_avg_lst = []\n",
    "    est_avg_lst = []\n",
    "    mvng_avg_lst = []\n",
    "\n",
    "    mix_metric_avg_lst = []\n",
    "    est_metric_avg_lst = []\n",
    "    mvng_est_metric_avg_lst = []\n",
    "    \n",
    "    mix_frm_avg_lst = []\n",
    "    est_frm_avg_lst = []\n",
    "    mvng_frm_avg_lst = []\n",
    "    pp_str = f'{scratch_dir}signals/{scenario}/from_val_dataset_circular_motion_snr_{snr}_t60_{t60}_src_mic_dist_{src_mic_dist}_noi_mic_dist_{noi_mic_dist}/'  #from_dataset_file_10sec/v2/'\n",
    "    for batch_idx in range(0, 640): #idx, idx+1\n",
    "        app_str = f'{batch_idx}'\n",
    "\n",
    "        #app_str = f'sp_{static_prob}_nlp_{non_linear_motion_prob}_snr_{test_snr}_t60_{test_t60}_nb_points_{nb_points}'\n",
    "\n",
    "        info = torch.load(f'{pp_str}doa_{app_str}.pt')\n",
    "\n",
    "        #### \n",
    "        mix_metrics = info['mix_metrics']\n",
    "        est_metrics = info['est_metrics']\n",
    "        mvng_est_metrics = info['mvng_est_metrics']\n",
    "\n",
    "        est_metrics = list(est_metrics.values())\n",
    "        mix_metrics = list(mix_metrics.values())\n",
    "        mvng_est_metrics = list(mvng_est_metrics.values())\n",
    "\n",
    "        \n",
    "        est_metric_avg_lst.append(est_metrics)\n",
    "        mix_metric_avg_lst.append(mix_metrics)\n",
    "        mvng_est_metric_avg_lst.append(mvng_est_metrics)\n",
    "\n",
    "\n",
    "\n",
    "        (mix_f_doa, mix_f_vals, mix_sig_vad, mix_utt_doa, mix_utt_sum) = info['mix']\n",
    "        (tgt_f_doa, tgt_f_vals, tgt_sig_vad, tgt_utt_doa, tgt_utt_sum) = info['tgt']\n",
    "        (est_f_doa, est_f_vals, est_sig_vad, est_utt_doa, est_utt_sum) = info['est']\n",
    "        (mvng_est_f_doa, mvng_est_f_vals, mvng_est_sig_vad, mvng_est_utt_doa, mvng_est_utt_sum) = info['mvng_est']\n",
    "        lbl_doa = info['lbl_doa']\n",
    "\n",
    "\n",
    "        mix_frm_Acc = get_acc(np.array(tgt_sig_vad), np.array(mix_f_doa), np.array(tgt_f_doa),vad_th=0.6)\n",
    "        est_frm_Acc = get_acc(np.array(tgt_sig_vad), np.array(est_f_doa), np.array(tgt_f_doa),vad_th=0.6)\n",
    "        mvng_frm_Acc = get_acc(np.array(tgt_sig_vad), np.array(mvng_est_f_doa), np.array(tgt_f_doa),vad_th=0.6)\n",
    "\n",
    "\n",
    "        mix_frm_avg_lst.append(mix_frm_Acc)\n",
    "        est_frm_avg_lst.append(est_frm_Acc)\n",
    "        mvng_frm_avg_lst.append(mvng_frm_Acc)\n",
    "        \n",
    "\n",
    "        blk_size = 25\n",
    "        mix_blk_vals = block_doa(frm_val=mix_f_vals, block_size=blk_size)\n",
    "        tgt_blk_vals = block_doa(frm_val=tgt_f_vals, block_size=blk_size)\n",
    "        est_blk_vals = block_doa(frm_val=est_f_vals, block_size=blk_size)\n",
    "        mvng_est_blk_vals = block_doa(frm_val=mvng_est_f_vals, block_size=blk_size)\n",
    "\n",
    "        lbl_blk_doa, lbl_blk_range = block_lbl_doa(lbl_doa, block_size=blk_size)\n",
    "\n",
    "        mix_blk_vad = blk_vad(mix_sig_vad, blk_size)\n",
    "        tgt_blk_vad = blk_vad(tgt_sig_vad, blk_size)\n",
    "        est_blk_vad = blk_vad(est_sig_vad, blk_size)\n",
    "        mvng_blk_vad = blk_vad(mvng_est_sig_vad, blk_size)\n",
    "\n",
    "        mix_Acc = get_acc(np.array(tgt_blk_vad), np.array(mix_blk_vals), np.array(tgt_blk_vals))\n",
    "        est_Acc = get_acc(np.array(tgt_blk_vad), np.array(est_blk_vals), np.array(tgt_blk_vals))\n",
    "        mvng_est_Acc = get_acc(np.array(tgt_blk_vad), np.array(mvng_est_blk_vals), np.array(tgt_blk_vals))\n",
    "\n",
    "        mix_avg_lst.append(mix_Acc)\n",
    "        est_avg_lst.append(est_Acc)\n",
    "        mvng_avg_lst.append(mvng_est_Acc)\n",
    "\n",
    "    mvng_est_avg_metrics = np.array(mvng_est_metric_avg_lst)\n",
    "    est_avg_metrics = np.array(est_metric_avg_lst)\n",
    "    mix_avg_metrics = np.array(mix_metric_avg_lst)\n",
    "\n",
    "    mvng_est_Avg = np.mean(mvng_est_avg_metrics, axis=0)\n",
    "    est_Avg = np.mean(est_avg_metrics, axis=0)\n",
    "    mix_Avg = np.mean(mix_avg_metrics, axis=0)\n",
    "\n",
    "    mix_t60_lst.append(np.mean(np.array(mix_avg_lst)))\n",
    "    est_t60_lst.append(np.mean(np.array(est_avg_lst)))\n",
    "    mvng_t60_lst.append(np.mean(np.array(mvng_avg_lst)))\n",
    "\n",
    "    \n",
    "    mix_frm_t60_lst.append(np.mean(np.array(mix_frm_avg_lst)))\n",
    "    est_frm_t60_lst.append(np.mean(np.array(est_frm_avg_lst)))\n",
    "    mvng_frm_t60_lst.append(np.mean(np.array(mvng_frm_avg_lst)))"
   ]
  },
  {
   "cell_type": "code",
   "execution_count": null,
   "metadata": {},
   "outputs": [],
   "source": [
    "mix_Acc, est_Acc, mvng_est_Acc, mix_frm_Acc, est_frm_Acc, mvng_frm_Acc"
   ]
  },
  {
   "cell_type": "code",
   "execution_count": null,
   "metadata": {},
   "outputs": [],
   "source": [
    "mix_Avg, est_Avg, mvng_est_Avg"
   ]
  },
  {
   "cell_type": "code",
   "execution_count": null,
   "metadata": {},
   "outputs": [],
   "source": [
    "info['mix_metrics'], info['est_metrics'], info['mvng_est_metrics']"
   ]
  },
  {
   "cell_type": "code",
   "execution_count": null,
   "metadata": {},
   "outputs": [],
   "source": [
    "src_azimuth = np.degrees(cart2sph(traj_pts-array_pos)[:,2])\n",
    "src_azimuth_keys = np.round(np.where(src_azimuth<0, 360+src_azimuth, src_azimuth)).astype('int32')\t"
   ]
  },
  {
   "cell_type": "code",
   "execution_count": null,
   "metadata": {},
   "outputs": [],
   "source": [
    "src_azimuth, src_azimuth_keys, src_azimuth_keys-180"
   ]
  },
  {
   "cell_type": "code",
   "execution_count": null,
   "metadata": {},
   "outputs": [],
   "source": [
    "mvng_est_blk_vals, est_blk_vals"
   ]
  },
  {
   "cell_type": "code",
   "execution_count": null,
   "metadata": {},
   "outputs": [],
   "source": [
    "plt.figure()\n",
    "plt.plot(tgt_blk_vals,'b')\n",
    "plt.plot(est_blk_vals,'g')\n",
    "plt.plot(mvng_est_blk_vals,'r')\n",
    "plt.plot(mix_blk_vals, 'o')\n",
    "#plt.plot(src_azimuth, 'b+')"
   ]
  },
  {
   "cell_type": "code",
   "execution_count": null,
   "metadata": {},
   "outputs": [],
   "source": [
    "plt.figure()\n",
    "plt.plot(tgt_blk_vad,'b')\n",
    "plt.plot(est_blk_vad,'g')\n",
    "plt.plot(mvng_blk_vad,'r')\n",
    "plt.plot(mix_blk_vad, 'o')"
   ]
  },
  {
   "cell_type": "code",
   "execution_count": null,
   "metadata": {},
   "outputs": [],
   "source": [
    "np.array(tgt_blk_vals)-np.array(mvng_est_blk_vals), np.array(tgt_blk_vals)-np.array(est_blk_vals)"
   ]
  },
  {
   "cell_type": "code",
   "execution_count": 12,
   "metadata": {},
   "outputs": [
    {
     "name": "stdout",
     "output_type": "stream",
     "text": [
      "stationary 0.8518518518518519 0.9470899470899471\n",
      "tensor(105.) tensor(105) tensor(106)\n"
     ]
    }
   ],
   "source": [
    "#Rigorours doa analysis \n",
    "import torch\n",
    "import numpy as np\n",
    "batch_idx = 0\n",
    "tol = 7.5\n",
    "euclid_dist=True\n",
    "\n",
    "dataset_condition = \"reverb\"\n",
    "dataset_dtype = \"stationary\"\n",
    "app_str = f'{batch_idx}'\n",
    "t60=0.61\n",
    "\n",
    "#info =torch.load(f'../signals/real_rirs_dbg/doa_{batch_idx}_{t60}_dp_t60_0_train_MIMO_RI.pt', map_location=torch.device('cpu')) #tr_s_test_{dataset_dtype}_{dataset_condition}_{t60}doa_{app_str}.pt')\n",
    "info =torch.load(f'../signals/real_rirs_dbg/doa_{t60}_{batch_idx}_tol_{tol}deg_euclid_{euclid_dist}_4mic_rir_dp_t60_0_train_MIMO_RI_PD_mag_compression.pt', map_location=torch.device('cpu')) #tr_s_test_{dataset_dtype}_{dataset_condition}_{t60}doa_{app_str}.pt')\n",
    "#(mix_f_doa, mix_f_vals, mix_sig_vad, mix_utt_doa, mix_utt_sum) = info['mix']\n",
    "#(tgt_f_doa, tgt_f_vals, tgt_sig_vad, tgt_utt_doa, tgt_utt_sum) = info['tgt']\n",
    "#(est_f_doa, est_f_vals, est_sig_vad, est_utt_doa, est_utt_sum) = info['est']\n",
    "\n",
    "\n",
    "#ref_f_doa[0]\n",
    "\n",
    "(mix_f_doa, mix_f_vals, mix_utt_doa) = info['mix']\n",
    "(tgt_f_doa, tgt_f_vals, tgt_sig_vad, tgt_utt_doa) = info['tgt']  #, tgt_unweighted_freq_vals, tgt_freq_vals\n",
    "(est_f_doa, est_f_vals, est_utt_doa) = info['est'] #, est_unweighted_freq_vals, est_freq_vals\n",
    "\n",
    "doa = info['doa']\n",
    "ref_f_doa = torch.rad2deg(doa[:,:,-1])[0,:mix_f_doa.shape[0]]\n",
    "\n",
    "mix_frm_Acc = get_acc(np.array(tgt_sig_vad), np.array(mix_f_doa), np.array(tgt_f_doa),tol = tol, vad_th=0.6)\n",
    "est_frm_Acc = get_acc(np.array(tgt_sig_vad), np.array(est_f_doa), np.array(tgt_f_doa),tol = tol, vad_th=0.6)\n",
    "\n",
    "\n",
    "blk_size = 399 #25*15\n",
    "mix_blk_vals = block_doa(frm_val=mix_f_vals, block_size=blk_size)\n",
    "tgt_blk_vals = block_doa(frm_val=tgt_f_vals, block_size=blk_size)\n",
    "est_blk_vals = block_doa(frm_val=est_f_vals, block_size=blk_size)\n",
    "\n",
    "#lbl_blk_doa, lbl_blk_range = block_lbl_doa(lbl_doa, block_size=blk_size)\n",
    "tgt_blk_vad = blk_vad(tgt_sig_vad, blk_size)\n",
    "\n",
    "#mix_Acc = get_acc(np.array(tgt_blk_vad), np.array(mix_blk_vals), np.array(tgt_blk_vals))\n",
    "#est_Acc = get_acc(np.array(tgt_blk_vad), np.array(est_blk_vals), np.array(tgt_blk_vals))\n",
    "\n",
    "\n",
    "print(dataset_dtype, mix_frm_Acc, est_frm_Acc) #, mix_Acc, est_Acc)\n",
    "print(ref_f_doa[0], mix_utt_doa, est_utt_doa)"
   ]
  },
  {
   "cell_type": "code",
   "execution_count": 13,
   "metadata": {},
   "outputs": [
    {
     "data": {
      "text/plain": [
       "[<matplotlib.lines.Line2D at 0x2b0586bf7b80>]"
      ]
     },
     "execution_count": 13,
     "metadata": {},
     "output_type": "execute_result"
    },
    {
     "data": {
      "image/png": "[encoded data removed]",
      "text/plain": [
       "<Figure size 432x288 with 1 Axes>"
      ]
     },
     "metadata": {
      "needs_background": "light"
     },
     "output_type": "display_data"
    },
    {
     "data": {
      "image/png": "[encoded data removed]",
      "text/plain": [
       "<Figure size 432x288 with 1 Axes>"
      ]
     },
     "metadata": {
      "needs_background": "light"
     },
     "output_type": "display_data"
    },
    {
     "data": {
      "image/png": "[encoded data removed]",
      "text/plain": [
       "<Figure size 432x288 with 1 Axes>"
      ]
     },
     "metadata": {
      "needs_background": "light"
     },
     "output_type": "display_data"
    },
    {
     "data": {
      "image/png": "[encoded data removed]",
      "text/plain": [
       "<Figure size 432x288 with 1 Axes>"
      ]
     },
     "metadata": {
      "needs_background": "light"
     },
     "output_type": "display_data"
    }
   ],
   "source": [
    "plt.plot(mix_f_doa,'g')\n",
    "plt.figure()\n",
    "plt.plot(tgt_f_doa,'b')\n",
    "plt.figure()\n",
    "plt.plot(est_f_doa,'r')\n",
    "plt.figure()\n",
    "plt.plot(ref_f_doa)\n",
    "plt.plot(np.array(tgt_sig_vad)*185)"
   ]
  },
  {
   "cell_type": "code",
   "execution_count": null,
   "metadata": {},
   "outputs": [],
   "source": [
    "np.where(np.abs(est_f_doa-ref_f_doa)>5)"
   ]
  },
  {
   "cell_type": "code",
   "execution_count": null,
   "metadata": {},
   "outputs": [],
   "source": [
    "plt.plot(np.abs(est_f_doa-ref_f_doa))"
   ]
  },
  {
   "cell_type": "code",
   "execution_count": null,
   "metadata": {},
   "outputs": [],
   "source": [
    "tgt_freq_vals[0].shape"
   ]
  },
  {
   "cell_type": "code",
   "execution_count": null,
   "metadata": {},
   "outputs": [],
   "source": [
    "frm = 70\n",
    "print(np.argmax(tgt_f_vals[:, frm]), (np.argmax(est_f_vals[:, frm])))\n",
    "plt.plot(tgt_f_vals[:, frm], 'b')\n",
    "plt.plot(est_f_vals[:, frm], 'r')"
   ]
  },
  {
   "cell_type": "code",
   "execution_count": null,
   "metadata": {},
   "outputs": [],
   "source": [
    "frm = 70\n",
    "freq_end = 43 #160\n",
    "#theta = 105\n",
    "for theta in range(0,180,15):\n",
    "    plt.plot(tgt_unweighted_freq_vals[theta][frm,:], 'b')\n",
    "    plt.plot(est_unweighted_freq_vals[theta][frm,:], 'r')\n",
    "    print(theta, torch.sum(est_unweighted_freq_vals[theta][frm,:]), torch.sum(est_unweighted_freq_vals[theta][frm,:freq_end]))\n",
    "    plt.title(theta)\n",
    "    plt.figure()"
   ]
  },
  {
   "cell_type": "code",
   "execution_count": null,
   "metadata": {},
   "outputs": [],
   "source": [
    "frm = 43\n",
    "#theta = 105\n",
    "for theta in range(0,180,15):\n",
    "    plt.plot(tgt_freq_vals[theta][frm,:], 'b')\n",
    "    plt.plot(est_freq_vals[theta][frm,:], 'r')\n",
    "    print(theta, torch.sum(est_freq_vals[theta][frm,:]), torch.sum(est_freq_vals[theta][frm,:freq_end]))\n",
    "    plt.title(theta)\n",
    "    plt.figure()\n",
    "    #plt.pause(0.5)"
   ]
  },
  {
   "cell_type": "code",
   "execution_count": null,
   "metadata": {},
   "outputs": [],
   "source": [
    "mix_blk_vals, tgt_blk_vals, est_blk_vals"
   ]
  },
  {
   "cell_type": "code",
   "execution_count": null,
   "metadata": {},
   "outputs": [],
   "source": [
    "doa = info['doa']\n",
    "ref_f_doa = torch.rad2deg(doa[:,:,-1])[0,:mix_f_doa.shape[0]]\n",
    "ref_f_doa[0]"
   ]
  },
  {
   "cell_type": "code",
   "execution_count": null,
   "metadata": {},
   "outputs": [],
   "source": [
    "mix_frm_Acc = get_acc(np.array(tgt_sig_vad), np.array(mix_f_doa), np.array(ref_f_doa),tol = 5, vad_th=0.6)\n",
    "est_frm_Acc = get_acc(np.array(tgt_sig_vad), np.array(est_f_doa), np.array(ref_f_doa),tol = 5, vad_th=0.6)\n",
    "\n",
    "print(dataset_dtype, mix_frm_Acc, est_frm_Acc)"
   ]
  },
  {
   "cell_type": "code",
   "execution_count": null,
   "metadata": {},
   "outputs": [],
   "source": [
    "#plt.plot(tgt_f_doa)\n",
    "plt.plot(est_f_doa)\n",
    "plt.plot(ref_f_doa)\n",
    "plt.plot(np.array(tgt_sig_vad)*185)\n",
    "plt.figure()\n",
    "plt.plot(tgt_blk_vals)\n",
    "plt.plot(est_blk_vals)\n",
    "#plt.plot(ref_f_doa[0]*np.ones(len(est_blk_vals)))"
   ]
  },
  {
   "cell_type": "code",
   "execution_count": null,
   "metadata": {},
   "outputs": [],
   "source": [
    "est_f_vals.shape"
   ]
  },
  {
   "cell_type": "code",
   "execution_count": null,
   "metadata": {},
   "outputs": [],
   "source": [
    "frm = 65\n",
    "plt.plot(tgt_f_vals[:,frm])"
   ]
  },
  {
   "cell_type": "code",
   "execution_count": null,
   "metadata": {},
   "outputs": [],
   "source": [
    "import torchaudio\n",
    "from masked_gcc_phat import compute_vad\n",
    "tgt_sig, fs = torchaudio.load(f'../signals/real_rirs_dbg/tgt_{batch_idx}.wav')\n",
    "est_sig, fs = torchaudio.load(f'../signals/real_rirs_dbg/est_{batch_idx}.wav')\n",
    "frame_size, frame_shift= 320,160\n",
    "sig_vad_1 = compute_vad(tgt_sig[0,:].cpu().numpy(), frame_size, frame_shift)\n",
    "sig_vad_2 = compute_vad(tgt_sig[1,:].cpu().numpy(), frame_size, frame_shift)\n",
    "tgt_sig_vad_c = sig_vad_1*sig_vad_2\n",
    "tgt_sig_vad_c = tgt_sig_vad_c\n",
    "\n",
    "sig_vad_1 = compute_vad(est_sig[0,:].cpu().numpy(), frame_size, frame_shift)\n",
    "sig_vad_2 = compute_vad(est_sig[1,:].cpu().numpy(), frame_size, frame_shift)\n",
    "est_sig_vad = sig_vad_1*sig_vad_2\n",
    "est_sig_vad = est_sig_vad\n",
    "\n",
    "\n",
    "#plt.plot(tgt_sig_vad_c)\n",
    "plt.plot(0.8*tgt_sig_vad)\n",
    "plt.plot(est_sig_vad)\n",
    "plt.plot()"
   ]
  },
  {
   "cell_type": "code",
   "execution_count": null,
   "metadata": {},
   "outputs": [],
   "source": [
    "mix_frm_Acc = get_acc(np.array(est_sig_vad), np.array(mix_f_doa), np.array(ref_f_doa),tol = 5, vad_th=0.6)\n",
    "est_frm_Acc = get_acc(np.array(est_sig_vad), np.array(est_f_doa), np.array(ref_f_doa),tol = 5, vad_th=0.6)\n",
    "\n",
    "print(dataset_dtype, mix_frm_Acc, est_frm_Acc)"
   ]
  },
  {
   "cell_type": "code",
   "execution_count": null,
   "metadata": {},
   "outputs": [],
   "source": [
    "25*16"
   ]
  },
  {
   "cell_type": "code",
   "execution_count": null,
   "metadata": {},
   "outputs": [],
   "source": [
    "direction_act = 165\n",
    "theta_act = (direction_act)/180.0*torch.pi \n",
    "act_d = np.sqrt(1.0016 - 0.08*np.cos(theta_act)) - np.sqrt(1.0016 + 0.08*np.cos(theta_act))\n",
    "\n",
    "diff_omg_64 = []\n",
    "diff_omg_32 = []\n",
    "for idx in range(0, 257):\n",
    "    omg = 2*torch.pi*16000*1.0/320*idx\n",
    "    diff_t = []\n",
    "    diff_t_32 = []\n",
    "\n",
    "    for direction in range(0, 180):\n",
    "        theta  = (direction)/180.0*torch.pi \n",
    "        ph_diff = 1*np.cos( omg*(  act_d - ( np.sqrt(1.0016 - 0.08*np.cos(theta)) - np.sqrt(1.0016 + 0.08*np.cos(theta))))/343 )\n",
    "        diff_t.append(ph_diff)\n",
    "        diff_t_32.append(ph_diff.astype(np.float32))\n",
    "\n",
    "    diff_omg_64.append(diff_t)\n",
    "    diff_omg_32.append(diff_t_32)\n",
    "    #plt.plot(diff_t)\n",
    "    #plt.pause(0.1)"
   ]
  },
  {
   "cell_type": "code",
   "execution_count": null,
   "metadata": {},
   "outputs": [],
   "source": [
    "np.argmax(diff_omg[20])"
   ]
  },
  {
   "cell_type": "code",
   "execution_count": null,
   "metadata": {},
   "outputs": [],
   "source": [
    "print(diff_omg_64[20][150:])"
   ]
  },
  {
   "cell_type": "code",
   "execution_count": null,
   "metadata": {},
   "outputs": [],
   "source": [
    "print(diff_omg_32[20][150:])"
   ]
  },
  {
   "cell_type": "code",
   "execution_count": null,
   "metadata": {},
   "outputs": [],
   "source": [
    "diff_omg[20][165].dtype"
   ]
  },
  {
   "cell_type": "code",
   "execution_count": null,
   "metadata": {},
   "outputs": [],
   "source": [
    "est_f_vals.dtype"
   ]
  },
  {
   "cell_type": "code",
   "execution_count": null,
   "metadata": {},
   "outputs": [],
   "source": [
    "frm = 70\n",
    "freq_end = 43 #160\n",
    "#theta = 105\n",
    "incl_spatial_aliasing_lst = []\n",
    "excl_spatial_aliasing_lst = []\n",
    "\n",
    "for theta in range(0,180,1):\n",
    "    #plt.plot(tgt_unweighted_freq_vals[theta][frm,:], 'b')\n",
    "    #plt.plot(est_unweighted_freq_vals[theta][frm,:], 'r')\n",
    "    incl_spatial_aliasing_lst.append(torch.sum(tgt_freq_vals[theta][frm,:]))\n",
    "    excl_spatial_aliasing_lst.append(torch.sum(tgt_freq_vals[theta][frm,:freq_end]))\n",
    "    #print(theta, torch.sum(est_unweighted_freq_vals[theta][frm,:]), torch.sum(est_unweighted_freq_vals[theta][frm,:freq_end]))\n",
    "    #plt.title(theta)\n",
    "    #plt.figure()\n",
    "\n",
    "plt.plot(incl_spatial_aliasing_lst,'b')\n",
    "plt.plot(excl_spatial_aliasing_lst, 'r')"
   ]
  },
  {
   "cell_type": "code",
   "execution_count": null,
   "metadata": {},
   "outputs": [],
   "source": [
    "torch.sum(est_unweighted_freq_vals[theta][frm,:]), torch.sum(est_unweighted_freq_vals[theta][frm,:freq_end]), torch.sum(est_unweighted_freq_vals[theta][frm,freq_end:])"
   ]
  },
  {
   "cell_type": "code",
   "execution_count": null,
   "metadata": {},
   "outputs": [],
   "source": [
    "print(est_unweighted_freq_vals[theta][frm,:freq_end])"
   ]
  },
  {
   "cell_type": "code",
   "execution_count": null,
   "metadata": {},
   "outputs": [],
   "source": [
    "print(est_unweighted_freq_vals[theta][frm,:])"
   ]
  },
  {
   "cell_type": "code",
   "execution_count": null,
   "metadata": {},
   "outputs": [],
   "source": []
  },
  {
   "cell_type": "code",
   "execution_count": 23,
   "metadata": {},
   "outputs": [
    {
     "name": "stdout",
     "output_type": "stream",
     "text": [
      "stationary 0.49828178694158076 0.5154639175257731\n",
      "tensor(82.) tensor(85.) tensor(86.)\n"
     ]
    }
   ],
   "source": [
    "# mimo loss doa_comparison\n",
    "#Rigorours doa analysis \n",
    "import torch\n",
    "import numpy as np\n",
    "batch_idx = 4\n",
    "tol = 5.0\n",
    "euclid_dist=True\n",
    "\n",
    "dataset_condition = \"reverb\"\n",
    "dataset_dtype = \"stationary\"\n",
    "app_str = f'{batch_idx}'\n",
    "t60=1.0\n",
    "\n",
    "#info =torch.load(f'../signals/real_rirs_dbg/doa_{batch_idx}_{t60}_dp_t60_0_train_MIMO_RI.pt', map_location=torch.device('cpu')) #tr_s_test_{dataset_dtype}_{dataset_condition}_{t60}doa_{app_str}.pt')\n",
    "info =torch.load(f'../signals/simu_rirs_dbg/loss_function_comparison/doa_{t60}_{batch_idx}_0_tol_{tol}deg_euclid_{euclid_dist}.pt', map_location=torch.device('cpu')) #tr_s_test_{dataset_dtype}_{dataset_condition}_{t60}doa_{app_str}.pt')\n",
    "info_1 =torch.load(f'../signals/simu_rirs_dbg/loss_function_comparison/doa_{t60}_{batch_idx}_1_tol_{tol}deg_euclid_{euclid_dist}.pt', map_location=torch.device('cpu')) #tr_s_test_{dataset_dtype}_{dataset_condition}_{t60}doa_{app_str}.pt')\n",
    "#(mix_f_doa, mix_f_vals, mix_sig_vad, mix_utt_doa, mix_utt_sum) = info['mix']\n",
    "#(tgt_f_doa, tgt_f_vals, tgt_sig_vad, tgt_utt_doa, tgt_utt_sum) = info['tgt']\n",
    "#(est_f_doa, est_f_vals, est_sig_vad, est_utt_doa, est_utt_sum) = info['est']\n",
    "\n",
    "\n",
    "#ref_f_doa[0]\n",
    "\n",
    "(mix_f_doa, mix_f_vals, mix_utt_doa) = info['mix']\n",
    "(tgt_f_doa, tgt_f_vals, tgt_sig_vad, tgt_utt_doa, _, _) = info['tgt']  #, tgt_unweighted_freq_vals, tgt_freq_vals\n",
    "(est_f_doa, est_f_vals, est_utt_doa, _, _) = info['est'] #, est_unweighted_freq_vals, est_freq_vals\n",
    "\n",
    "(est_f_doa_1, est_f_vals_1, est_utt_doa_1, _, _) = info_1['est'] #, est_unweighted_freq_vals, est_freq_vals\n",
    "\n",
    "doa = info['doa']\n",
    "ref_f_doa = torch.rad2deg(doa[:,:,-1])[0,:mix_f_doa.shape[0]]\n",
    "\n",
    "mix_frm_Acc = get_acc(np.array(tgt_sig_vad), np.array(mix_f_doa), np.array(tgt_f_doa),tol = tol, vad_th=0.6)\n",
    "est_frm_Acc = get_acc(np.array(tgt_sig_vad), np.array(est_f_doa), np.array(tgt_f_doa),tol = tol, vad_th=0.6)\n",
    "\n",
    "\n",
    "#mix_Acc = get_acc(np.array(tgt_blk_vad), np.array(mix_blk_vals), np.array(tgt_blk_vals))\n",
    "#est_Acc = get_acc(np.array(tgt_blk_vad), np.array(est_blk_vals), np.array(tgt_blk_vals))\n",
    "\n",
    "\n",
    "print(dataset_dtype, mix_frm_Acc, est_frm_Acc) #, mix_Acc, est_Acc)\n",
    "print(ref_f_doa[0], mix_utt_doa, est_utt_doa)"
   ]
  },
  {
   "cell_type": "code",
   "execution_count": 24,
   "metadata": {},
   "outputs": [
    {
     "data": {
      "text/plain": [
       "[<matplotlib.lines.Line2D at 0x2ad457dd8100>]"
      ]
     },
     "execution_count": 24,
     "metadata": {},
     "output_type": "execute_result"
    },
    {
     "data": {
      "image/png": "[encoded data removed]",
      "text/plain": [
       "<Figure size 432x288 with 1 Axes>"
      ]
     },
     "metadata": {
      "needs_background": "light"
     },
     "output_type": "display_data"
    }
   ],
   "source": [
    "plt.plot(est_f_doa)\n",
    "plt.plot(est_f_doa_1)\n",
    "plt.plot(tgt_f_doa)\n",
    "plt.plot(torch.abs(ref_f_doa))\n",
    "plt.plot(180-torch.abs(ref_f_doa))"
   ]
  },
  {
   "cell_type": "code",
   "execution_count": null,
   "metadata": {},
   "outputs": [],
   "source": []
  }
 ],
 "metadata": {
  "kernelspec": {
   "display_name": "Python 3",
   "language": "python",
   "name": "python3"
  },
  "language_info": {
   "codemirror_mode": {
    "name": "ipython",
    "version": 3
   },
   "file_extension": ".py",
   "mimetype": "text/x-python",
   "name": "python",
   "nbconvert_exporter": "python",
   "pygments_lexer": "ipython3",
   "version": "3.9.12"
  },
  "orig_nbformat": 4,
  "vscode": {
   "interpreter": {
    "hash": "cde53d7349beaae5d7a625a85fe419217ba153c821d6b2dfbd2efee3f9bcce3f"
   }
  }
 },
 "nbformat": 4,
 "nbformat_minor": 2
}
