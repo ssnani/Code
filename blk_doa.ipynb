{
 "cells": [
  {
   "cell_type": "code",
   "execution_count": 1,
   "metadata": {},
   "outputs": [],
   "source": [
    "import torch\n",
    "import matplotlib.pyplot as plt\n",
    "import numpy as np"
   ]
  },
  {
   "cell_type": "code",
   "execution_count": 2,
   "metadata": {},
   "outputs": [],
   "source": [
    "def cart2sph(cart):\n",
    "\txy2 = cart[:,0]**2 + cart[:,1]**2\n",
    "\tsph = np.zeros_like(cart)\n",
    "\tsph[:,0] = np.sqrt(xy2 + cart[:,2]**2)\n",
    "\tsph[:,1] = np.arctan2(np.sqrt(xy2), cart[:,2]) # Elevation angle defined from Z-axis down\n",
    "\tsph[:,2] = np.arctan2(cart[:,1], cart[:,0])\n",
    "\treturn sph"
   ]
  },
  {
   "cell_type": "code",
   "execution_count": 3,
   "metadata": {},
   "outputs": [],
   "source": [
    "def block_doa(frm_val, block_size):\n",
    "    n_blocks = frm_val.shape[1]// block_size + 1\n",
    "\n",
    "    blk_doas = []\n",
    "    blk_start = 0\n",
    "    for blk_idx in range(0, n_blocks):\n",
    "\n",
    "        if blk_idx < n_blocks-1:\n",
    "            blk_end = blk_start + block_size\n",
    "        else:\n",
    "            blk_end = blk_start + frm_val.shape[1]\n",
    "\n",
    "        blk_sum = torch.sum(frm_val[:,blk_start:blk_end],dim=1)\n",
    "        blk_doa_idx = torch.argmax(blk_sum)\n",
    "        blk_doa = blk_doa_idx\n",
    "\n",
    "        blk_start = blk_end\n",
    "\n",
    "        blk_doas.append(blk_doa)\n",
    "\n",
    "    return blk_doas\n",
    "\n",
    "#for now taking absolute inside the block\n",
    "def block_lbl_doa(lbl_doa, block_size):\n",
    "    #assuming lbl_doa [r, elv, azi] : (1, frms, 3)\n",
    "    n_blocks = lbl_doa.shape[1]// block_size + 1\n",
    "\n",
    "    blk_doas = []\n",
    "    blk_range = []\n",
    "    blk_start = 0\n",
    "    for blk_idx in range(0, n_blocks):\n",
    "        if blk_idx < n_blocks-1:\n",
    "            blk_end = blk_start + block_size\n",
    "        else:\n",
    "            blk_end = blk_start + lbl_doa.shape[1]\n",
    "\n",
    "        blk_doa = torch.mean(torch.abs(lbl_doa[:,blk_start:blk_end, : ]),dim=1)\n",
    "\n",
    "        blk_start = blk_end\n",
    "        blk_doas.append(torch.rad2deg(blk_doa[:,2])) # azimuth\n",
    "        blk_range.append(blk_doa[:,0]) # range\n",
    "\n",
    "    return blk_doas, blk_range\n",
    "\n",
    "\n",
    "def blk_vad(frm_level_vad, block_size):\n",
    "    #assuming frm_level_vad : (frms)\n",
    "    n_blocks = frm_level_vad.shape[0]// block_size + 1\n",
    "\n",
    "    frm_level_vad = 1.0*frm_level_vad\n",
    "    blk_vads = []\n",
    "    blk_start = 0\n",
    "    for blk_idx in range(0, n_blocks):\n",
    "        if blk_idx < n_blocks-1:\n",
    "            blk_end = blk_start + block_size\n",
    "        else:\n",
    "            blk_end = blk_start + frm_level_vad.shape[0]\n",
    "\n",
    "        _blk_vad = torch.mean(frm_level_vad[blk_start:blk_end])\n",
    "\n",
    "        blk_start = blk_end\n",
    "        blk_vads.append(_blk_vad)\n",
    "    return blk_vads\n"
   ]
  },
  {
   "cell_type": "code",
   "execution_count": 4,
   "metadata": {},
   "outputs": [],
   "source": [
    "tol = 5\n",
    "\n",
    "def get_acc(est_vad, est_blk_val, tgt_blk_val, tol=5, vad_th=0.6):\n",
    "    n_blocks = len(est_vad)\n",
    "    non_vad_blks =[]\n",
    "    acc=0\n",
    "    valid_blk_count = 0\n",
    "    for idx in range(0, n_blocks):\n",
    "        if est_vad[idx] >=vad_th:\n",
    "            if (np.abs(est_blk_val[idx] - np.abs(tgt_blk_val[idx])) <= tol):\n",
    "                acc += 1\n",
    "            valid_blk_count +=1\n",
    "        else:\n",
    "            non_vad_blks.append(idx)\n",
    "\n",
    "    acc /= valid_blk_count\n",
    "    \n",
    "    #print(f'n_blocks: {n_blocks}, non_vad_blks: {non_vad_blks}')\n",
    "    return acc\n",
    "\n"
   ]
  },
  {
   "cell_type": "code",
   "execution_count": 5,
   "metadata": {},
   "outputs": [
    {
     "name": "stdout",
     "output_type": "stream",
     "text": [
      " Noise range: [1.], elevation: [90.], azimuth : [-178.]\n"
     ]
    }
   ],
   "source": [
    "scenario = \"source_moving\"\n",
    "snr =  -5\n",
    "t60 = 0.2\n",
    "src_mic_dist = 1.0\n",
    "noi_mic_dist = 1.0\n",
    "\n",
    "idx=0\n",
    "#read the config file\n",
    "#\n",
    "scratch_dir='/scratch/bbje/battula12/ControlledExp/Testing/Scenario_Comparision/'\n",
    "file_path = f'../val_dataset_file_circular_motion_snr_{snr}_t60_{t60}.txt' #dataset_file_10sec.txt'\n",
    "\n",
    "with open(file_path) as f:\n",
    "    configs_lst = [line.strip().split(',')[-1] for line in f.readlines()]\n",
    "\n",
    "\n",
    "config_file = configs_lst[idx]\n",
    "\n",
    "cfg = torch.load(config_file)\n",
    "\n",
    "config_dict = cfg #circular_motion_config_dict\n",
    "room_sz = config_dict['room_sz']\n",
    "mic_pos = config_dict['mic_pos']\n",
    "traj_pts= config_dict['src_traj_pts']\n",
    "noise_pos= config_dict['noise_pos']\n",
    "T60= config_dict['t60']\n",
    "SNR= config_dict['snr']\n",
    "\n",
    "noise_pos =  np.expand_dims(noise_pos, axis=0) if len(noise_pos.shape) == 1 else noise_pos\n",
    "\n",
    "\n",
    "array_pos = np.mean(mic_pos, axis=0, keepdims=True)\n",
    "noise_spherical = cart2sph(noise_pos-array_pos)\n",
    "\n",
    "#range motion of source\n",
    "print(f' Noise range: {noise_spherical[:,0]}, elevation: {np.degrees(noise_spherical[:,1])}, azimuth : {np.degrees(noise_spherical[:,2]) }')\n",
    "\n",
    "\n",
    "mix_t60_lst = []\n",
    "est_t60_lst = []\n",
    "mvng_t60_lst = []\n",
    "\n",
    "mix_frm_t60_lst = []\n",
    "est_frm_t60_lst = []\n",
    "mvng_frm_t60_lst = []\n",
    "\n",
    "for t60 in [0.2]:\n",
    "    mix_avg_lst = []\n",
    "    est_avg_lst = []\n",
    "    mvng_avg_lst = []\n",
    "\n",
    "    mix_metric_avg_lst = []\n",
    "    est_metric_avg_lst = []\n",
    "    mvng_est_metric_avg_lst = []\n",
    "    \n",
    "    mix_frm_avg_lst = []\n",
    "    est_frm_avg_lst = []\n",
    "    mvng_frm_avg_lst = []\n",
    "    pp_str = f'{scratch_dir}signals/{scenario}/from_val_dataset_circular_motion_snr_{snr}_t60_{t60}_src_mic_dist_{src_mic_dist}_noi_mic_dist_{noi_mic_dist}/'  #from_dataset_file_10sec/v2/'\n",
    "    for batch_idx in range(0, 640): #idx, idx+1\n",
    "        app_str = f'{batch_idx}'\n",
    "\n",
    "        #app_str = f'sp_{static_prob}_nlp_{non_linear_motion_prob}_snr_{test_snr}_t60_{test_t60}_nb_points_{nb_points}'\n",
    "\n",
    "        info = torch.load(f'{pp_str}doa_{app_str}.pt')\n",
    "\n",
    "        #### \n",
    "        mix_metrics = info['mix_metrics']\n",
    "        est_metrics = info['est_metrics']\n",
    "        mvng_est_metrics = info['mvng_est_metrics']\n",
    "\n",
    "        est_metrics = list(est_metrics.values())\n",
    "        mix_metrics = list(mix_metrics.values())\n",
    "        mvng_est_metrics = list(mvng_est_metrics.values())\n",
    "\n",
    "        \n",
    "        est_metric_avg_lst.append(est_metrics)\n",
    "        mix_metric_avg_lst.append(mix_metrics)\n",
    "        mvng_est_metric_avg_lst.append(mvng_est_metrics)\n",
    "\n",
    "\n",
    "\n",
    "        (mix_f_doa, mix_f_vals, mix_sig_vad, mix_utt_doa, mix_utt_sum) = info['mix']\n",
    "        (tgt_f_doa, tgt_f_vals, tgt_sig_vad, tgt_utt_doa, tgt_utt_sum) = info['tgt']\n",
    "        (est_f_doa, est_f_vals, est_sig_vad, est_utt_doa, est_utt_sum) = info['est']\n",
    "        (mvng_est_f_doa, mvng_est_f_vals, mvng_est_sig_vad, mvng_est_utt_doa, mvng_est_utt_sum) = info['mvng_est']\n",
    "        lbl_doa = info['lbl_doa']\n",
    "\n",
    "\n",
    "        mix_frm_Acc = get_acc(np.array(tgt_sig_vad), np.array(mix_f_doa), np.array(tgt_f_doa),vad_th=0.6)\n",
    "        est_frm_Acc = get_acc(np.array(tgt_sig_vad), np.array(est_f_doa), np.array(tgt_f_doa),vad_th=0.6)\n",
    "        mvng_frm_Acc = get_acc(np.array(tgt_sig_vad), np.array(mvng_est_f_doa), np.array(tgt_f_doa),vad_th=0.6)\n",
    "\n",
    "\n",
    "        mix_frm_avg_lst.append(mix_frm_Acc)\n",
    "        est_frm_avg_lst.append(est_frm_Acc)\n",
    "        mvng_frm_avg_lst.append(mvng_frm_Acc)\n",
    "        \n",
    "\n",
    "        blk_size = 25\n",
    "        mix_blk_vals = block_doa(frm_val=mix_f_vals, block_size=blk_size)\n",
    "        tgt_blk_vals = block_doa(frm_val=tgt_f_vals, block_size=blk_size)\n",
    "        est_blk_vals = block_doa(frm_val=est_f_vals, block_size=blk_size)\n",
    "        mvng_est_blk_vals = block_doa(frm_val=mvng_est_f_vals, block_size=blk_size)\n",
    "\n",
    "        lbl_blk_doa, lbl_blk_range = block_lbl_doa(lbl_doa, block_size=blk_size)\n",
    "\n",
    "        mix_blk_vad = blk_vad(mix_sig_vad, blk_size)\n",
    "        tgt_blk_vad = blk_vad(tgt_sig_vad, blk_size)\n",
    "        est_blk_vad = blk_vad(est_sig_vad, blk_size)\n",
    "        mvng_blk_vad = blk_vad(mvng_est_sig_vad, blk_size)\n",
    "\n",
    "        mix_Acc = get_acc(np.array(tgt_blk_vad), np.array(mix_blk_vals), np.array(tgt_blk_vals))\n",
    "        est_Acc = get_acc(np.array(tgt_blk_vad), np.array(est_blk_vals), np.array(tgt_blk_vals))\n",
    "        mvng_est_Acc = get_acc(np.array(tgt_blk_vad), np.array(mvng_est_blk_vals), np.array(tgt_blk_vals))\n",
    "\n",
    "        mix_avg_lst.append(mix_Acc)\n",
    "        est_avg_lst.append(est_Acc)\n",
    "        mvng_avg_lst.append(mvng_est_Acc)\n",
    "\n",
    "    mvng_est_avg_metrics = np.array(mvng_est_metric_avg_lst)\n",
    "    est_avg_metrics = np.array(est_metric_avg_lst)\n",
    "    mix_avg_metrics = np.array(mix_metric_avg_lst)\n",
    "\n",
    "    mvng_est_Avg = np.mean(mvng_est_avg_metrics, axis=0)\n",
    "    est_Avg = np.mean(est_avg_metrics, axis=0)\n",
    "    mix_Avg = np.mean(mix_avg_metrics, axis=0)\n",
    "\n",
    "    mix_t60_lst.append(np.mean(np.array(mix_avg_lst)))\n",
    "    est_t60_lst.append(np.mean(np.array(est_avg_lst)))\n",
    "    mvng_t60_lst.append(np.mean(np.array(mvng_avg_lst)))\n",
    "\n",
    "    \n",
    "    mix_frm_t60_lst.append(np.mean(np.array(mix_frm_avg_lst)))\n",
    "    est_frm_t60_lst.append(np.mean(np.array(est_frm_avg_lst)))\n",
    "    mvng_frm_t60_lst.append(np.mean(np.array(mvng_frm_avg_lst)))"
   ]
  },
  {
   "cell_type": "code",
   "execution_count": 6,
   "metadata": {},
   "outputs": [
    {
     "data": {
      "text/plain": [
       "(0.3333333333333333,\n",
       " 0.5,\n",
       " 0.5833333333333334,\n",
       " 0.24299065420560748,\n",
       " 0.2803738317757009,\n",
       " 0.3395638629283489)"
      ]
     },
     "execution_count": 6,
     "metadata": {},
     "output_type": "execute_result"
    }
   ],
   "source": [
    "mix_Acc, est_Acc, mvng_est_Acc, mix_frm_Acc, est_frm_Acc, mvng_frm_Acc"
   ]
  },
  {
   "cell_type": "code",
   "execution_count": 7,
   "metadata": {},
   "outputs": [
    {
     "data": {
      "text/plain": [
       "(array([-6.00681323, -6.03550759,  1.41079591,  1.0577853 ,  0.60732904,\n",
       "         0.35587946]),\n",
       " array([6.38475613, 5.36693531, 2.30170005, 1.39591886, 0.82569725,\n",
       "        0.65783662]),\n",
       " array([6.35395166, 5.36960058, 2.30795499, 1.39779006, 0.82565282,\n",
       "        0.65779185]))"
      ]
     },
     "execution_count": 7,
     "metadata": {},
     "output_type": "execute_result"
    }
   ],
   "source": [
    "mix_Avg, est_Avg, mvng_est_Avg"
   ]
  },
  {
   "cell_type": "code",
   "execution_count": 8,
   "metadata": {},
   "outputs": [
    {
     "data": {
      "text/plain": [
       "({'snr': -6.00355771162421,\n",
       "  'si_snr': -5.658256979307592,\n",
       "  'pesq_nb': 1.2158073126084024,\n",
       "  'pesq_wb': 1.0328297563409783,\n",
       "  'stoi': 0.5078695358747172,\n",
       "  'e_stoi': 0.20249734583532839},\n",
       " {'snr': 5.754544110135666,\n",
       "  'si_snr': 4.5878636607612435,\n",
       "  'pesq_nb': 2.2900872116025424,\n",
       "  'pesq_wb': 1.3968142797247605,\n",
       "  'stoi': 0.7764130517115503,\n",
       "  'e_stoi': 0.549517355485822},\n",
       " {'snr': 5.818127364631898,\n",
       "  'si_snr': 4.688763147990587,\n",
       "  'pesq_nb': 2.22408508142413,\n",
       "  'pesq_wb': 1.3954157759513879,\n",
       "  'stoi': 0.7654671870377318,\n",
       "  'e_stoi': 0.5341782637905006})"
      ]
     },
     "execution_count": 8,
     "metadata": {},
     "output_type": "execute_result"
    }
   ],
   "source": [
    "info['mix_metrics'], info['est_metrics'], info['mvng_est_metrics']"
   ]
  },
  {
   "cell_type": "code",
   "execution_count": 9,
   "metadata": {},
   "outputs": [],
   "source": [
    "src_azimuth = np.degrees(cart2sph(traj_pts-array_pos)[:,2])\n",
    "src_azimuth_keys = np.round(np.where(src_azimuth<0, 360+src_azimuth, src_azimuth)).astype('int32')\t"
   ]
  },
  {
   "cell_type": "code",
   "execution_count": 10,
   "metadata": {},
   "outputs": [
    {
     "data": {
      "text/plain": [
       "(array([-163., -151., -139., -128., -116., -104.,  -92.,  -80.,  -69.,\n",
       "         -57.,  -45.,  -33.,  -21.,  -10.,    2.,   14.]),\n",
       " array([197, 209, 221, 232, 244, 256, 268, 280, 291, 303, 315, 327, 339,\n",
       "        350,   2,  14], dtype=int32),\n",
       " array([  17,   29,   41,   52,   64,   76,   88,  100,  111,  123,  135,\n",
       "         147,  159,  170, -178, -166], dtype=int32))"
      ]
     },
     "execution_count": 10,
     "metadata": {},
     "output_type": "execute_result"
    }
   ],
   "source": [
    "src_azimuth, src_azimuth_keys, src_azimuth_keys-180"
   ]
  },
  {
   "cell_type": "code",
   "execution_count": 11,
   "metadata": {},
   "outputs": [
    {
     "data": {
      "text/plain": [
       "([tensor(70),\n",
       "  tensor(98),\n",
       "  tensor(110),\n",
       "  tensor(104),\n",
       "  tensor(88),\n",
       "  tensor(93),\n",
       "  tensor(81),\n",
       "  tensor(77),\n",
       "  tensor(72),\n",
       "  tensor(69),\n",
       "  tensor(64),\n",
       "  tensor(64),\n",
       "  tensor(57),\n",
       "  tensor(70),\n",
       "  tensor(0),\n",
       "  tensor(35)],\n",
       " [tensor(71),\n",
       "  tensor(92),\n",
       "  tensor(109),\n",
       "  tensor(103),\n",
       "  tensor(88),\n",
       "  tensor(92),\n",
       "  tensor(80),\n",
       "  tensor(75),\n",
       "  tensor(71),\n",
       "  tensor(66),\n",
       "  tensor(64),\n",
       "  tensor(64),\n",
       "  tensor(57),\n",
       "  tensor(0),\n",
       "  tensor(0),\n",
       "  tensor(35)])"
      ]
     },
     "execution_count": 11,
     "metadata": {},
     "output_type": "execute_result"
    }
   ],
   "source": [
    "mvng_est_blk_vals, est_blk_vals"
   ]
  },
  {
   "cell_type": "code",
   "execution_count": 12,
   "metadata": {},
   "outputs": [
    {
     "data": {
      "text/plain": [
       "[<matplotlib.lines.Line2D at 0x7fbec20595b0>]"
      ]
     },
     "execution_count": 12,
     "metadata": {},
     "output_type": "execute_result"
    },
    {
     "data": {
      "image/png": "[encoded data removed]",
      "text/plain": [
       "<Figure size 640x480 with 1 Axes>"
      ]
     },
     "metadata": {},
     "output_type": "display_data"
    }
   ],
   "source": [
    "plt.figure()\n",
    "plt.plot(tgt_blk_vals,'b')\n",
    "plt.plot(est_blk_vals,'g')\n",
    "plt.plot(mvng_est_blk_vals,'r')\n",
    "plt.plot(mix_blk_vals, 'o')\n",
    "#plt.plot(src_azimuth, 'b+')"
   ]
  },
  {
   "cell_type": "code",
   "execution_count": 13,
   "metadata": {},
   "outputs": [
    {
     "data": {
      "text/plain": [
       "[<matplotlib.lines.Line2D at 0x7fbec1f51460>]"
      ]
     },
     "execution_count": 13,
     "metadata": {},
     "output_type": "execute_result"
    },
    {
     "data": {
      "image/png": "[encoded data removed]",
      "text/plain": [
       "<Figure size 640x480 with 1 Axes>"
      ]
     },
     "metadata": {},
     "output_type": "display_data"
    }
   ],
   "source": [
    "plt.figure()\n",
    "plt.plot(tgt_blk_vad,'b')\n",
    "plt.plot(est_blk_vad,'g')\n",
    "plt.plot(mvng_blk_vad,'r')\n",
    "plt.plot(mix_blk_vad, 'o')"
   ]
  },
  {
   "cell_type": "code",
   "execution_count": 14,
   "metadata": {},
   "outputs": [
    {
     "data": {
      "text/plain": [
       "(array([ 49,  16,  -1,   0,  10,   0,   7,   6,   6,   4,   4,  -1,   0,\n",
       "        -18,   0,   7]),\n",
       " array([48, 22,  0,  1, 10,  1,  8,  8,  7,  7,  4, -1,  0, 52,  0,  7]))"
      ]
     },
     "execution_count": 14,
     "metadata": {},
     "output_type": "execute_result"
    }
   ],
   "source": [
    "np.array(tgt_blk_vals)-np.array(mvng_est_blk_vals), np.array(tgt_blk_vals)-np.array(est_blk_vals)"
   ]
  },
  {
   "cell_type": "code",
   "execution_count": null,
   "metadata": {},
   "outputs": [],
   "source": []
  }
 ],
 "metadata": {
  "kernelspec": {
   "display_name": "Python 3.9.13 ('moving_source')",
   "language": "python",
   "name": "python3"
  },
  "language_info": {
   "codemirror_mode": {
    "name": "ipython",
    "version": 3
   },
   "file_extension": ".py",
   "mimetype": "text/x-python",
   "name": "python",
   "nbconvert_exporter": "python",
   "pygments_lexer": "ipython3",
   "version": "3.9.13"
  },
  "orig_nbformat": 4,
  "vscode": {
   "interpreter": {
    "hash": "5b19b528aa93bd51c7336d5aea62157de271cd7dded6857ac2564e2dc9749b07"
   }
  }
 },
 "nbformat": 4,
 "nbformat_minor": 2
}
