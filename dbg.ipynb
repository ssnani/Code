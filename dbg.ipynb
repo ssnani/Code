{
 "cells": [
  {
   "cell_type": "code",
   "execution_count": null,
   "metadata": {},
   "outputs": [],
   "source": [
    "from controlled_config import ControlledConfig\n",
    "from rir_interface import taslp_RIR_Interface\n",
    "from array_setup import array_setup_10cm_2mic\n",
    "from locata_utils import cart2sph\n",
    "\n",
    "\n",
    "import numpy as np\n",
    "import matplotlib.pyplot as plt"
   ]
  },
  {
   "cell_type": "code",
   "execution_count": null,
   "metadata": {},
   "outputs": [],
   "source": [
    "rir_interface = taslp_RIR_Interface()\n",
    "\n",
    "snr = -5\n",
    "t60 = 0.2\n",
    "src_mic_dist = 1.0\n",
    "noi_mic_dist = 1.0\n",
    "scenario = \"source_moving\"\n",
    "test_config = ControlledConfig(array_setup=array_setup_10cm_2mic, snr=snr, t60=t60,\n",
    "                                    src_mic_dist = src_mic_dist, noi_mic_dist = noi_mic_dist, \n",
    "                                    nb_points=16, same_plane=True)\n",
    "\n",
    "for idx in range(0, 1):\t\t\t\t\t\t\t\t\t\n",
    "    retry_flag = True\n",
    "    retry_count = 0\n",
    "    while(retry_flag):\n",
    "        try:\n",
    "            static_config_dict = test_config._create_acoustic_scene_config(\"Static\")\n",
    "            circular_motion_config_dict = test_config._create_acoustic_scene_config(\"CircularMotion\", scenario)\n",
    "            retry_flag = False\n",
    "        except AssertionError:\n",
    "            retry_flag = True\n",
    "            retry_count += 1\t\n",
    "\n",
    "config_dict = static_config_dict #circular_motion_config_dict\n",
    "room_sz = config_dict['room_sz']\n",
    "array_pos = config_dict['array_pos']\n",
    "mic_pos = config_dict['mic_pos']\n",
    "traj_pts= config_dict['src_traj_pts']\n",
    "noise_pos= config_dict['noise_pos']\n",
    "T60= config_dict['t60']\n",
    "SNR= config_dict['snr']\t\t\n",
    "\n",
    "### Mapping config pos to keys of rir (Interface)\n",
    "\n",
    "src_azimuth = np.degrees(cart2sph(traj_pts - array_pos)[:,2])\n",
    "src_azimuth_keys = np.round(np.where(src_azimuth<0, 360+src_azimuth, src_azimuth)).astype('int32')\t\n",
    "\n",
    "source_rirs, dp_source_rirs = rir_interface.get_rirs(t60=T60, idx_list=list(src_azimuth_keys))\n",
    "\n",
    "noi_azimuth = np.degrees(cart2sph(noise_pos - array_pos)[:,2])\n",
    "noi_azimuth_keys = np.round(np.where(noi_azimuth<0, 360+noi_azimuth, noi_azimuth)).astype('int32')\t\n",
    "noise_rirs, _ = rir_interface.get_rirs(t60=T60, idx_list=list(noi_azimuth_keys))\n"
   ]
  },
  {
   "cell_type": "code",
   "execution_count": null,
   "metadata": {},
   "outputs": [],
   "source": [
    "src_azimuth, source_rirs.shape\n"
   ]
  },
  {
   "cell_type": "code",
   "execution_count": null,
   "metadata": {},
   "outputs": [],
   "source": [
    "import matplotlib.pyplot as plt\n",
    "\n",
    "plt.plot(source_rirs[0,0,:300],'b')\n",
    "plt.plot(source_rirs[0,1,:300],'r')"
   ]
  },
  {
   "cell_type": "code",
   "execution_count": null,
   "metadata": {},
   "outputs": [],
   "source": [
    "source_rirs_86, dp_source_rirs_86 = rir_interface.get_rirs(t60=T60, idx_list=[86])"
   ]
  },
  {
   "cell_type": "code",
   "execution_count": null,
   "metadata": {},
   "outputs": [],
   "source": [
    "plt.plot(source_rirs_86[0,0,:300],'b')\n",
    "plt.plot(source_rirs_86[0,1,:300],'r')"
   ]
  },
  {
   "cell_type": "code",
   "execution_count": null,
   "metadata": {},
   "outputs": [],
   "source": [
    "import scipy.io as sio\n",
    "import matplotlib.pyplot as plt\n",
    "import numpy as np\n",
    "\n",
    "t60 = 0.2\n",
    "files_list = f'/fs/scratch/PAS0774/Shanmukh/Databases/RIRs/taslp_roomdata_360_resolution_1degree/HABET_SpacedOmni_8x8x3_height1.5_dist1_roomT60_{t60}.mat'\n",
    "rir = sio.loadmat(files_list)\n",
    "_h = rir['trainingroom']"
   ]
  },
  {
   "cell_type": "code",
   "execution_count": null,
   "metadata": {},
   "outputs": [],
   "source": [
    "h = _h[0,86][0]\n",
    "h.shape"
   ]
  },
  {
   "cell_type": "code",
   "execution_count": null,
   "metadata": {},
   "outputs": [],
   "source": [
    "plt.plot(h[:100,0])\n",
    "plt.plot(h[:100,1])"
   ]
  },
  {
   "cell_type": "code",
   "execution_count": null,
   "metadata": {},
   "outputs": [],
   "source": [
    "\n",
    "x = np.array(_h.tolist()).squeeze()\n",
    "x_1 = np.transpose(x,(0,2,1))\n",
    "x = np.transpose(x,(0,2,1))\n",
    "x = x.astype('float32')"
   ]
  },
  {
   "cell_type": "code",
   "execution_count": null,
   "metadata": {},
   "outputs": [],
   "source": [
    "x.shape,"
   ]
  },
  {
   "cell_type": "code",
   "execution_count": null,
   "metadata": {},
   "outputs": [],
   "source": [
    "np.sum(x[86,:,0]**2), np.sum(x[86,:,1]**2), np.sum(x_1[86,0,:]**2), np.sum(x_1[86,1,:]**2)"
   ]
  },
  {
   "cell_type": "code",
   "execution_count": null,
   "metadata": {},
   "outputs": [],
   "source": [
    "plt.plot(x[86,:,0])\n",
    "plt.plot(x[86,:,1])"
   ]
  },
  {
   "cell_type": "code",
   "execution_count": null,
   "metadata": {},
   "outputs": [],
   "source": [
    "q1 = x[86,:,:]"
   ]
  },
  {
   "cell_type": "code",
   "execution_count": null,
   "metadata": {},
   "outputs": [],
   "source": [
    "q1.shape"
   ]
  },
  {
   "cell_type": "code",
   "execution_count": null,
   "metadata": {},
   "outputs": [],
   "source": [
    "import torch\n",
    "q1 = torch.from_numpy(q1)\n",
    "flip_q1 = torch.flip(q1, [1])"
   ]
  },
  {
   "cell_type": "code",
   "execution_count": null,
   "metadata": {},
   "outputs": [],
   "source": [
    "flip_q1.shape"
   ]
  },
  {
   "cell_type": "code",
   "execution_count": null,
   "metadata": {},
   "outputs": [],
   "source": [
    "plt.plot(q1[0],'b')\n",
    "plt.plot(flip_q1[0],'r')"
   ]
  },
  {
   "cell_type": "code",
   "execution_count": null,
   "metadata": {},
   "outputs": [],
   "source": [
    "import torchaudio\n",
    "sig,fs = torchaudio.load('../signals/tgt_0.wav')"
   ]
  },
  {
   "cell_type": "code",
   "execution_count": null,
   "metadata": {},
   "outputs": [],
   "source": [
    "sig.shape"
   ]
  },
  {
   "cell_type": "code",
   "execution_count": null,
   "metadata": {},
   "outputs": [],
   "source": [
    "q1 = x[86,:,:]\n",
    "speech_ = torch.nn.functional.pad(sig[[0],:], (flip_q1.shape[1]-1, flip_q1.shape[1]-1))\n",
    "augmented = torch.nn.functional.conv1d(speech_.unsqueeze(dim=1), flip_q1.unsqueeze(dim=1))\n"
   ]
  },
  {
   "cell_type": "code",
   "execution_count": null,
   "metadata": {},
   "outputs": [],
   "source": [
    "flip_q1.shape, speech_.shape"
   ]
  },
  {
   "cell_type": "code",
   "execution_count": null,
   "metadata": {},
   "outputs": [],
   "source": [
    "augmented.shape"
   ]
  },
  {
   "cell_type": "code",
   "execution_count": null,
   "metadata": {},
   "outputs": [],
   "source": [
    "speech_.shape"
   ]
  },
  {
   "cell_type": "code",
   "execution_count": null,
   "metadata": {},
   "outputs": [],
   "source": [
    "plt.plot(sig[0])\n",
    "plt.plot(speech_[0])"
   ]
  },
  {
   "cell_type": "code",
   "execution_count": null,
   "metadata": {},
   "outputs": [],
   "source": [
    "augmented.shape"
   ]
  },
  {
   "cell_type": "code",
   "execution_count": null,
   "metadata": {},
   "outputs": [],
   "source": [
    "augmented[0]"
   ]
  },
  {
   "cell_type": "code",
   "execution_count": null,
   "metadata": {},
   "outputs": [],
   "source": [
    "ts = np.arange(16) * 64000 / 16000 / 16"
   ]
  },
  {
   "cell_type": "code",
   "execution_count": null,
   "metadata": {},
   "outputs": [],
   "source": [
    "blk_len = int(64000/16)\n"
   ]
  },
  {
   "cell_type": "code",
   "execution_count": null,
   "metadata": {},
   "outputs": [],
   "source": [
    "blk_len"
   ]
  },
  {
   "cell_type": "code",
   "execution_count": null,
   "metadata": {},
   "outputs": [],
   "source": [
    "seg_sig = torch.nn.functional.unfold(sig[[0],:].unsqueeze(dim=1).unsqueeze(dim=1), kernel_size=(1, blk_len), padding=(0,0), stride=(1, blk_len))"
   ]
  },
  {
   "cell_type": "code",
   "execution_count": null,
   "metadata": {},
   "outputs": [],
   "source": [
    "seg_sig.shape"
   ]
  },
  {
   "cell_type": "code",
   "execution_count": null,
   "metadata": {},
   "outputs": [],
   "source": [
    "seg_sig = torch.permute(seg_sig,[0,2,1])"
   ]
  },
  {
   "cell_type": "code",
   "execution_count": null,
   "metadata": {},
   "outputs": [],
   "source": [
    "from scipy.signal import fftconvolve"
   ]
  },
  {
   "cell_type": "code",
   "execution_count": null,
   "metadata": {},
   "outputs": [],
   "source": [
    "speech_.shape, q1.shape"
   ]
  },
  {
   "cell_type": "code",
   "execution_count": null,
   "metadata": {},
   "outputs": [],
   "source": [
    "sph_rev = fftconvolve(speech_.numpy(), q1[[0],:], mode='valid')\n",
    "sph_rev_2 = fftconvolve(sig[[0],:].numpy(), q1[[0],:], mode='full')"
   ]
  },
  {
   "cell_type": "code",
   "execution_count": null,
   "metadata": {},
   "outputs": [],
   "source": [
    "sph_rev_3 = fftconvolve(sig[[0],:].numpy(), q1, mode='full')\n"
   ]
  },
  {
   "cell_type": "code",
   "execution_count": null,
   "metadata": {},
   "outputs": [],
   "source": [
    "plt.plot(sph_rev_3[0,10000:12000])\n",
    "plt.plot(sph_rev_3[1,10000:12000])"
   ]
  },
  {
   "cell_type": "code",
   "execution_count": null,
   "metadata": {},
   "outputs": [],
   "source": [
    "conv_out = augmented[0,[0],:].numpy()"
   ]
  },
  {
   "cell_type": "code",
   "execution_count": null,
   "metadata": {},
   "outputs": [],
   "source": [
    "import time\n",
    "\n",
    "sig,fs = torchaudio.load('../signals/tgt_0.wav')\n",
    "q1 = x[86,:,:]\n",
    "q1 = torch.from_numpy(q1)\n",
    "flip_q1 = torch.flip(q1, [1])\n",
    "\n",
    "start = time.time()\n",
    "\n",
    "speech_ = torch.nn.functional.pad(sig[[0],:], (flip_q1.shape[1]-1, flip_q1.shape[1]-1))\n",
    "augmented = torch.nn.functional.conv1d(speech_.unsqueeze(dim=1), flip_q1.unsqueeze(dim=1))\n",
    "\n",
    "end = time.time() - start\n",
    "\n",
    "print(f\"conv: {end}\\n\")\n",
    "\n",
    "start = time.time()\n",
    "\n",
    "sph_rev_2 = fftconvolve(sig[[0],:].numpy(), q1, mode='full')\n",
    "\n",
    "\n",
    "fft_end = time.time() - start\n",
    "\n",
    "print(f\"fftconv: {fft_end}\\n\")\n"
   ]
  },
  {
   "cell_type": "code",
   "execution_count": null,
   "metadata": {},
   "outputs": [],
   "source": [
    "conv_out.dtype"
   ]
  },
  {
   "cell_type": "code",
   "execution_count": null,
   "metadata": {},
   "outputs": [],
   "source": [
    "sph_rev[0,12000], sph_rev_2[0,12000], conv_out[0,12000]"
   ]
  },
  {
   "cell_type": "code",
   "execution_count": null,
   "metadata": {},
   "outputs": [],
   "source": [
    "plt.plot(conv_out[0,:]-sph_rev_2[0,:])"
   ]
  },
  {
   "cell_type": "code",
   "execution_count": null,
   "metadata": {},
   "outputs": [],
   "source": [
    "plt.plot(sph_rev[0,:]-sph_rev_2[0,:])\n"
   ]
  },
  {
   "cell_type": "code",
   "execution_count": null,
   "metadata": {},
   "outputs": [],
   "source": [
    "sph_rev.shape, sph_rev.dtype, sph_rev_2.shape, sph_rev_2.dtype "
   ]
  },
  {
   "cell_type": "code",
   "execution_count": null,
   "metadata": {},
   "outputs": [],
   "source": [
    "import torchaudio\n",
    "mine_sig,fs = torchaudio.load('mine.wav')\n",
    "gpuRIR_sig,fs = torchaudio.load('gpuRIR.wav')"
   ]
  },
  {
   "cell_type": "code",
   "execution_count": null,
   "metadata": {},
   "outputs": [],
   "source": [
    "plt.plot(mine_sig[0])\n",
    "plt.plot(gpuRIR_sig[0])"
   ]
  },
  {
   "cell_type": "code",
   "execution_count": null,
   "metadata": {},
   "outputs": [],
   "source": [
    "(gpuRIR_sig==mine_sig)[0].shape"
   ]
  },
  {
   "cell_type": "code",
   "execution_count": null,
   "metadata": {},
   "outputs": [],
   "source": [
    "diff = (gpuRIR_sig-mine_sig)\n",
    "plt.plot(diff[0,:20000])"
   ]
  },
  {
   "cell_type": "code",
   "execution_count": null,
   "metadata": {},
   "outputs": [],
   "source": [
    "torch.where(diff[0] !=0)"
   ]
  },
  {
   "cell_type": "code",
   "execution_count": null,
   "metadata": {},
   "outputs": [],
   "source": [
    "diff[0,45800]"
   ]
  },
  {
   "cell_type": "code",
   "execution_count": null,
   "metadata": {},
   "outputs": [],
   "source": [
    "gpuRIR_sig.shape"
   ]
  },
  {
   "cell_type": "code",
   "execution_count": null,
   "metadata": {},
   "outputs": [],
   "source": [
    "diff = (gpuRIR_sig==mine_sig)\n"
   ]
  },
  {
   "cell_type": "code",
   "execution_count": null,
   "metadata": {},
   "outputs": [],
   "source": [
    "(torch.where(diff[0] == False))[0].shape"
   ]
  },
  {
   "cell_type": "code",
   "execution_count": null,
   "metadata": {},
   "outputs": [],
   "source": [
    "torch.where(diff[0] == False)"
   ]
  },
  {
   "cell_type": "code",
   "execution_count": null,
   "metadata": {},
   "outputs": [],
   "source": [
    "rir_interface = taslp_RIR_Interface()\n",
    "rirs, dp_rirs = rir_interface.get_rirs(t60=0.0, idx_list=[4])\n",
    "\n",
    "plt.plot(rirs[0,0,:], 'b')\n",
    "plt.plot(dp_rirs[0,0,:], 'r')"
   ]
  },
  {
   "cell_type": "code",
   "execution_count": null,
   "metadata": {},
   "outputs": [],
   "source": [
    "np.where(rirs[0,0,:]==dp_rirs[0,0,:])"
   ]
  },
  {
   "cell_type": "code",
   "execution_count": null,
   "metadata": {},
   "outputs": [],
   "source": [
    "rirs[0,0,89:]"
   ]
  },
  {
   "cell_type": "code",
   "execution_count": null,
   "metadata": {},
   "outputs": [],
   "source": [
    "import numpy as np\n",
    "t60_list = [round(i,1) for i in np.arange(0, 1.1, 0.1) if i != 0.1]"
   ]
  },
  {
   "cell_type": "code",
   "execution_count": null,
   "metadata": {},
   "outputs": [],
   "source": [
    "f_reverb = open('../dataset_file_circular_motion_snr_-5_t60_0.2_reverb.txt', 'w')\n",
    "with open('../dataset_file_circular_motion_snr_-5_t60_0.2.txt', 'r') as f:\n",
    "    for line in f.readlines():  \n",
    "        #print(line)\n",
    "        t60 = np.random.choice(t60_list)\n",
    "        app_t60_str = f',{t60}\\n'\n",
    "        _line = line.strip()+app_t60_str\n",
    "        #print(_line)\n",
    "        f_reverb.write(_line)\n",
    "        #break\n",
    "\n",
    "\n",
    "f_reverb.close()"
   ]
  },
  {
   "cell_type": "code",
   "execution_count": null,
   "metadata": {},
   "outputs": [],
   "source": [
    "type(line)"
   ]
  },
  {
   "cell_type": "code",
   "execution_count": null,
   "metadata": {},
   "outputs": [],
   "source": [
    "with open('../Logs/inputs/reverb/input-1.txt', 'r') as f:\n",
    "    lines = [line for line in f.readlines()]\n",
    "\n",
    "#key value \n",
    "for line in lines:\n",
    "    lst = line.strip().split()\n",
    "    if lst[0]==\"T60\":\n",
    "        T60 = float(lst[1])\n",
    "    elif lst[0]==\"dataset_dtype\":\n",
    "        dataset_dtype = lst[1]"
   ]
  },
  {
   "cell_type": "code",
   "execution_count": null,
   "metadata": {},
   "outputs": [],
   "source": [
    "T60, type(T60)"
   ]
  },
  {
   "cell_type": "code",
   "execution_count": null,
   "metadata": {},
   "outputs": [],
   "source": [
    "dataset_dtype, type(dataset_dtype)"
   ]
  },
  {
   "cell_type": "code",
   "execution_count": null,
   "metadata": {},
   "outputs": [],
   "source": [
    "f_reverb = open('../val_dataset_file_circular_motion_snr_-5_t60_0.2_noisy.txt', 'w')\n",
    "with open('../val_dataset_file_circular_motion_snr_-5_t60_0.2.txt', 'r') as f:\n",
    "    for line in f.readlines():  \n",
    "        #print(line)\n",
    "        snr = np.random.uniform(-5.0,5.01)\n",
    "        app_snr_str = f',{snr}\\n'\n",
    "        _line = line.strip()+app_snr_str\n",
    "        #print(_line)\n",
    "        f_reverb.write(_line)\n",
    "        #break\n",
    "\n",
    "\n",
    "f_reverb.close()"
   ]
  },
  {
   "cell_type": "code",
   "execution_count": null,
   "metadata": {},
   "outputs": [],
   "source": [
    "import numpy as np\n"
   ]
  },
  {
   "cell_type": "code",
   "execution_count": null,
   "metadata": {},
   "outputs": [],
   "source": [
    "f_reverb = open('../dataset_file_circular_motion_snr_-5_t60_0.2_noisy_reverb.txt', 'w')\n",
    "with open('../dataset_file_circular_motion_snr_-5_t60_0.2.txt', 'r') as f:\n",
    "    for line in f.readlines():  \n",
    "        #print(line)\n",
    "        snr = np.random.uniform(-5.0,5.01)\n",
    "        t60 = np.random.choice(t60_list)\n",
    "        app_snr_str = f',{snr},{t60}\\n'\n",
    "        _line = line.strip()+app_snr_str\n",
    "        #print(_line)\n",
    "        f_reverb.write(_line)\n",
    "        #break\n",
    "\n",
    "\n",
    "f_reverb.close()"
   ]
  },
  {
   "cell_type": "code",
   "execution_count": null,
   "metadata": {},
   "outputs": [],
   "source": [
    "snr_list = [-5, 0, 5, 10, 20]\n",
    "t60_list = [0.2, 0.4, 0.6, 0.8, 1.0]\n",
    "\n",
    "idx=1\n",
    "for snr in snr_list:\n",
    "    for t60 in t60_list:\n",
    "        name = f'../Logs/inputs/noisy_reverb/input-{idx}.txt'\n",
    "        f = open(name, 'w')\n",
    "        f.write(f'SNR {snr}\\n')\n",
    "        f.write(f'T60 {t60}\\n')\n",
    "        f.close()\n",
    "        idx +=1\n"
   ]
  },
  {
   "cell_type": "code",
   "execution_count": null,
   "metadata": {},
   "outputs": [],
   "source": []
  },
  {
   "cell_type": "code",
   "execution_count": null,
   "metadata": {},
   "outputs": [],
   "source": [
    "#import torch\n",
    "#torch.save(exp_dict, \"noisy_reverb_results.pt\")\n"
   ]
  },
  {
   "cell_type": "code",
   "execution_count": null,
   "metadata": {},
   "outputs": [],
   "source": [
    "lst = pesq_line.split()"
   ]
  },
  {
   "cell_type": "code",
   "execution_count": null,
   "metadata": {},
   "outputs": [],
   "source": [
    "def get_test_config_details(lst):\n",
    "    ckpt_name_list = lst[1].split('/')\n",
    "    train, mic_idx = ckpt_name_list[-3], ckpt_name_list[-1][-2]\n",
    "\n",
    "    exp_name_list = lst[-1].split('_')\n",
    "    #idx = 4 if exp_name_list[-1][0]=='-' else 3\n",
    "    snr, t60, test = exp_name_list[-1][:-3], exp_name_list[-3], exp_name_list[-5]\n",
    "\n",
    "    return mic_idx, train, test, t60, snr"
   ]
  },
  {
   "cell_type": "code",
   "execution_count": null,
   "metadata": {},
   "outputs": [],
   "source": [
    "mic_idx=1\n",
    "t60 = 0.2\n",
    "train = 'stationary'\n",
    "test = 'stationary'\n",
    "snr = 5.0\n",
    "\n",
    "# for snr in snr_list:\n",
    "for t60 in t60_list:\n",
    "    for test in scenarios:\n",
    "        key_str = f'train_{train}_mic_idx_{mic_idx}_test_{test}_t60_{t60}_snr_{snr}'\n",
    "        print(exp_dict[key_str])"
   ]
  },
  {
   "cell_type": "code",
   "execution_count": null,
   "metadata": {},
   "outputs": [],
   "source": [
    "import torch\n",
    "exp_dict = torch.load('../Logs/noisy_reverb/noisy_reverb_results.pt')\n",
    "\n",
    "mic_idx=1\n",
    "train = 'stationary'\n",
    "snr = 20.0\n",
    "# for snr in snr_list:\n",
    "for t60 in t60_list:\n",
    "    for test in scenarios:\n",
    "        key_str = f'train_{train}_mic_idx_{mic_idx}_test_{test}_t60_{t60}_snr_{snr}'\n",
    "        print(f'{t60}, {test}, {exp_dict[key_str]}')"
   ]
  },
  {
   "cell_type": "code",
   "execution_count": null,
   "metadata": {},
   "outputs": [],
   "source": [
    "# real to complex\n",
    "import torch\n",
    "a = torch.rand(2,2,5,6)\n",
    "\n",
    "c = torch.complex(a[:,0,:,:], a[:,1,:,:])\n"
   ]
  },
  {
   "cell_type": "code",
   "execution_count": null,
   "metadata": {},
   "outputs": [],
   "source": [
    "c.shape\n"
   ]
  },
  {
   "cell_type": "code",
   "execution_count": null,
   "metadata": {},
   "outputs": [],
   "source": [
    "a"
   ]
  },
  {
   "cell_type": "code",
   "execution_count": null,
   "metadata": {},
   "outputs": [],
   "source": [
    "c\n"
   ]
  },
  {
   "cell_type": "code",
   "execution_count": 1,
   "metadata": {},
   "outputs": [
    {
     "data": {
      "image/png": "[encoded data removed]",
      "text/plain": [
       "<Figure size 640x480 with 1 Axes>"
      ]
     },
     "metadata": {},
     "output_type": "display_data"
    },
    {
     "data": {
      "image/png": "[encoded data removed]",
      "text/plain": [
       "<Figure size 640x480 with 1 Axes>"
      ]
     },
     "metadata": {},
     "output_type": "display_data"
    },
    {
     "data": {
      "image/png": "[encoded data removed]",
      "text/plain": [
       "<Figure size 640x480 with 1 Axes>"
      ]
     },
     "metadata": {},
     "output_type": "display_data"
    },
    {
     "data": {
      "image/png": "[encoded data removed]",
      "text/plain": [
       "<Figure size 640x480 with 1 Axes>"
      ]
     },
     "metadata": {},
     "output_type": "display_data"
    },
    {
     "data": {
      "image/png": "[encoded data removed]",
      "text/plain": [
       "<Figure size 640x480 with 1 Axes>"
      ]
     },
     "metadata": {},
     "output_type": "display_data"
    },
    {
     "data": {
      "image/png": "[encoded data removed]",
      "text/plain": [
       "<Figure size 640x480 with 1 Axes>"
      ]
     },
     "metadata": {},
     "output_type": "display_data"
    }
   ],
   "source": [
    "import matplotlib.pyplot as plt\n",
    "from rir_interface import taslp_real_RIR_Interface, taslp_RIR_Interface\n",
    "import numpy as np\n",
    "array_type, num_mics, intermic_dist,  room_size = 'linear', 2, 10.0, [8,8,3] # 8.0,  ['6', '6', '2.4']\n",
    "#rir_interface = taslp_real_RIR_Interface(1) #array_type, num_mics, intermic_dist, room_size)\n",
    "rir_interface = taslp_RIR_Interface(array_type, num_mics, intermic_dist, room_size, True)\n",
    "tst_rir_interface = taslp_RIR_Interface(array_type, num_mics, intermic_dist, room_size, False)\n",
    "for idx in range(2):\n",
    "    rirs, dp_rirs = rir_interface.get_rirs(t60=0.6, idx_list=[idx])\n",
    "    rirs_0, dp_rirs_0 = rir_interface.get_rirs(t60=0.0, idx_list=[idx])\n",
    "\n",
    "    tst_rirs, tst_dp_rirs = tst_rir_interface.get_rirs(t60=0.6, idx_list=[idx])\n",
    "\n",
    "    plt.figure()\n",
    "    plt.plot(rirs[0,0,:400],'b')\n",
    "    plt.plot(rirs[0,1,:400],'r')\n",
    "    plt.figure()\n",
    "    plt.plot(dp_rirs[0,0,:400],'b')\n",
    "    plt.plot(dp_rirs[0,1,:400],'r')\n",
    "    plt.figure()\n",
    "    plt.plot(dp_rirs[0,0,:400],'b')\n",
    "    plt.plot(dp_rirs_0[0,0,:400],'r')\n",
    "#rirs_0, dp_rirs_0 = rir_interface.get_rirs(t60=0.0, idx_list=[4])"
   ]
  },
  {
   "cell_type": "code",
   "execution_count": 2,
   "metadata": {},
   "outputs": [
    {
     "data": {
      "text/plain": [
       "array([[122,  45]])"
      ]
     },
     "execution_count": 2,
     "metadata": {},
     "output_type": "execute_result"
    }
   ],
   "source": [
    "rir_abs = np.abs(rirs)\n",
    "np.argmax(rir_abs,axis=2)"
   ]
  },
  {
   "cell_type": "code",
   "execution_count": 8,
   "metadata": {},
   "outputs": [
    {
     "data": {
      "text/plain": [
       "(0.048463844, 0.048463844, 0.048463844)"
      ]
     },
     "execution_count": 8,
     "metadata": {},
     "output_type": "execute_result"
    }
   ],
   "source": [
    "rir_abs[0,0,49], dp_rirs[0,0,49], dp_rirs_0[0,0,49]"
   ]
  },
  {
   "cell_type": "code",
   "execution_count": 3,
   "metadata": {},
   "outputs": [
    {
     "data": {
      "text/plain": [
       "(array([], dtype=int64),)"
      ]
     },
     "execution_count": 3,
     "metadata": {},
     "output_type": "execute_result"
    }
   ],
   "source": [
    "\n",
    "np.where(np.abs(dp_rirs_0[0,0,:] - dp_rirs[0,0,:1024])>0)"
   ]
  },
  {
   "cell_type": "code",
   "execution_count": 4,
   "metadata": {},
   "outputs": [
    {
     "data": {
      "text/plain": [
       "[<matplotlib.lines.Line2D at 0x7f5e4558bb80>]"
      ]
     },
     "execution_count": 4,
     "metadata": {},
     "output_type": "execute_result"
    },
    {
     "data": {
      "image/png": "[encoded data removed]",
      "text/plain": [
       "<Figure size 640x480 with 1 Axes>"
      ]
     },
     "metadata": {},
     "output_type": "display_data"
    },
    {
     "data": {
      "image/png": "[encoded data removed]",
      "text/plain": [
       "<Figure size 640x480 with 1 Axes>"
      ]
     },
     "metadata": {},
     "output_type": "display_data"
    }
   ],
   "source": [
    "plt.plot(dp_rirs[0,0,:400],'b')\n",
    "plt.figure()\n",
    "plt.plot(dp_rirs_0[0,0,:400],'r')"
   ]
  },
  {
   "cell_type": "code",
   "execution_count": null,
   "metadata": {},
   "outputs": [],
   "source": []
  }
 ],
 "metadata": {
  "kernelspec": {
   "display_name": "Python 3",
   "language": "python",
   "name": "python3"
  },
  "language_info": {
   "codemirror_mode": {
    "name": "ipython",
    "version": 3
   },
   "file_extension": ".py",
   "mimetype": "text/x-python",
   "name": "python",
   "nbconvert_exporter": "python",
   "pygments_lexer": "ipython3",
   "version": "3.6.8"
  },
  "orig_nbformat": 4,
  "vscode": {
   "interpreter": {
    "hash": "916dbcbb3f70747c44a77c7bcd40155683ae19c65e1c03b4aa3499c5328201f1"
   }
  }
 },
 "nbformat": 4,
 "nbformat_minor": 2
}
