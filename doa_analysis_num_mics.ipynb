{
 "cells": [
  {
   "cell_type": "code",
   "execution_count": 1,
   "metadata": {},
   "outputs": [],
   "source": [
    "import torch\n",
    "import torchaudio\n",
    "import matplotlib.pyplot as plt\n",
    "import numpy as np\n",
    "import os"
   ]
  },
  {
   "cell_type": "code",
   "execution_count": 2,
   "metadata": {},
   "outputs": [
    {
     "name": "stderr",
     "output_type": "stream",
     "text": [
      "/users/PAS1937/battula12/my_pkgs/anaconda3/lib/python3.9/site-packages/torchvision/io/image.py:13: UserWarning: Failed to load image Python extension: /users/PAS1937/battula12/my_pkgs/anaconda3/lib/python3.9/site-packages/torchvision/image.so: undefined symbol: _ZNK3c1010TensorImpl36is_contiguous_nondefault_policy_implENS_12MemoryFormatE\n",
      "  warn(f\"Failed to load image Python extension: {e}\")\n"
     ]
    }
   ],
   "source": [
    "from metrics import eval_metrics_v1\n",
    "from locata_utils import cart2sph"
   ]
  },
  {
   "cell_type": "code",
   "execution_count": 3,
   "metadata": {},
   "outputs": [],
   "source": [
    "def get_log_dir(dataset_condition, noise_simulation, log_str):\n",
    "    log_base_dir = '/fs/scratch/PAS0774/Shanmukh/ControlledExp/random_seg/'\n",
    "    log_dir_task = f'{log_base_dir}/dbg_signals/simu_rirs_dbg_analysis/loss_functions_comparison_num_mics/{dataset_condition}/'\n",
    "    if \"noisy\" in dataset_condition:\n",
    "        log_dir = f'{log_dir_task}{noise_simulation}/'\n",
    "    else:\n",
    "        log_dir = log_dir_task\n",
    "\n",
    "    _log_dir = f'{log_dir}{log_str}_corrected_doa_sig_norm/'\n",
    "\n",
    "    if not os.path.exists(_log_dir):\n",
    "        print(\"dir: {_log_dir} doesn't exist\")\n",
    "\n",
    "    return _log_dir\n",
    "\n",
    "def get_log_str(dataset_condition, T60, SNR):\n",
    "    if dataset_condition ==\"reverb\":\n",
    "        app_str = f't60_{T60}_comparison'\n",
    "    elif dataset_condition ==\"noisy\":\n",
    "        app_str = f'snr_{SNR}dB'\n",
    "    elif dataset_condition ==\"noisy_reverb\":\n",
    "        app_str = f't60_{T60}_snr_{SNR}dB'\n",
    "    else:\n",
    "        app_str = ''\n",
    "    return app_str\n",
    "\n",
    "def print_se_metrics(num_mics, _ch, est_d):\n",
    "    print(f\" enh: {num_mics}mic,  mic: {_ch}, SNR: {est_d['snr']:.2f}, SI_SNR: {est_d['si_snr']:.2f}, pesq_nb: {est_d['pesq_nb']:.2f}, pesq_wb: {est_d['pesq_wb']:.2f}, stoi: {est_d['stoi']:.4f}, e_stoi: {est_d['e_stoi']:.4f} \") "
   ]
  },
  {
   "cell_type": "code",
   "execution_count": 4,
   "metadata": {},
   "outputs": [],
   "source": [
    "dataset_condition, noise_simulation = \"noisy\", \"point_source\"\n",
    "log_str = get_log_str(dataset_condition, 0.0, -5.0)\n",
    "log_dir = get_log_dir(dataset_condition, noise_simulation, log_str)\n",
    "loss_list = [\"MIMO_RI\", \"MIMO_RI_MAG\", \"MIMO_RI_MAG_PD\", \"MIMO_RI_PD\", \"MIMO_RI_PD_REF\"]"
   ]
  },
  {
   "cell_type": "code",
   "execution_count": 5,
   "metadata": {},
   "outputs": [
    {
     "name": "stdout",
     "output_type": "stream",
     "text": [
      " src_doa: [75.], noise_doa: [-152.]\n",
      " enh: 4mic,  mic: 0, SNR: 14.56, SI_SNR: 14.43, pesq_nb: 2.96, pesq_wb: 1.85, stoi: 0.9658, e_stoi: 0.9152 \n",
      " enh: 4mic,  mic: 1, SNR: 15.80, SI_SNR: 15.73, pesq_nb: 3.12, pesq_wb: 1.92, stoi: 0.9705, e_stoi: 0.9221 \n",
      " enh: 4mic,  mic: 2, SNR: 16.34, SI_SNR: 16.29, pesq_nb: 3.20, pesq_wb: 1.92, stoi: 0.9725, e_stoi: 0.9289 \n",
      " enh: 4mic,  mic: 3, SNR: 14.95, SI_SNR: 14.82, pesq_nb: 3.00, pesq_wb: 1.85, stoi: 0.9679, e_stoi: 0.9182 \n",
      " enh: 2mic,  mic: 0, SNR: 9.76, SI_SNR: 9.70, pesq_nb: 2.60, pesq_wb: 1.66, stoi: 0.9424, e_stoi: 0.8777 \n",
      " enh: 2mic,  mic: 1, SNR: 10.01, SI_SNR: 9.92, pesq_nb: 2.64, pesq_wb: 1.67, stoi: 0.9420, e_stoi: 0.8759 \n"
     ]
    }
   ],
   "source": [
    "batch_idx = 0\n",
    "idx, loss_flag = 2, \"MIMO_RI_MAG_PD\"\n",
    "\n",
    "set_up = torch.load(f'/fs/scratch/PAS0774/Shanmukh/Controlled_Experimets/test_configs/source_moving/snr_-5_t60_0.2/src_mic_dist_1.0_noi_mic_dist_1.0/config_circular_motion_{batch_idx}.pt')\n",
    "src_doa = np.degrees(cart2sph(set_up['src_traj_pts'][[0]] - set_up['array_pos']))[:,2]\n",
    "noi_doa = np.degrees(cart2sph(set_up['noise_pos'] - set_up['array_pos']))[:,2]\n",
    "print(f\" src_doa: {src_doa}, noise_doa: {noi_doa}\")\n",
    "\n",
    "dir_content = os.listdir(log_dir)\n",
    "\n",
    "mix_str, tgt_str = f'mix_{batch_idx}.wav', f'tgt_{batch_idx}.wav'\n",
    "est_2mic_str = f'est_2mic_{batch_idx}_{idx}_{loss_flag}.wav'\n",
    "est_4mic_str = f'est_4mic_{batch_idx}_{idx}_{loss_flag}.wav'\n",
    "\n",
    "mix_sig, fs = torchaudio.load(os.path.join(log_dir, mix_str))\n",
    "tgt_sig, fs = torchaudio.load(os.path.join(log_dir, tgt_str))\n",
    "est_2mic_sig, fs = torchaudio.load(os.path.join(log_dir, est_2mic_str))\n",
    "est_4mic_sig, fs = torchaudio.load(os.path.join(log_dir, est_4mic_str))\n",
    "\n",
    "for _ch in range(4):\n",
    "    est_d = eval_metrics_v1(tgt_sig[_ch,:].numpy(), est_4mic_sig[_ch,:].numpy())\n",
    "    print_se_metrics(4, _ch, est_d)\n",
    "\n",
    "for _ch in range(2):\n",
    "    est_d = eval_metrics_v1(tgt_sig[_ch+1,:].numpy(), est_2mic_sig[_ch,:].numpy())\n",
    "    print_se_metrics(2, _ch, est_d)"
   ]
  },
  {
   "cell_type": "code",
   "execution_count": 7,
   "metadata": {},
   "outputs": [
    {
     "name": "stdout",
     "output_type": "stream",
     "text": [
      " src_doa: [75.], noise_doa: [-152.]\n",
      "\n",
      " enh: MIMO_RI_2mic,  mic: 0, SNR: 7.67, SI_SNR: 7.17, pesq_nb: 2.47, pesq_wb: 1.31, stoi: 0.9092, e_stoi: 0.8203 \n",
      " enh: MIMO_RI_2mic,  mic: 1, SNR: 7.91, SI_SNR: 7.40, pesq_nb: 2.48, pesq_wb: 1.33, stoi: 0.9102, e_stoi: 0.8226 \n",
      " enh: MIMO_RI_4mic,  mic: 0, SNR: 15.46, SI_SNR: 15.34, pesq_nb: 3.05, pesq_wb: 1.90, stoi: 0.9674, e_stoi: 0.9225 \n",
      " enh: MIMO_RI_4mic,  mic: 1, SNR: 15.51, SI_SNR: 15.39, pesq_nb: 2.98, pesq_wb: 1.91, stoi: 0.9633, e_stoi: 0.9146 \n",
      " enh: MIMO_RI_4mic,  mic: 2, SNR: 15.90, SI_SNR: 15.79, pesq_nb: 3.02, pesq_wb: 1.91, stoi: 0.9669, e_stoi: 0.9213 \n",
      " enh: MIMO_RI_4mic,  mic: 3, SNR: 15.98, SI_SNR: 15.87, pesq_nb: 3.08, pesq_wb: 1.96, stoi: 0.9699, e_stoi: 0.9277 \n",
      "\n",
      " enh: MIMO_RI_MAG_2mic,  mic: 0, SNR: 9.18, SI_SNR: 9.13, pesq_nb: 2.57, pesq_wb: 1.53, stoi: 0.9356, e_stoi: 0.8649 \n",
      " enh: MIMO_RI_MAG_2mic,  mic: 1, SNR: 9.61, SI_SNR: 9.55, pesq_nb: 2.60, pesq_wb: 1.54, stoi: 0.9365, e_stoi: 0.8690 \n",
      " enh: MIMO_RI_MAG_4mic,  mic: 0, SNR: 9.56, SI_SNR: 9.27, pesq_nb: 2.59, pesq_wb: 1.66, stoi: 0.9364, e_stoi: 0.8705 \n",
      " enh: MIMO_RI_MAG_4mic,  mic: 1, SNR: 11.31, SI_SNR: 11.19, pesq_nb: 2.70, pesq_wb: 1.75, stoi: 0.9486, e_stoi: 0.8861 \n",
      " enh: MIMO_RI_MAG_4mic,  mic: 2, SNR: 11.75, SI_SNR: 11.62, pesq_nb: 2.73, pesq_wb: 1.76, stoi: 0.9514, e_stoi: 0.8954 \n",
      " enh: MIMO_RI_MAG_4mic,  mic: 3, SNR: 10.66, SI_SNR: 10.39, pesq_nb: 2.60, pesq_wb: 1.68, stoi: 0.9456, e_stoi: 0.8865 \n",
      "\n",
      " enh: MIMO_RI_MAG_PD_2mic,  mic: 0, SNR: 9.76, SI_SNR: 9.70, pesq_nb: 2.60, pesq_wb: 1.66, stoi: 0.9424, e_stoi: 0.8777 \n",
      " enh: MIMO_RI_MAG_PD_2mic,  mic: 1, SNR: 10.01, SI_SNR: 9.92, pesq_nb: 2.64, pesq_wb: 1.67, stoi: 0.9420, e_stoi: 0.8759 \n",
      " enh: MIMO_RI_MAG_PD_4mic,  mic: 0, SNR: 14.56, SI_SNR: 14.43, pesq_nb: 2.96, pesq_wb: 1.85, stoi: 0.9658, e_stoi: 0.9152 \n",
      " enh: MIMO_RI_MAG_PD_4mic,  mic: 1, SNR: 15.80, SI_SNR: 15.73, pesq_nb: 3.12, pesq_wb: 1.92, stoi: 0.9705, e_stoi: 0.9221 \n",
      " enh: MIMO_RI_MAG_PD_4mic,  mic: 2, SNR: 16.34, SI_SNR: 16.29, pesq_nb: 3.20, pesq_wb: 1.92, stoi: 0.9725, e_stoi: 0.9289 \n",
      " enh: MIMO_RI_MAG_PD_4mic,  mic: 3, SNR: 14.95, SI_SNR: 14.82, pesq_nb: 3.00, pesq_wb: 1.85, stoi: 0.9679, e_stoi: 0.9182 \n",
      "\n",
      " enh: MIMO_RI_PD_2mic,  mic: 0, SNR: 16.21, SI_SNR: 16.43, pesq_nb: 2.90, pesq_wb: 1.80, stoi: 0.9697, e_stoi: 0.9196 \n",
      " enh: MIMO_RI_PD_2mic,  mic: 1, SNR: 16.23, SI_SNR: 16.48, pesq_nb: 2.92, pesq_wb: 1.81, stoi: 0.9702, e_stoi: 0.9234 \n",
      " enh: MIMO_RI_PD_4mic,  mic: 0, SNR: 15.68, SI_SNR: 15.66, pesq_nb: 2.97, pesq_wb: 1.80, stoi: 0.9671, e_stoi: 0.9229 \n",
      " enh: MIMO_RI_PD_4mic,  mic: 1, SNR: 16.28, SI_SNR: 16.33, pesq_nb: 3.01, pesq_wb: 1.85, stoi: 0.9671, e_stoi: 0.9245 \n",
      " enh: MIMO_RI_PD_4mic,  mic: 2, SNR: 16.52, SI_SNR: 16.60, pesq_nb: 3.02, pesq_wb: 1.87, stoi: 0.9677, e_stoi: 0.9262 \n",
      " enh: MIMO_RI_PD_4mic,  mic: 3, SNR: 15.64, SI_SNR: 15.60, pesq_nb: 2.93, pesq_wb: 1.80, stoi: 0.9670, e_stoi: 0.9235 \n",
      "\n",
      " enh: MIMO_RI_PD_REF_4mic,  mic: 0, SNR: 14.75, SI_SNR: 14.73, pesq_nb: 2.75, pesq_wb: 1.75, stoi: 0.9564, e_stoi: 0.8829 \n",
      " enh: MIMO_RI_PD_REF_4mic,  mic: 1, SNR: 15.18, SI_SNR: 15.18, pesq_nb: 2.78, pesq_wb: 1.81, stoi: 0.9567, e_stoi: 0.8839 \n",
      " enh: MIMO_RI_PD_REF_4mic,  mic: 2, SNR: 15.48, SI_SNR: 15.52, pesq_nb: 2.79, pesq_wb: 1.82, stoi: 0.9581, e_stoi: 0.8845 \n",
      " enh: MIMO_RI_PD_REF_4mic,  mic: 3, SNR: 14.76, SI_SNR: 14.72, pesq_nb: 2.75, pesq_wb: 1.71, stoi: 0.9566, e_stoi: 0.8814 \n"
     ]
    }
   ],
   "source": [
    "#observing pattern interms of SE for 2 mic vs 4mic for different loss functions\n",
    "batch_idx = 0\n",
    "#idx, loss_flag = 2, \"MIMO_RI_MAG_PD\"\n",
    "\n",
    "set_up = torch.load(f'/fs/scratch/PAS0774/Shanmukh/Controlled_Experimets/test_configs/source_moving/snr_-5_t60_0.2/src_mic_dist_1.0_noi_mic_dist_1.0/config_circular_motion_{batch_idx}.pt')\n",
    "src_doa = np.degrees(cart2sph(set_up['src_traj_pts'][[0]] - set_up['array_pos']))[:,2]\n",
    "noi_doa = np.degrees(cart2sph(set_up['noise_pos'] - set_up['array_pos']))[:,2]\n",
    "print(f\" src_doa: {src_doa}, noise_doa: {noi_doa}\")\n",
    "\n",
    "\n",
    "#reading doa.pt file\n",
    "doa_info = torch.load(os.path.join(log_dir, f'doa_{batch_idx}.pt'), map_location=torch.device('cpu'))\n",
    "\n",
    "mix_str, tgt_str = f'mix_{batch_idx}.wav', f'tgt_{batch_idx}.wav'\n",
    "\n",
    "mix_sig, fs = torchaudio.load(os.path.join(log_dir, mix_str))\n",
    "tgt_sig, fs = torchaudio.load(os.path.join(log_dir, tgt_str))\n",
    "\n",
    "for idx, loss_flag in enumerate(loss_list):\n",
    "    print()\n",
    "    est_2mic_str = f'est_2mic_{batch_idx}_{idx}_{loss_flag}.wav'\n",
    "    if os.path.exists(os.path.join(log_dir, est_2mic_str)):\n",
    "        est_2mic_sig, fs = torchaudio.load(os.path.join(log_dir, est_2mic_str))\n",
    "        for _ch in range(2):\n",
    "            est_d = eval_metrics_v1(tgt_sig[_ch+1,:].numpy(), est_2mic_sig[_ch,:].numpy())\n",
    "            print_se_metrics(f'{loss_flag}_2', _ch, est_d)\n",
    "\n",
    "    est_4mic_str = f'est_4mic_{batch_idx}_{idx}_{loss_flag}.wav' \n",
    "    est_4mic_sig, fs = torchaudio.load(os.path.join(log_dir, est_4mic_str))\n",
    "\n",
    "    for _ch in range(4):\n",
    "        est_d = eval_metrics_v1(tgt_sig[_ch,:].numpy(), est_4mic_sig[_ch,:].numpy())\n",
    "        print_se_metrics(f'{loss_flag}_4', _ch, est_d)\n",
    "\n",
    "    "
   ]
  },
  {
   "cell_type": "code",
   "execution_count": 12,
   "metadata": {},
   "outputs": [
    {
     "data": {
      "text/plain": [
       "[<matplotlib.lines.Line2D at 0x2b33c9367550>]"
      ]
     },
     "execution_count": 12,
     "metadata": {},
     "output_type": "execute_result"
    },
    {
     "data": {
      "image/png": "[encoded data removed]",
      "text/plain": [
       "<Figure size 432x288 with 1 Axes>"
      ]
     },
     "metadata": {
      "needs_background": "light"
     },
     "output_type": "display_data"
    }
   ],
   "source": [
    "loss_flag = \"MIMO_RI_PD\"\n",
    "(est_f_doa, est_f_vals, est_utt_doa) = doa_info['ests'][f'{loss_flag}_est_2mic_enh']\n",
    "plt.plot(est_f_doa)\n",
    "plt.plot(np.ones(est_f_doa.shape[0])*np.abs(noi_doa))\n",
    "plt.plot(np.ones(est_f_doa.shape[0])*np.abs(src_doa))"
   ]
  },
  {
   "cell_type": "code",
   "execution_count": null,
   "metadata": {},
   "outputs": [],
   "source": []
  }
 ],
 "metadata": {
  "kernelspec": {
   "display_name": "Python 3",
   "language": "python",
   "name": "python3"
  },
  "language_info": {
   "codemirror_mode": {
    "name": "ipython",
    "version": 3
   },
   "file_extension": ".py",
   "mimetype": "text/x-python",
   "name": "python",
   "nbconvert_exporter": "python",
   "pygments_lexer": "ipython3",
   "version": "3.9.12"
  },
  "orig_nbformat": 4
 },
 "nbformat": 4,
 "nbformat_minor": 2
}
