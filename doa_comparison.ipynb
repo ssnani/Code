{
 "cells": [
  {
   "cell_type": "code",
   "execution_count": 1,
   "metadata": {},
   "outputs": [],
   "source": [
    "import torch\n",
    "import torchaudio\n",
    "import matplotlib.pyplot as plt\n",
    "import numpy as np"
   ]
  },
  {
   "cell_type": "code",
   "execution_count": 2,
   "metadata": {},
   "outputs": [],
   "source": [
    "def get_acc(est_vad, est_blk_val, tgt_blk_val, tol=5, vad_th=0.6):\n",
    "    n_blocks = len(est_vad)\n",
    "    non_vad_blks,failed_frames_180_theta =[],[]\n",
    "    acc=0\n",
    "    valid_blk_count = 0\n",
    "    mae_only_correct= 0\n",
    "    mae_only_incorrect = 0\n",
    "    mae_overall = 0\n",
    "    for idx in range(0, n_blocks):\n",
    "        if est_vad[idx] >=vad_th:\n",
    "            diff = np.abs(est_blk_val[idx] - np.abs(tgt_blk_val[idx]))\n",
    "            if ( diff <= tol):\n",
    "                acc += 1\n",
    "                mae_only_correct += diff\n",
    "            else: \n",
    "                mae_only_incorrect += diff\n",
    "                if (np.abs(est_blk_val[idx] - (180-np.abs(tgt_blk_val[idx]))) <= tol):\n",
    "                    failed_frames_180_theta.append(idx)\n",
    "                \n",
    "            valid_blk_count +=1\n",
    "            mae_overall += diff\n",
    "        else:\n",
    "            non_vad_blks.append(idx)\n",
    "\n",
    "    \n",
    "    mae_only_correct /= acc\n",
    "    mae_only_incorrect /= (valid_blk_count-acc)\n",
    "    mae_overall /= valid_blk_count\n",
    "\n",
    "    acc /= valid_blk_count\n",
    "\n",
    "    \n",
    "    #print(f'n_blocks: {n_blocks}, non_vad_blks: {non_vad_blks}')\n",
    "    return acc, failed_frames_180_theta, (mae_only_correct, mae_only_incorrect, mae_overall)"
   ]
  },
  {
   "cell_type": "code",
   "execution_count": 3,
   "metadata": {},
   "outputs": [],
   "source": [
    "def get_mag_ph(x):\n",
    "    #est.shape : (batch, n_ch, T, F)\n",
    "    (batch, n_ch, T, F) = x.shape\n",
    "    eps = 1e-8\n",
    "    est_mag_1 = torch.sqrt(x[0,0]**2 + x[0,1]**2 + eps)\n",
    "    est_mag_2 = torch.sqrt(x[1,0]**2 + x[1,1]**2 + eps)\n",
    "\n",
    "    est_ph_1 = torch.atan2(x[0,1,:,1:F-1] + eps, x[0,0,:,1:F-1] + eps)\n",
    "    est_ph_2 = torch.atan2(x[1,1,:,1:F-1] + eps, x[1,0,:,1:F-1] + eps)\n",
    "\n",
    "    return est_mag_1, est_ph_1, est_mag_2, est_ph_2"
   ]
  },
  {
   "cell_type": "code",
   "execution_count": 4,
   "metadata": {},
   "outputs": [],
   "source": [
    "\n",
    "local_mic_pos = np.array((( -0.04,  0.000, 0.000),\n",
    "                    (  0.04,  0.000, 0.000))) \n",
    "\n",
    "local_mic_center=torch.from_numpy(np.array([0.0, 0.0, 0.0]))"
   ]
  },
  {
   "cell_type": "code",
   "execution_count": 5,
   "metadata": {},
   "outputs": [],
   "source": [
    "def gcc_phat_loc_orient(X, est_mask, fs, nfft, local_mic_pos, mic_center, src_mic_dist, weighted, sig_vad, is_euclidean_dist):\n",
    "\n",
    "    (chan, frames, freq) = X.shape\n",
    "    X_ph = torch.angle(X)\n",
    "    X_ph_diff = X_ph[0,:,:] - X_ph[1,:,:]\n",
    "\n",
    "    #weightage\n",
    "    if weighted:\n",
    "        est_mask_pq = torch.pow(est_mask[0,:,:]*est_mask[1,:,:], 1) #0.3)\n",
    "\n",
    "\n",
    "    angular_freq = 2*torch.pi*fs*1.0/nfft*torch.arange(0, freq, dtype=torch.float32)\n",
    "\n",
    "    angle_step = 1.0\n",
    "    theta_grid = 180.0\n",
    "    all_directions = torch.linspace(0,theta_grid,int(theta_grid/angle_step+1),dtype=torch.float32) #a set of potential directions\n",
    "    dist = src_mic_dist\n",
    "    c = 343\n",
    "\n",
    "    all_directions_val = [] \n",
    "    delays = []\n",
    "    all_info = []\n",
    "\n",
    "    for ind, direction in enumerate(all_directions):\n",
    "        #ang = (direction - 90)/180.0*torch.pi  #radians\n",
    "        ang_doa  = (direction)/theta_grid*torch.pi  #radians\n",
    "        \n",
    "        if is_euclidean_dist:\n",
    "            src_pos = torch.tensor([torch.cos(ang_doa)*dist,torch.sin(ang_doa)*dist, 0.0],dtype=torch.float32) #+ mic_center\n",
    "            dist_pp = torch.sqrt(torch.sum((src_pos-local_mic_pos[0])**2))  ## TODO: pp\n",
    "            dist_qq = torch.sqrt(torch.sum((src_pos-local_mic_pos[1])**2))  ## TODO: qq\n",
    "            delay = (dist_qq-dist_pp)/c #,device=est_mask.device)#.type_as(est_mask)   \n",
    "\n",
    "        else:\n",
    "            # ASSUMPTION on unit circle\n",
    "            dist = 1\n",
    "            src_pos = torch.tensor([torch.cos(ang_doa)*dist,torch.sin(ang_doa)*dist, 0.0],dtype=torch.float32) \n",
    "            delay = np.dot((local_mic_pos[0]-local_mic_pos[1]), src_pos)/c\n",
    "\n",
    "            \n",
    "        delays.append(delay)\n",
    "        delay_vec = angular_freq*delay\n",
    "        #print(X_ph_diff.shape, delay_vec.shape)\n",
    "        gcc_phat_pq = torch.cos( X_ph_diff - delay_vec.to(device=X_ph_diff.device))\n",
    "        if weighted:\n",
    "            mgcc_phat_pq = est_mask_pq*gcc_phat_pq\n",
    "            gcc_phat_pq = mgcc_phat_pq\n",
    "\n",
    "        all_info.append(gcc_phat_pq)\n",
    "        per_direction_val = torch.sum(gcc_phat_pq, dim=1)\n",
    "\n",
    "        all_directions_val.append(per_direction_val)\n",
    "\n",
    "    vals = torch.stack(all_directions_val, dim=0)\n",
    "\n",
    "    sig_vad_frms = sig_vad.shape[0]\n",
    "    vals = vals[:,:sig_vad_frms]*sig_vad   ##caluation for only vad frames\n",
    "\n",
    "    utt_sum = torch.sum(vals,dim=1)\n",
    "    utt_doa_idx = torch.argmax(utt_sum)\n",
    "    utt_doa = all_directions[utt_doa_idx]\n",
    "\n",
    "\n",
    "    doa_idx = torch.argmax(vals,dim=0)\n",
    "    doa = all_directions[doa_idx]\n",
    "\n",
    "    return doa, vals, utt_doa, utt_sum, all_info#delays\n",
    "\n",
    "\n",
    "#Vad \n",
    "#input: numpy signal\n",
    "#output: torch signal\n",
    "def compute_vad(source_signal: 'Array ( sig_len)', frame_size: 'int (samples) ', frame_shift: 'int (samples)', fs: int = 16000):\n",
    "    import webrtcvad\n",
    "    vad = webrtcvad.Vad()\n",
    "    agressiveness=3\n",
    "    vad.set_mode(agressiveness)\n",
    "\n",
    "    #sig_vad = np.zeros_like(source_signal)\n",
    "    sig_vad = []\n",
    "    sig_size = source_signal.shape[-1]\n",
    "\n",
    "    for frame_idx, frm_strt in enumerate(range(0, sig_size-frame_size +1, frame_shift)):\n",
    "        frame = source_signal[frm_strt:frm_strt + frame_size] #source_signal[frame_idx * vad_frame_len: (frame_idx + 1) * vad_frame_len]\n",
    "        frame_bytes = (frame * 32767).astype('int16').tobytes()\n",
    "        #sig_vad[frm_strt:frm_strt + frame_size] = vad.is_speech(frame_bytes, fs)\n",
    "        sig_vad.append(vad.is_speech(frame_bytes, fs))\n",
    "\n",
    "    return torch.tensor(np.array(sig_vad))\n"
   ]
  },
  {
   "cell_type": "code",
   "execution_count": 6,
   "metadata": {},
   "outputs": [],
   "source": [
    "def format_complex(mix_ri_spec):\n",
    "    #adjusting shape, type for complex\n",
    "    #(batch_size, 4, T, F) . -> (batch_size*2, T, F)\n",
    "    mix_ri_spec = mix_ri_spec.to(torch.float32)\n",
    "\n",
    "    (batch_size, n_ch, n_frms, n_freq) = mix_ri_spec.shape\n",
    "\n",
    "    intm_mix_ri_spec = torch.reshape(mix_ri_spec, (batch_size*n_ch, n_frms, n_freq))\n",
    "    intm_mix_ri_spec = torch.reshape(intm_mix_ri_spec, (intm_mix_ri_spec.shape[0]//2, 2, n_frms, n_freq))\n",
    "    mix_ri_spec_cmplx = torch.complex(intm_mix_ri_spec[:,0,:,:], intm_mix_ri_spec[:,1,:,:])\n",
    "\n",
    "    return mix_ri_spec_cmplx"
   ]
  },
  {
   "cell_type": "code",
   "execution_count": null,
   "metadata": {},
   "outputs": [],
   "source": [
    "#loss functions comparison\n",
    "#Rigorours doa analysis \n",
    "import torch\n",
    "import numpy as np\n",
    "batch_idx = 3\n",
    "tol = 5.0\n",
    "euclid_dist=True\n",
    "(tst, tol, t60) = (\"simu\", 5.0, 1.0)\n",
    "#(tst, tol,t60) = (\"real\", 7.5, 0.61)\n",
    "\n",
    "dataset_condition = \"noisy_reverb\"\n",
    "dataset_dtype = \"stationary\"\n",
    "app_str = f'{batch_idx}'\n",
    "#t60=0.61\n",
    "\n",
    "est_f_doa_lst, est_f_vals_lst, est_utt_doa_lst, est_freq_vals_lst,failed_frms_lst = [], [], [], [],[]\n",
    "for idx in range(5):\n",
    "    info = torch.load(f'../signals/{tst}_rirs_dbg/loss_functions_comparison_4mic_diffuse_noisy_reverb/doa_{t60}_{batch_idx}_{idx}_tol_{tol}deg_euclid_{euclid_dist}.pt', map_location=torch.device('cpu')) #tr_s_test_{dataset_dtype}_{dataset_condition}_{t60}doa_{app_str}.pt')\n",
    "\n",
    "    #ref_f_doa[0]\n",
    "\n",
    "    (mix_f_doa, mix_f_vals, mix_utt_doa) = info['mix']\n",
    "    (tgt_f_doa, tgt_f_vals, tgt_sig_vad, tgt_utt_doa) = info['tgt']\n",
    "    (est_f_doa, est_f_vals, est_utt_doa) = info['est']\n",
    "\n",
    "    doa = info['doa']\n",
    "    ref_f_doa = torch.rad2deg(doa[:,:,-1])[0,:mix_f_doa.shape[0]]\n",
    "\n",
    "    mix_frm_Acc,_ = get_acc(np.array(tgt_sig_vad), np.array(mix_f_doa), np.array(ref_f_doa),tol = tol, vad_th=0.6)\n",
    "    est_frm_Acc, failed_frms = get_acc(np.array(tgt_sig_vad), np.array(est_f_doa), np.array(ref_f_doa),tol = tol, vad_th=0.6)\n",
    "\n",
    "    #mix_Acc = get_acc(np.array(tgt_blk_vad), np.array(mix_blk_vals), np.array(tgt_blk_vals))\n",
    "    #est_Acc = get_acc(np.array(tgt_blk_vad), np.array(est_blk_vals), np.array(tgt_blk_vals))\n",
    "    est_f_doa_lst.append(est_f_doa)\n",
    "    est_f_vals_lst.append(est_f_vals)\n",
    "    failed_frms_lst.append(failed_frms)\n",
    "    #est_freq_vals_lst.append(est_freq_vals)\n",
    "\n",
    "    print(dataset_dtype, mix_frm_Acc, est_frm_Acc) #, mix_Acc, est_Acc)\n",
    "    print(ref_f_doa[0], mix_utt_doa, est_utt_doa)"
   ]
  },
  {
   "cell_type": "code",
   "execution_count": null,
   "metadata": {},
   "outputs": [],
   "source": [
    "plt.plot(torch.abs(ref_f_doa))\n",
    "plt.plot(180-torch.abs(ref_f_doa), 'b+')\n",
    "plt.plot(est_f_doa_lst[1])\n",
    "plt.figure()\n",
    "plt.plot(torch.abs(ref_f_doa))\n",
    "plt.plot(180-torch.abs(ref_f_doa), 'b+')\n",
    "plt.plot(est_f_doa_lst[2])"
   ]
  },
  {
   "cell_type": "code",
   "execution_count": null,
   "metadata": {},
   "outputs": [],
   "source": [
    "frm = 135\n",
    "plt.plot(est_f_vals_lst[2][:,frm])"
   ]
  },
  {
   "cell_type": "code",
   "execution_count": 7,
   "metadata": {},
   "outputs": [],
   "source": [
    "def get_mask(mix, est):\n",
    "    noise = est - mix\n",
    "    mask = torch.sqrt( torch.abs(est)**2/(torch.abs(noise)**2 + torch.abs(est)**2))\n",
    "    return mask\n"
   ]
  },
  {
   "cell_type": "code",
   "execution_count": 8,
   "metadata": {},
   "outputs": [],
   "source": [
    "def get_wt(option, mix, est):\n",
    "    if option ==\"MASK\":\n",
    "        return get_mask(mix, est)\n",
    "    elif option == \"G_1\":\n",
    "        return torch.abs(est)\n",
    "    else:\n",
    "        print(\"Wrong option\")\n"
   ]
  },
  {
   "cell_type": "code",
   "execution_count": null,
   "metadata": {},
   "outputs": [],
   "source": [
    "def per_file_doa(batch_idx, option, tst, tol):\n",
    "    print(batch_idx, option)\n",
    "    frame_len, frame_shift = 320, 160\n",
    "    idx_list = [0,1,2,3,4]\n",
    "\n",
    "    mix_sig, fs = torchaudio.load(f'../signals/{tst}_rirs_dbg/loss_functions_comparison_4mic_diffuse_noisy_reverb/mix_{batch_idx}.wav')\n",
    "    mix_real_img = torch.stft(mix_sig, frame_len, frame_shift, frame_len, torch.hamming_window(frame_len), center=False, return_complex=False)\n",
    "    mix_real_img = torch.permute(mix_real_img, [0, 3, 2, 1])\n",
    "\n",
    "    tgt_sig, fs = torchaudio.load(f'../signals/{tst}_rirs_dbg/loss_functions_comparison_4mic_diffuse_noisy_reverb/tgt_{batch_idx}.wav')\n",
    "    tgt_real_img = torch.stft(tgt_sig, frame_len, frame_shift, frame_len, torch.hamming_window(frame_len), center=False, return_complex=False)\n",
    "    tgt_real_img = torch.permute(tgt_real_img, [0, 3, 2, 1])\n",
    "\n",
    "    mix_spec_cmplx = format_complex(mix_real_img)\n",
    "    tgt_spec_cmplx = format_complex(tgt_real_img)\n",
    "\n",
    "    ##extracting 2 channels\n",
    "    mix_ri_spec = mix_spec_cmplx[1:3,:,:]\n",
    "    tgt_ri_spec = tgt_spec_cmplx[1:3,:,:]\n",
    "\n",
    "    #Vad \n",
    "    vad_comp_sig = tgt_sig\n",
    "\n",
    "    sig_vad_1 = compute_vad(vad_comp_sig[0,:].cpu().numpy(), frame_len, frame_shift)\n",
    "    sig_vad_2 = compute_vad(vad_comp_sig[1,:].cpu().numpy(), frame_len, frame_shift)\n",
    "    tgt_sig_vad = sig_vad_1*sig_vad_2\n",
    "    tgt_sig_vad = tgt_sig_vad.to(device=tgt_sig.device)\n",
    "\n",
    "\n",
    "    euclid_dist=True\n",
    "    mix_f_doa, mix_f_vals, mix_utt_doa, _, _ = gcc_phat_loc_orient(mix_spec_cmplx, torch.abs(mix_spec_cmplx), 16000, frame_len, local_mic_pos, \n",
    "                                                                    local_mic_center, src_mic_dist=1, weighted=True, sig_vad=tgt_sig_vad, is_euclidean_dist=euclid_dist)\n",
    "\n",
    "    wt_tgt = get_wt(option, mix_spec_cmplx, tgt_spec_cmplx) #torch.abs(tgt_spec_cmplx) #get_mask(mix_spec_cmplx, tgt_spec_cmplx) # #torch.tanh(\n",
    "    tgt_f_doa, tgt_f_vals, tgt_utt_doa, _, tgt_freq_vals = gcc_phat_loc_orient(tgt_spec_cmplx, wt_tgt, 16000, frame_len, local_mic_pos, \n",
    "                                                                    local_mic_center, src_mic_dist=1, weighted=True, sig_vad=tgt_sig_vad, is_euclidean_dist=euclid_dist)\n",
    "\n",
    "    mix_frm_Acc,_ = get_acc(tgt_sig_vad, mix_f_doa, ref_f_doa, tol=tol, vad_th=0.6)\n",
    "\n",
    "    for idx in idx_list:\n",
    "        est_sig, fs = torchaudio.load(f'../signals/{tst}_rirs_dbg/loss_functions_comparison_4mic_diffuse_noisy_reverb/est_{batch_idx}_{idx}.wav')\n",
    "        est_real_img = torch.stft(est_sig, frame_len, frame_shift, frame_len, torch.hamming_window(frame_len), center=False, return_complex=False)\n",
    "        est_real_img = torch.permute(est_real_img, [0, 3, 2, 1])\n",
    "\n",
    "        est_spec_cmplx = format_complex(est_real_img)\n",
    "\n",
    "        est_ri_spec = est_spec_cmplx[1:3,:,:]\n",
    "\n",
    "        wt_est = get_wt(option, mix_spec_cmplx, est_spec_cmplx) #torch.abs(est_spec_cmplx) # get_mask(mix_spec_cmplx, est_spec_cmplx) # # torch.tanh(                                                 \n",
    "        est_f_doa, est_f_vals, est_utt_doa, _, est_freq_vals = gcc_phat_loc_orient(est_spec_cmplx, wt_est, 16000, frame_len, local_mic_pos, \n",
    "                                                                        local_mic_center, src_mic_dist=1, weighted=True, sig_vad=tgt_sig_vad, is_euclidean_dist=euclid_dist)\n",
    "    \n",
    "        est_frm_Acc, failed_frms = get_acc(tgt_sig_vad, est_f_doa, ref_f_doa, tol=tol, vad_th=0.6)\n",
    "\n",
    "        #Utterance level\n",
    "        doa_degrees = torch.rad2deg(doa[:,:,-1])[0,0]\n",
    "        mix_utt_Acc = 1 if torch.abs(mix_utt_doa-doa_degrees) <= tol else 0 #tgt_utt_doa\n",
    "        est_utt_Acc = 1 if torch.abs(est_utt_doa-doa_degrees) <= tol else 0 #tgt_utt_doa\n",
    "\n",
    "        print(dataset_dtype, mix_frm_Acc, est_frm_Acc) #, mix_Acc, est_Acc)\n",
    "        print(ref_f_doa[0], mix_utt_doa, est_utt_doa)\n",
    "\n",
    "        plt.figure()\n",
    "        plt.plot(est_f_doa)\n",
    "        plt.plot(torch.abs(ref_f_doa))\n",
    "        plt.plot(180-torch.abs(ref_f_doa))"
   ]
  },
  {
   "cell_type": "code",
   "execution_count": null,
   "metadata": {},
   "outputs": [],
   "source": [
    "#tol = 5.0\n",
    "dataset_dtype = \"stationary\"\n",
    "euclid_dist=True\n",
    "(tst, tol, t60) = (\"simu\", 5.0, 1.0)\n",
    "#(tst, tol,t60) = (\"real\", 7.5, 0.61)\n",
    "sig_list = [3]\n",
    "for batch_idx in sig_list:\n",
    "    print(batch_idx, \"G_0.3\")\n",
    "    for idx in range(5):\n",
    "        info = torch.load(f'../signals/{tst}_rirs_dbg/loss_functions_comparison_4mic_diffuse_noisy_reverb/doa_{t60}_{batch_idx}_{idx}_tol_{tol}deg_euclid_{euclid_dist}.pt', map_location=torch.device('cpu')) #tr_s_test_{dataset_dtype}_{dataset_condition}_{t60}doa_{app_str}.pt')\n",
    "\n",
    "        #ref_f_doa[0]\n",
    "\n",
    "        (mix_f_doa, mix_f_vals, mix_utt_doa) = info['mix']\n",
    "        (tgt_f_doa, tgt_f_vals, tgt_sig_vad, tgt_utt_doa) = info['tgt']\n",
    "        (est_f_doa, est_f_vals, est_utt_doa) = info['est']\n",
    "\n",
    "        doa = info['doa']\n",
    "        ref_f_doa = torch.rad2deg(doa[:,:,-1])[0,:mix_f_doa.shape[0]]\n",
    "\n",
    "        mix_frm_Acc,_ = get_acc(np.array(tgt_sig_vad), np.array(mix_f_doa), np.array(ref_f_doa),tol = tol, vad_th=0.6)\n",
    "        est_frm_Acc, failed_frms = get_acc(np.array(tgt_sig_vad), np.array(est_f_doa), np.array(ref_f_doa),tol = tol, vad_th=0.6)\n",
    "        \n",
    "        print(dataset_dtype, mix_frm_Acc, est_frm_Acc) #, mix_Acc, est_Acc)\n",
    "        print(ref_f_doa[0], mix_utt_doa, est_utt_doa)\n",
    "\n",
    "    per_file_doa(batch_idx, \"G_1\", tst, tol)\n",
    "    per_file_doa(batch_idx, \"MASK\", tst, tol)"
   ]
  },
  {
   "cell_type": "code",
   "execution_count": 11,
   "metadata": {},
   "outputs": [
    {
     "ename": "KeyboardInterrupt",
     "evalue": "",
     "output_type": "error",
     "traceback": [
      "\u001b[0;31m---------------------------------------------------------------------------\u001b[0m",
      "\u001b[0;31mKeyboardInterrupt\u001b[0m                         Traceback (most recent call last)",
      "\u001b[1;32m/users/PAS1937/battula12/Shanmukh/Projects/MVTSS/Controlled_Experiments/Code/doa_comparison.ipynb Cell 14\u001b[0m in \u001b[0;36m<cell line: 14>\u001b[0;34m()\u001b[0m\n\u001b[1;32m     <a href='vscode-notebook-cell://ssh-remote%2Bpitzer.osc.edu/users/PAS1937/battula12/Shanmukh/Projects/MVTSS/Controlled_Experiments/Code/doa_comparison.ipynb#X16sdnNjb2RlLXJlbW90ZQ%3D%3D?line=48'>49</a>\u001b[0m \u001b[39mfor\u001b[39;00m option \u001b[39min\u001b[39;00m options:\n\u001b[1;32m     <a href='vscode-notebook-cell://ssh-remote%2Bpitzer.osc.edu/users/PAS1937/battula12/Shanmukh/Projects/MVTSS/Controlled_Experiments/Code/doa_comparison.ipynb#X16sdnNjb2RlLXJlbW90ZQ%3D%3D?line=49'>50</a>\u001b[0m     wt_mix \u001b[39m=\u001b[39m get_wt(option, mix_ri_spec, mix_ri_spec)\n\u001b[0;32m---> <a href='vscode-notebook-cell://ssh-remote%2Bpitzer.osc.edu/users/PAS1937/battula12/Shanmukh/Projects/MVTSS/Controlled_Experiments/Code/doa_comparison.ipynb#X16sdnNjb2RlLXJlbW90ZQ%3D%3D?line=50'>51</a>\u001b[0m     mix_f_doa, mix_f_vals, mix_utt_doa, _, _ \u001b[39m=\u001b[39m gcc_phat_loc_orient(mix_ri_spec, wt_mix, \u001b[39m16000\u001b[39;49m, frame_len, local_mic_pos, \n\u001b[1;32m     <a href='vscode-notebook-cell://ssh-remote%2Bpitzer.osc.edu/users/PAS1937/battula12/Shanmukh/Projects/MVTSS/Controlled_Experiments/Code/doa_comparison.ipynb#X16sdnNjb2RlLXJlbW90ZQ%3D%3D?line=51'>52</a>\u001b[0m                                                                 local_mic_center, src_mic_dist\u001b[39m=\u001b[39;49m\u001b[39m1\u001b[39;49m, weighted\u001b[39m=\u001b[39;49m\u001b[39mTrue\u001b[39;49;00m, sig_vad\u001b[39m=\u001b[39;49mtgt_sig_vad, is_euclidean_dist\u001b[39m=\u001b[39;49meuclid_dist)\n\u001b[1;32m     <a href='vscode-notebook-cell://ssh-remote%2Bpitzer.osc.edu/users/PAS1937/battula12/Shanmukh/Projects/MVTSS/Controlled_Experiments/Code/doa_comparison.ipynb#X16sdnNjb2RlLXJlbW90ZQ%3D%3D?line=53'>54</a>\u001b[0m     doa \u001b[39m=\u001b[39m info[\u001b[39m'\u001b[39m\u001b[39mdoa\u001b[39m\u001b[39m'\u001b[39m]\n\u001b[1;32m     <a href='vscode-notebook-cell://ssh-remote%2Bpitzer.osc.edu/users/PAS1937/battula12/Shanmukh/Projects/MVTSS/Controlled_Experiments/Code/doa_comparison.ipynb#X16sdnNjb2RlLXJlbW90ZQ%3D%3D?line=54'>55</a>\u001b[0m     ref_f_doa \u001b[39m=\u001b[39m torch\u001b[39m.\u001b[39mrad2deg(doa[:,:,\u001b[39m-\u001b[39m\u001b[39m1\u001b[39m])[\u001b[39m0\u001b[39m,:mix_f_doa\u001b[39m.\u001b[39mshape[\u001b[39m0\u001b[39m]]\n",
      "\u001b[1;32m/users/PAS1937/battula12/Shanmukh/Projects/MVTSS/Controlled_Experiments/Code/doa_comparison.ipynb Cell 14\u001b[0m in \u001b[0;36mgcc_phat_loc_orient\u001b[0;34m(X, est_mask, fs, nfft, local_mic_pos, mic_center, src_mic_dist, weighted, sig_vad, is_euclidean_dist)\u001b[0m\n\u001b[1;32m     <a href='vscode-notebook-cell://ssh-remote%2Bpitzer.osc.edu/users/PAS1937/battula12/Shanmukh/Projects/MVTSS/Controlled_Experiments/Code/doa_comparison.ipynb#X16sdnNjb2RlLXJlbW90ZQ%3D%3D?line=43'>44</a>\u001b[0m gcc_phat_pq \u001b[39m=\u001b[39m torch\u001b[39m.\u001b[39mcos( X_ph_diff \u001b[39m-\u001b[39m delay_vec\u001b[39m.\u001b[39mto(device\u001b[39m=\u001b[39mX_ph_diff\u001b[39m.\u001b[39mdevice))\n\u001b[1;32m     <a href='vscode-notebook-cell://ssh-remote%2Bpitzer.osc.edu/users/PAS1937/battula12/Shanmukh/Projects/MVTSS/Controlled_Experiments/Code/doa_comparison.ipynb#X16sdnNjb2RlLXJlbW90ZQ%3D%3D?line=44'>45</a>\u001b[0m \u001b[39mif\u001b[39;00m weighted:\n\u001b[0;32m---> <a href='vscode-notebook-cell://ssh-remote%2Bpitzer.osc.edu/users/PAS1937/battula12/Shanmukh/Projects/MVTSS/Controlled_Experiments/Code/doa_comparison.ipynb#X16sdnNjb2RlLXJlbW90ZQ%3D%3D?line=45'>46</a>\u001b[0m     mgcc_phat_pq \u001b[39m=\u001b[39m est_mask_pq\u001b[39m*\u001b[39;49mgcc_phat_pq\n\u001b[1;32m     <a href='vscode-notebook-cell://ssh-remote%2Bpitzer.osc.edu/users/PAS1937/battula12/Shanmukh/Projects/MVTSS/Controlled_Experiments/Code/doa_comparison.ipynb#X16sdnNjb2RlLXJlbW90ZQ%3D%3D?line=46'>47</a>\u001b[0m     gcc_phat_pq \u001b[39m=\u001b[39m mgcc_phat_pq\n\u001b[1;32m     <a href='vscode-notebook-cell://ssh-remote%2Bpitzer.osc.edu/users/PAS1937/battula12/Shanmukh/Projects/MVTSS/Controlled_Experiments/Code/doa_comparison.ipynb#X16sdnNjb2RlLXJlbW90ZQ%3D%3D?line=48'>49</a>\u001b[0m all_info\u001b[39m.\u001b[39mappend(gcc_phat_pq)\n",
      "\u001b[0;31mKeyboardInterrupt\u001b[0m: "
     ]
    }
   ],
   "source": [
    "frame_len, frame_shift = 320, 160\n",
    "batch_idx_lst = [0,1,2,3,4]\n",
    "options = [\"MASK\"] #,\n",
    "loss_list = [ (3, \"MIMO_RI_PD\")] #, \"MIMO_RI\", \"MIMO_RI_MAG\", \"MIMO_RI_MAG_PD\", \"MIMO_RI_PD_REF\"]\n",
    "#idx_list = [1,2] #[0,1,2,3,4]\n",
    "dataset_dtype = \"stationary\"\n",
    "euclid_dist=True\n",
    "(tst, tol, t60, snr) = (\"simu\", 5.0, 1.0, 20.0)\n",
    "folder = \"loss_functions_comparison_2mic_noisy_ps\"\n",
    "\n",
    "#option = \"G_1\" #\n",
    "\n",
    "\n",
    "for batch_idx in batch_idx_lst:\n",
    "    info = torch.load(f'../signals/{tst}_rirs_dbg/{folder}/doa_{snr}_{batch_idx}_{0}_{\"MIMO_RI\"}_tol_{tol}deg_euclid_{euclid_dist}_wgt_mech_MASK.pt', map_location=torch.device('cpu')) #tr_s_test_{dataset_dtype}_{dataset_condition}_{t60}doa_{app_str}.pt')\n",
    "    \n",
    "\n",
    "    mix_sig, fs = torchaudio.load(f'../signals/{tst}_rirs_dbg/{folder}/mix_{batch_idx}.wav')\n",
    "    mix_real_img = torch.stft(mix_sig, frame_len, frame_shift, frame_len, torch.hamming_window(frame_len), center=False, return_complex=False)\n",
    "    mix_real_img = torch.permute(mix_real_img, [0, 3, 2, 1])\n",
    "\n",
    "    tgt_sig, fs = torchaudio.load(f'../signals/{tst}_rirs_dbg/{folder}/tgt_{batch_idx}.wav')\n",
    "    tgt_real_img = torch.stft(tgt_sig, frame_len, frame_shift, frame_len, torch.hamming_window(frame_len), center=False, return_complex=False)\n",
    "    tgt_real_img = torch.permute(tgt_real_img, [0, 3, 2, 1])\n",
    "\n",
    "    mix_spec_cmplx = format_complex(mix_real_img)\n",
    "    tgt_spec_cmplx = format_complex(tgt_real_img)\n",
    "\n",
    "    ##extracting 2 channels\n",
    "    num_ch = mix_spec_cmplx.shape[0]\n",
    "    if num_ch>2:\n",
    "        mix_ri_spec = mix_spec_cmplx[1:3,:,:]\n",
    "        tgt_ri_spec = tgt_spec_cmplx[1:3,:,:]\n",
    "    else:\n",
    "        mix_ri_spec = mix_spec_cmplx\n",
    "        tgt_ri_spec = tgt_spec_cmplx\n",
    "    #Vad \n",
    "    vad_comp_sig = tgt_sig\n",
    "    #print(tgt_sig.shape)\n",
    "\n",
    "    sig_vad_1 = compute_vad(vad_comp_sig[0,:].cpu().numpy(), frame_len, frame_shift)\n",
    "    sig_vad_2 = compute_vad(vad_comp_sig[1,:].cpu().numpy(), frame_len, frame_shift)\n",
    "    tgt_sig_vad = sig_vad_1*sig_vad_2\n",
    "    tgt_sig_vad = tgt_sig_vad.to(device=tgt_sig.device)\n",
    "    \n",
    "    euclid_dist=True\n",
    "\n",
    "\n",
    "    for option in options:\n",
    "        wt_mix = get_wt(option, mix_ri_spec, mix_ri_spec)\n",
    "        mix_f_doa, mix_f_vals, mix_utt_doa, _, _ = gcc_phat_loc_orient(mix_ri_spec, wt_mix, 16000, frame_len, local_mic_pos, \n",
    "                                                                    local_mic_center, src_mic_dist=1, weighted=True, sig_vad=tgt_sig_vad, is_euclidean_dist=euclid_dist)\n",
    "    \n",
    "        doa = info['doa']\n",
    "        ref_f_doa = torch.rad2deg(doa[:,:,-1])[0,:mix_f_doa.shape[0]]\n",
    "        mix_frm_Acc,_, mix_mae_info = get_acc(tgt_sig_vad, mix_f_doa, ref_f_doa, tol=tol, vad_th=0.6)\n",
    "\n",
    "        wt_tgt = get_wt(option, mix_ri_spec, tgt_ri_spec)#mix_spec_cmplx, tgt_spec_cmplx) #torch.abs(tgt_spec_cmplx) #get_mask(mix_spec_cmplx, tgt_spec_cmplx) # #torch.tanh(\n",
    "        tgt_f_doa, tgt_f_vals, tgt_utt_doa, _, tgt_freq_vals = gcc_phat_loc_orient(tgt_ri_spec, wt_tgt, 16000, frame_len, local_mic_pos, \n",
    "                                                                        local_mic_center, src_mic_dist=1, weighted=True, sig_vad=tgt_sig_vad, is_euclidean_dist=euclid_dist)\n",
    "\n",
    "    for info_loss_flag in loss_list:\n",
    "        idx, loss_flag = info_loss_flag\n",
    "        est_sig, fs = torchaudio.load(f'../signals/{tst}_rirs_dbg/{folder}/est_{batch_idx}_{idx}_{loss_flag}.wav')\n",
    "        est_real_img = torch.stft(est_sig, frame_len, frame_shift, frame_len, torch.hamming_window(frame_len), center=False, return_complex=False)\n",
    "        est_real_img = torch.permute(est_real_img, [0, 3, 2, 1])\n",
    "\n",
    "        est_spec_cmplx = format_complex(est_real_img)\n",
    "\n",
    "        if num_ch>2:\n",
    "            est_ri_spec = est_spec_cmplx[1:3,:,:]\n",
    "        else:\n",
    "            est_ri_spec = est_spec_cmplx\n",
    "\n",
    "            \n",
    "        for option in options:\n",
    "            wt_est = get_wt(option, mix_ri_spec, est_ri_spec)#mix_spec_cmplx, est_spec_cmplx) #torch.abs(est_spec_cmplx) # get_mask(mix_spec_cmplx, est_spec_cmplx) # # torch.tanh(                                                 \n",
    "            est_f_doa, est_f_vals, est_utt_doa, _, est_freq_vals = gcc_phat_loc_orient(est_ri_spec, wt_est, 16000, frame_len, local_mic_pos, \n",
    "                                                                            local_mic_center, src_mic_dist=1, weighted=True, sig_vad=tgt_sig_vad, is_euclidean_dist=euclid_dist)\n",
    "        \n",
    "            est_frm_Acc, failed_frms, est_mae_info = get_acc(tgt_sig_vad, est_f_doa, ref_f_doa, tol=tol, vad_th=0.6)\n",
    "\n",
    "            #Utterance level\n",
    "            doa_degrees = torch.rad2deg(doa[:,:,-1])[0,0]\n",
    "            mix_utt_Acc = 1 if torch.abs(mix_utt_doa-doa_degrees) <= tol else 0 #tgt_utt_doa\n",
    "            est_utt_Acc = 1 if torch.abs(est_utt_doa-doa_degrees) <= tol else 0 #tgt_utt_doa\n",
    "\n",
    "            print(dataset_dtype,loss_flag, mix_frm_Acc, est_frm_Acc, mix_mae_info, est_mae_info) #, mix_Acc, est_Acc)\n",
    "            print(loss_flag, ref_f_doa[0], mix_utt_doa, est_utt_doa)\n",
    "\n",
    "            plt.figure()\n",
    "            plt.title(f'{batch_idx}_{idx}_{loss_flag}_{option}')\n",
    "            plt.plot(mix_f_doa,'b')\n",
    "            plt.plot(est_f_doa, 'r')\n",
    "            plt.plot(torch.abs(ref_f_doa))\n",
    "            plt.plot(180-torch.abs(ref_f_doa))"
   ]
  },
  {
   "cell_type": "code",
   "execution_count": 10,
   "metadata": {},
   "outputs": [
    {
     "data": {
      "text/plain": [
       "[<matplotlib.lines.Line2D at 0x2b57bff9ffd0>]"
      ]
     },
     "execution_count": 10,
     "metadata": {},
     "output_type": "execute_result"
    },
    {
     "data": {
      "image/png": "[encoded data removed]",
      "text/plain": [
       "<Figure size 432x288 with 1 Axes>"
      ]
     },
     "metadata": {
      "needs_background": "light"
     },
     "output_type": "display_data"
    }
   ],
   "source": [
    "plt.figure()\n",
    "plt.title(f'{batch_idx}_{idx}_{loss_flag}_{option}')\n",
    "plt.plot(mix_f_doa,'b')\n",
    "plt.plot(est_f_doa, 'r')\n",
    "plt.plot(torch.abs(ref_f_doa))\n",
    "plt.plot(180-torch.abs(ref_f_doa))"
   ]
  },
  {
   "cell_type": "code",
   "execution_count": 25,
   "metadata": {},
   "outputs": [
    {
     "data": {
      "text/plain": [
       "[<matplotlib.lines.Line2D at 0x2b07937383a0>]"
      ]
     },
     "execution_count": 25,
     "metadata": {},
     "output_type": "execute_result"
    },
    {
     "data": {
      "image/png": "[encoded data removed]",
      "text/plain": [
       "<Figure size 432x288 with 1 Axes>"
      ]
     },
     "metadata": {
      "needs_background": "light"
     },
     "output_type": "display_data"
    }
   ],
   "source": [
    "plt.title(f'{batch_idx}_{idx}_{option}')\n",
    "plt.plot(tgt_f_doa)\n",
    "plt.plot(torch.abs(ref_f_doa))\n",
    "plt.plot(180-torch.abs(ref_f_doa))"
   ]
  },
  {
   "cell_type": "code",
   "execution_count": null,
   "metadata": {},
   "outputs": [],
   "source": [
    "np.array(failed_frms)"
   ]
  },
  {
   "cell_type": "code",
   "execution_count": 26,
   "metadata": {},
   "outputs": [
    {
     "data": {
      "text/plain": [
       "[<matplotlib.lines.Line2D at 0x2b0837609ca0>]"
      ]
     },
     "execution_count": 26,
     "metadata": {},
     "output_type": "execute_result"
    },
    {
     "data": {
      "image/png": "[encoded data removed]",
      "text/plain": [
       "<Figure size 432x288 with 1 Axes>"
      ]
     },
     "metadata": {
      "needs_background": "light"
     },
     "output_type": "display_data"
    }
   ],
   "source": [
    "#loss\n",
    "loss_ri = torch.sum(torch.sum(torch.abs(est_ri_spec - tgt_ri_spec), dim=0), dim=1)/160\n",
    "\n",
    "#perm\n",
    "est_ri_spec_perm = torch.concat((est_ri_spec[[1]], est_ri_spec[[0]]))\n",
    "loss_perm_ri = torch.sum(torch.sum(torch.abs(est_ri_spec_perm - tgt_ri_spec), dim=0), dim=1)/160\n",
    "\n",
    "plt.plot(loss_ri*180)\n",
    "plt.plot(loss_perm_ri*180)\n"
   ]
  },
  {
   "cell_type": "code",
   "execution_count": 27,
   "metadata": {},
   "outputs": [
    {
     "name": "stdout",
     "output_type": "stream",
     "text": [
      "tensor(74) tensor(88)\n"
     ]
    },
    {
     "data": {
      "text/plain": [
       "[<matplotlib.lines.Line2D at 0x2b0793d88e20>]"
      ]
     },
     "execution_count": 27,
     "metadata": {},
     "output_type": "execute_result"
    },
    {
     "data": {
      "image/png": "[encoded data removed]",
      "text/plain": [
       "<Figure size 432x288 with 1 Axes>"
      ]
     },
     "metadata": {
      "needs_background": "light"
     },
     "output_type": "display_data"
    }
   ],
   "source": [
    "frm = 50\n",
    "print(np.argmax(tgt_f_vals[:,frm]), np.argmax(est_f_vals[:,frm]))\n",
    "plt.plot(tgt_f_vals[:,frm], 'b')\n",
    "#plt.figure()\n",
    "plt.plot(est_f_vals[:,frm], 'r')"
   ]
  },
  {
   "cell_type": "code",
   "execution_count": 30,
   "metadata": {},
   "outputs": [
    {
     "data": {
      "text/plain": [
       "torch.Size([399, 161])"
      ]
     },
     "execution_count": 30,
     "metadata": {},
     "output_type": "execute_result"
    }
   ],
   "source": []
  },
  {
   "cell_type": "code",
   "execution_count": 28,
   "metadata": {},
   "outputs": [],
   "source": [
    "tgt_mask = wt_tgt[0]*wt_tgt[1]\n",
    "est_mask = wt_est[0]*wt_est[1]"
   ]
  },
  {
   "cell_type": "code",
   "execution_count": 29,
   "metadata": {},
   "outputs": [],
   "source": [
    "est_mag_1, est_ph_1, est_mag_2, est_ph_2 = get_mag_ph(est_real_img)\n",
    "tgt_mag_1, tgt_ph_1, tgt_mag_2, tgt_ph_2 = get_mag_ph(tgt_real_img)\n",
    "mix_mag_1, mix_ph_1, mix_mag_2, mix_ph_2 = get_mag_ph(mix_real_img)"
   ]
  },
  {
   "cell_type": "code",
   "execution_count": 30,
   "metadata": {},
   "outputs": [
    {
     "data": {
      "text/plain": [
       "<module 'matplotlib.pyplot' from '/users/PAS1937/battula12/my_pkgs/anaconda3/lib/python3.9/site-packages/matplotlib/pyplot.py'>"
      ]
     },
     "execution_count": 30,
     "metadata": {},
     "output_type": "execute_result"
    },
    {
     "data": {
      "image/png": "[encoded data removed]",
      "text/plain": [
       "<Figure size 432x288 with 1 Axes>"
      ]
     },
     "metadata": {
      "needs_background": "light"
     },
     "output_type": "display_data"
    }
   ],
   "source": [
    "plt.plot(mix_mag_1[frm,:], 'b')\n",
    "plt.plot(tgt_mag_1[frm,:], 'g')\n",
    "plt"
   ]
  },
  {
   "cell_type": "code",
   "execution_count": 31,
   "metadata": {},
   "outputs": [
    {
     "data": {
      "text/plain": [
       "[<matplotlib.lines.Line2D at 0x2b0837974700>]"
      ]
     },
     "execution_count": 31,
     "metadata": {},
     "output_type": "execute_result"
    },
    {
     "data": {
      "image/png": "[encoded data removed]",
      "text/plain": [
       "<Figure size 432x288 with 1 Axes>"
      ]
     },
     "metadata": {
      "needs_background": "light"
     },
     "output_type": "display_data"
    },
    {
     "data": {
      "image/png": "[encoded data removed]",
      "text/plain": [
       "<Figure size 432x288 with 1 Axes>"
      ]
     },
     "metadata": {
      "needs_background": "light"
     },
     "output_type": "display_data"
    },
    {
     "data": {
      "image/png": "[encoded data removed]",
      "text/plain": [
       "<Figure size 432x288 with 1 Axes>"
      ]
     },
     "metadata": {
      "needs_background": "light"
     },
     "output_type": "display_data"
    },
    {
     "data": {
      "image/png": "[encoded data removed]",
      "text/plain": [
       "<Figure size 432x288 with 1 Axes>"
      ]
     },
     "metadata": {
      "needs_background": "light"
     },
     "output_type": "display_data"
    }
   ],
   "source": [
    "plt.plot(tgt_mag_1[frm,:], 'b')\n",
    "plt.plot(est_mag_1[frm,:], 'r')\n",
    "plt.figure()\n",
    "plt.plot(tgt_mag_2[frm,:], 'b')\n",
    "plt.plot(est_mag_2[frm,:], 'r')\n",
    "plt.figure()\n",
    "plt.plot(tgt_mask[frm,:], 'b')\n",
    "plt.plot(est_mask[frm,:], 'r')\n",
    "plt.figure()\n",
    "plt.plot(tgt_mag_1[frm,:]*tgt_mag_2[frm,:], 'b')\n",
    "plt.plot(est_mag_1[frm,:]*est_mag_2[frm,:], 'r')\n"
   ]
  },
  {
   "cell_type": "code",
   "execution_count": 32,
   "metadata": {},
   "outputs": [
    {
     "data": {
      "text/plain": [
       "[<matplotlib.lines.Line2D at 0x2b0837aba4c0>]"
      ]
     },
     "execution_count": 32,
     "metadata": {},
     "output_type": "execute_result"
    },
    {
     "data": {
      "image/png": "[encoded data removed]",
      "text/plain": [
       "<Figure size 432x288 with 1 Axes>"
      ]
     },
     "metadata": {
      "needs_background": "light"
     },
     "output_type": "display_data"
    },
    {
     "data": {
      "image/png": "[encoded data removed]",
      "text/plain": [
       "<Figure size 432x288 with 1 Axes>"
      ]
     },
     "metadata": {
      "needs_background": "light"
     },
     "output_type": "display_data"
    }
   ],
   "source": [
    "plt.figure()\n",
    "plt.plot(tgt_ph_1[frm,:]-tgt_ph_2[frm,:], 'b')\n",
    "plt.figure()\n",
    "plt.plot(est_ph_1[frm,:]-est_ph_2[frm,:], 'r')"
   ]
  },
  {
   "cell_type": "code",
   "execution_count": null,
   "metadata": {},
   "outputs": [],
   "source": [
    "plt.figure()\n",
    "plt.plot((tgt_mask[frm,1:160]*(tgt_ph_1[frm,:]-tgt_ph_2[frm,:])), 'b')\n",
    "plt.plot((est_mask[frm,1:160]*(est_ph_1[frm,:]-est_ph_2[frm,:])), 'r')\n",
    "plt.figure()\n",
    "plt.plot(tgt_mask[frm,1:160]*(tgt_ph_1[frm,:]-tgt_ph_2[frm,:]), 'b')\n",
    "plt.plot(est_mask[frm,1:160]*-1*(est_ph_1[frm,:]-est_ph_2[frm,:]), 'r')"
   ]
  },
  {
   "cell_type": "code",
   "execution_count": null,
   "metadata": {},
   "outputs": [],
   "source": [
    "est_real_img[1,:,frm,:][:,:25],tgt_real_img[1,:,frm,:][:,:25]"
   ]
  },
  {
   "cell_type": "code",
   "execution_count": null,
   "metadata": {},
   "outputs": [],
   "source": [
    "euclid_dist=True\n",
    "mix_f_doa, mix_f_vals, mix_utt_doa, _, _ = gcc_phat_loc_orient(mix_spec_cmplx, torch.abs(mix_spec_cmplx), 16000, frame_len, local_mic_pos, \n",
    "                                                                local_mic_center, src_mic_dist=1, weighted=True, sig_vad=tgt_sig_vad, is_euclidean_dist=euclid_dist)\n",
    "\n",
    "wt_tgt = torch.abs(tgt_spec_cmplx) #get_mask(mix_spec_cmplx, tgt_spec_cmplx) #torch.tanh(\n",
    "tgt_f_doa, tgt_f_vals, tgt_utt_doa, _, tgt_freq_vals = gcc_phat_loc_orient(tgt_spec_cmplx, wt_tgt, 16000, frame_len, local_mic_pos, \n",
    "                                                                local_mic_center, src_mic_dist=1, weighted=True, sig_vad=tgt_sig_vad, is_euclidean_dist=euclid_dist)\n",
    "\n",
    "wt_est = torch.abs(est_spec_cmplx) #get_mask(mix_spec_cmplx, est_spec_cmplx)     # torch.tanh(                                                 \n",
    "est_f_doa, est_f_vals, est_utt_doa, _, est_freq_vals = gcc_phat_loc_orient(est_spec_cmplx, wt_est, 16000, frame_len, local_mic_pos, \n",
    "                                                                local_mic_center, src_mic_dist=1, weighted=True, sig_vad=tgt_sig_vad, is_euclidean_dist=euclid_dist)\n",
    "\n",
    "\n",
    "mix_frm_Acc,_ = get_acc(tgt_sig_vad, mix_f_doa, ref_f_doa, tol=tol, vad_th=0.6)\n",
    "est_frm_Acc, failed_frms = get_acc(tgt_sig_vad, est_f_doa, ref_f_doa, tol=tol, vad_th=0.6)\n",
    "\n",
    "#Utterance level\n",
    "doa_degrees = torch.rad2deg(doa[:,:,-1])[0,0]\n",
    "mix_utt_Acc = 1 if torch.abs(mix_utt_doa-doa_degrees) <= tol else 0 #tgt_utt_doa\n",
    "est_utt_Acc = 1 if torch.abs(est_utt_doa-doa_degrees) <= tol else 0 #tgt_utt_doa\n",
    "\n",
    "print(dataset_dtype, mix_frm_Acc, est_frm_Acc) #, mix_Acc, est_Acc)\n",
    "print(ref_f_doa[0], mix_utt_doa, est_utt_doa)"
   ]
  },
  {
   "cell_type": "code",
   "execution_count": null,
   "metadata": {},
   "outputs": [],
   "source": [
    "frm = 135\n",
    "plt.plot(est_f_vals[:,frm])"
   ]
  },
  {
   "cell_type": "code",
   "execution_count": null,
   "metadata": {},
   "outputs": [],
   "source": [
    "plt.plot(est_f_doa)\n",
    "plt.plot(ref_f_doa)"
   ]
  },
  {
   "attachments": {},
   "cell_type": "markdown",
   "metadata": {},
   "source": [
    "#\n",
    "\\gamma = 1 \\\n",
    "stationary 0.19946091644204852 0.18598382749326145 \\\n",
    "tensor(75.) tensor(86.) tensor(78.) \\\n",
    "stationary 0.19946091644204852 0.20485175202156333 \\\n",
    "tensor(75.) tensor(86.) tensor(78.) \\\n",
    "stationary 0.19946091644204852 0.6361185983827493 \\\n",
    "tensor(75.) tensor(86.) tensor(73.) \\\n",
    "stationary 0.19946091644204852 0.7520215633423181 \\\n",
    "tensor(75.) tensor(86.) tensor(73.) \\\n",
    "stationary 0.19946091644204852 0.5902964959568733 \\\n",
    "tensor(75.) tensor(86.) tensor(74.) "
   ]
  },
  {
   "attachments": {},
   "cell_type": "markdown",
   "metadata": {},
   "source": [
    "#\n",
    "\\gamma = 0.3\n",
    "stationary 0.16981132075471697 0.16711590296495957 \\\n",
    "tensor(75.) tensor(85.) tensor(84.) \\\n",
    "stationary 0.16981132075471697 0.2830188679245283 \\\n",
    "tensor(75.) tensor(85.) tensor(76.) \\\n",
    "stationary 0.16981132075471697 0.6199460916442049 \\\n",
    "tensor(75.) tensor(85.) tensor(73.) \\\n",
    "stationary 0.16981132075471697 0.3584905660377358 \\\n",
    "tensor(75.) tensor(85.) tensor(74.) \\\n",
    "stationary 0.16981132075471697 0.16442048517520216 \\\n",
    "tensor(75.) tensor(85.) tensor(75.)"
   ]
  },
  {
   "cell_type": "code",
   "execution_count": null,
   "metadata": {},
   "outputs": [],
   "source": []
  }
 ],
 "metadata": {
  "kernelspec": {
   "display_name": "base",
   "language": "python",
   "name": "python3"
  },
  "language_info": {
   "codemirror_mode": {
    "name": "ipython",
    "version": 3
   },
   "file_extension": ".py",
   "mimetype": "text/x-python",
   "name": "python",
   "nbconvert_exporter": "python",
   "pygments_lexer": "ipython3",
   "version": "3.9.12"
  },
  "orig_nbformat": 4
 },
 "nbformat": 4,
 "nbformat_minor": 2
}
