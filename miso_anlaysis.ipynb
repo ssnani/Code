{
 "cells": [
  {
   "cell_type": "code",
   "execution_count": 4,
   "metadata": {},
   "outputs": [
    {
     "name": "stdout",
     "output_type": "stream",
     "text": [
      "t60: 0.0, MISO_RI: 0.9998044921875, MISO_RI_MAG: 0.9998180078125\n",
      "t60: 0.2, MISO_RI: 0.9962052734375, MISO_RI_MAG: 0.9967649609375\n",
      "t60: 0.3, MISO_RI: 0.980155546875, MISO_RI_MAG: 0.9862698046875001\n",
      "t60: 0.4, MISO_RI: 0.942685703125, MISO_RI_MAG: 0.97030359375\n",
      "t60: 0.5, MISO_RI: 0.9020433984375, MISO_RI_MAG: 0.9517694531249999\n",
      "t60: 0.6, MISO_RI: 0.865833125, MISO_RI_MAG: 0.93481296875\n",
      "t60: 0.7, MISO_RI: 0.8350016796874999, MISO_RI_MAG: 0.9201000781249998\n",
      "t60: 0.8, MISO_RI: 0.8106334765625001, MISO_RI_MAG: 0.9051181249999999\n",
      "t60: 0.9, MISO_RI: 0.7915872265624999, MISO_RI_MAG: 0.8922422265625001\n",
      "t60: 1.0, MISO_RI: 0.777466171875, MISO_RI_MAG: 0.8849584765625\n",
      "MISO_RI: 0.8901416093749999, MISO_RI_MAG: 0.9442157695312501\n"
     ]
    }
   ],
   "source": [
    "import pandas as pd\n",
    "\n",
    "t60_list = [round(0.1*i, 1) for i in range(0, 11) if i!= 1]\n",
    "\n",
    "#array_type, inter_mic_dist = 'linear', 8.0\n",
    "array_type, inter_mic_dist = 'circular', 4.25\n",
    "\n",
    "miso_ri_avg, miso_ri_mag_avg = 0,0\n",
    "for t60 in t60_list:\n",
    "    \n",
    "    file_name = f'../Logs/{array_type}_mic_miso_csv/reverb/reverb_{array_type}_{inter_mic_dist}cm_t60_{t60}_comparison_{array_type}_miso_doa_parallel.csv'\n",
    "    #print(file_name)\n",
    "    # Read the CSV file into a pandas DataFrame\n",
    "    df = pd.read_csv(file_name)\n",
    "\n",
    "    miso_ri_frm_acc = df[df[\"Loss\"]==\"MISO_RI\"][\"7mic_frm_acc\"].mean()\n",
    "    miso_ri_mag_frm_acc = df[df[\"Loss\"]==\"MISO_RI_MAG\"][\"7mic_frm_acc\"].mean()\n",
    "\n",
    "    miso_ri_avg += miso_ri_frm_acc\n",
    "    miso_ri_mag_avg += miso_ri_mag_frm_acc\n",
    "\n",
    "    print(f\"t60: {t60}, MISO_RI: {miso_ri_frm_acc}, MISO_RI_MAG: {miso_ri_mag_frm_acc}\")\n",
    "\n",
    "print(f\"MISO_RI: {miso_ri_avg/len(t60_list)}, MISO_RI_MAG: {miso_ri_mag_avg/len(t60_list)}\")"
   ]
  },
  {
   "cell_type": "code",
   "execution_count": 7,
   "metadata": {},
   "outputs": [
    {
     "name": "stdout",
     "output_type": "stream",
     "text": [
      "snr: -5.0, MISO_RI: 0.5875241796875, MISO_RI_MAG: 0.6968383984375001\n",
      "snr: -2.5, MISO_RI: 0.6361797265625, MISO_RI_MAG: 0.7344888671875001\n",
      "snr: 0.0, MISO_RI: 0.6745568750000001, MISO_RI_MAG: 0.7648906640625001\n",
      "snr: 2.5, MISO_RI: 0.7026595703125, MISO_RI_MAG: 0.7867677343749999\n",
      "snr: 5.0, MISO_RI: 0.7222191015625, MISO_RI_MAG: 0.8021392578125\n",
      "snr: 10.0, MISO_RI: 0.7511898046875001, MISO_RI_MAG: 0.8188700000000001\n",
      "snr: 15.0, MISO_RI: 0.7951845703125, MISO_RI_MAG: 0.8401275390625\n",
      "snr: 20.0, MISO_RI: 0.8546390234375, MISO_RI_MAG: 0.873503359375\n",
      "MISO_RI: 0.7155191064453125, MISO_RI_MAG: 0.7897032275390626\n"
     ]
    }
   ],
   "source": [
    "import pandas as pd\n",
    "\n",
    "#array_type, num_mics, inter_mic_dist, dataset_condition, noise_simulation = 'linear', 8, 8.0, 'noisy', 'point_source'\n",
    "array_type, num_mics, inter_mic_dist, dataset_condition, noise_simulation = 'circular', 7, 4.25, 'noisy', 'point_source'\n",
    "snr_list = [-5.0, -2.5, 0.0, 2.5, 5.0, 10.0, 15.0, 20.0]\n",
    "\n",
    "miso_ri_avg, miso_ri_mag_avg = 0,0\n",
    "for snr in snr_list:\n",
    "    file_name = f'../Logs/{array_type}_mic_miso_csv/{dataset_condition}/{noise_simulation}/{dataset_condition}_{noise_simulation}_{array_type}_{inter_mic_dist}cm_snr_{snr}dB_{array_type}_miso_doa_parallel.csv'\n",
    "    #print(file_name)\n",
    "    # Read the CSV file into a pandas DataFrame\n",
    "    df = pd.read_csv(file_name)\n",
    "\n",
    "    miso_ri_frm_acc = df[df[\"Loss\"]==\"MISO_RI\"][f\"{num_mics}mic_frm_acc\"].mean()\n",
    "    miso_ri_mag_frm_acc = df[df[\"Loss\"]==\"MISO_RI_MAG\"][f\"{num_mics}mic_frm_acc\"].mean()\n",
    "\n",
    "    miso_ri_avg += miso_ri_frm_acc\n",
    "    miso_ri_mag_avg += miso_ri_mag_frm_acc\n",
    "\n",
    "    print(f\"snr: {snr}, MISO_RI: {miso_ri_frm_acc}, MISO_RI_MAG: {miso_ri_mag_frm_acc}\")\n",
    "\n",
    "print(f\"MISO_RI: {miso_ri_avg/len(snr_list)}, MISO_RI_MAG: {miso_ri_mag_avg/len(snr_list)}\")"
   ]
  },
  {
   "cell_type": "code",
   "execution_count": 8,
   "metadata": {},
   "outputs": [
    {
     "name": "stdout",
     "output_type": "stream",
     "text": [
      "snr: -5.0, t60: 0.2, MISO_RI: 0.5490128125, MISO_RI_MAG: 0.46199535156250005\n",
      "snr: -5.0, t60: 0.4, MISO_RI: 0.4816335546875001, MISO_RI_MAG: 0.3916451953125\n",
      "snr: -5.0, t60: 0.6, MISO_RI: 0.4340565625, MISO_RI_MAG: 0.33924734375\n",
      "snr: -5.0, t60: 0.8, MISO_RI: 0.39619464843749996, MISO_RI_MAG: 0.299798671875\n",
      "snr: -5.0, t60: 1.0, MISO_RI: 0.3651404296875, MISO_RI_MAG: 0.268052578125\n",
      "SNR: -5.0, MISO_RI: 0.44520760156250005, MISO_RI_MAG: 0.35214782812500006\n",
      "snr: 0.0, t60: 0.2, MISO_RI: 0.6904178125, MISO_RI_MAG: 0.6041755078125\n",
      "snr: 0.0, t60: 0.4, MISO_RI: 0.611151796875, MISO_RI_MAG: 0.519938046875\n",
      "snr: 0.0, t60: 0.6, MISO_RI: 0.5553158203125, MISO_RI_MAG: 0.4582170703125\n",
      "snr: 0.0, t60: 0.8, MISO_RI: 0.512760390625, MISO_RI_MAG: 0.41236679687499994\n",
      "snr: 0.0, t60: 1.0, MISO_RI: 0.47912488281249993, MISO_RI_MAG: 0.3758523046875\n",
      "SNR: 0.0, MISO_RI: 0.569754140625, MISO_RI_MAG: 0.4741099453125\n",
      "snr: 5.0, t60: 0.2, MISO_RI: 0.7749301953125001, MISO_RI_MAG: 0.7127787890625\n",
      "snr: 5.0, t60: 0.4, MISO_RI: 0.6889159765625, MISO_RI_MAG: 0.623270625\n",
      "snr: 5.0, t60: 0.6, MISO_RI: 0.6281380078125001, MISO_RI_MAG: 0.5561748828124999\n",
      "snr: 5.0, t60: 0.8, MISO_RI: 0.5814919921875, MISO_RI_MAG: 0.5052876953125\n",
      "snr: 5.0, t60: 1.0, MISO_RI: 0.5452874609375, MISO_RI_MAG: 0.46490628906250003\n",
      "SNR: 5.0, MISO_RI: 0.6437527265625, MISO_RI_MAG: 0.57248365625\n"
     ]
    }
   ],
   "source": [
    "import pandas as pd\n",
    "\n",
    "array_type, num_mics, inter_mic_dist, dataset_condition, noise_simulation = 'linear', 8, 8.0, 'noisy_reverb', 'diffuse' #'point_source'\n",
    "#array_type, num_mics, inter_mic_dist, dataset_condition, noise_simulation = 'circular', 7, 4.25, 'noisy_reverb', 'diffuse'\n",
    "t60_list = [round(0.1*i, 1) for i in range(2, 11, 2)]\n",
    "snr_list = [-5.0, 0.0, 5.0]\n",
    "\n",
    "for snr in snr_list:\n",
    "    miso_ri_avg, miso_ri_mag_avg = 0,0\n",
    "    for t60 in t60_list:\n",
    "        file_name = f'../Logs/{array_type}_mic_miso_csv/{dataset_condition}/{noise_simulation}/{dataset_condition}_{noise_simulation}_{array_type}_{inter_mic_dist}cm_t60_{t60}_snr_{snr}dB_{array_type}_miso_doa_parallel.csv'\n",
    "        #print(file_name)\n",
    "        # Read the CSV file into a pandas DataFrame\n",
    "        df = pd.read_csv(file_name)\n",
    "\n",
    "        miso_ri_frm_acc = df[df[\"Loss\"]==\"MISO_RI\"][f\"{num_mics}mic_frm_acc\"].mean()\n",
    "        miso_ri_mag_frm_acc = df[df[\"Loss\"]==\"MISO_RI_MAG\"][f\"{num_mics}mic_frm_acc\"].mean()\n",
    "\n",
    "        miso_ri_avg += miso_ri_frm_acc\n",
    "        miso_ri_mag_avg += miso_ri_mag_frm_acc\n",
    "\n",
    "        print(f\"snr: {snr}, t60: {t60}, MISO_RI: {miso_ri_frm_acc}, MISO_RI_MAG: {miso_ri_mag_frm_acc}\")\n",
    "\n",
    "    print(f\"SNR: {snr}, MISO_RI: {miso_ri_avg/len(t60_list)}, MISO_RI_MAG: {miso_ri_mag_avg/len(t60_list)}\")"
   ]
  },
  {
   "cell_type": "code",
   "execution_count": null,
   "metadata": {},
   "outputs": [],
   "source": [
    "    if dataset_condition ==\"reverb\":\n",
    "        app_str = f't60_{T60}'\n",
    "    elif dataset_condition ==\"noisy\":\n",
    "        app_str = f'snr_{SNR}dB'\n",
    "    elif dataset_condition ==\"noisy_reverb\":\n",
    "        app_str = f't60_{T60}_snr_{SNR}dB'\n",
    "    else:\n",
    "        app_str = ''"
   ]
  },
  {
   "cell_type": "code",
   "execution_count": null,
   "metadata": {},
   "outputs": [],
   "source": [
    "import pandas as pd\n",
    "\n",
    "file_name = '..//Logs/circular_mic_miso_csv/reverb/reverb_circular_4.25cm_t60_0.0_comparison_circular_miso_doa_parallel.csv'\n",
    "# Read the CSV file into a pandas DataFrame\n",
    "df = pd.read_csv(file_name)\n",
    "\n",
    "# Define the condition to filter rows\n",
    "condition = df['condition_column'] > 10\n",
    "\n",
    "# Filter rows based on the condition\n",
    "filtered_df = df[condition]\n",
    "\n",
    "# Calculate the average of the 'value' column in the filtered DataFrame\n",
    "average_value = filtered_df['value'].mean()\n",
    "\n",
    "# Print the average value\n",
    "print(\"Average Value:\", average_value)"
   ]
  }
 ],
 "metadata": {
  "kernelspec": {
   "display_name": "Python 3",
   "language": "python",
   "name": "python3"
  },
  "language_info": {
   "codemirror_mode": {
    "name": "ipython",
    "version": 3
   },
   "file_extension": ".py",
   "mimetype": "text/x-python",
   "name": "python",
   "nbconvert_exporter": "python",
   "pygments_lexer": "ipython3",
   "version": "3.9.12"
  },
  "orig_nbformat": 4
 },
 "nbformat": 4,
 "nbformat_minor": 2
}
