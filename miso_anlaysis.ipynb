{
 "cells": [
  {
   "cell_type": "code",
   "execution_count": 61,
   "metadata": {},
   "outputs": [
    {
     "name": "stdout",
     "output_type": "stream",
     "text": [
      "t60: 0.0, MISO_RI: 0.9998044921875, MISO_RI_MAG: 0.9998180078125\n",
      "t60: 0.2, MISO_RI: 0.9962052734375, MISO_RI_MAG: 0.9967649609375\n",
      "t60: 0.3, MISO_RI: 0.980155546875, MISO_RI_MAG: 0.9862698046875001\n",
      "t60: 0.4, MISO_RI: 0.942685703125, MISO_RI_MAG: 0.97030359375\n",
      "t60: 0.5, MISO_RI: 0.9020433984375, MISO_RI_MAG: 0.9517694531249999\n",
      "t60: 0.6, MISO_RI: 0.865833125, MISO_RI_MAG: 0.93481296875\n",
      "t60: 0.7, MISO_RI: 0.8350016796874999, MISO_RI_MAG: 0.9201000781249998\n",
      "t60: 0.8, MISO_RI: 0.8106334765625001, MISO_RI_MAG: 0.9051181249999999\n",
      "t60: 0.9, MISO_RI: 0.7915872265624999, MISO_RI_MAG: 0.8922422265625001\n",
      "t60: 1.0, MISO_RI: 0.777466171875, MISO_RI_MAG: 0.8849584765625\n",
      "MISO_RI: 0.8901416093749999, MISO_RI_MAG: 0.9442157695312501\n"
     ]
    }
   ],
   "source": [
    "import pandas as pd\n",
    "\n",
    "t60_list = [round(0.1*i, 1) for i in range(0, 11) if i!= 1]\n",
    "\n",
    "array_type, inter_mic_dist = 'linear', 8.0\n",
    "#array_type, inter_mic_dist = 'circular', 4.25\n",
    "\n",
    "miso_ri_avg, miso_ri_mag_avg = 0,0\n",
    "for t60 in t60_list:\n",
    "    file_name = f'../Logs/{array_type}_mic_miso_csv/reverb/reverb_{array_type}_{inter_mic_dist}cm_t60_{t60}_comparison_{array_type}_miso_doa_parallel.csv'\n",
    "    #print(file_name)\n",
    "    # Read the CSV file into a pandas DataFrame\n",
    "    df = pd.read_csv(file_name)\n",
    "\n",
    "    miso_ri_frm_acc = df[df[\"Loss\"]==\"MISO_RI\"][\"7mic_frm_acc\"].mean()\n",
    "    miso_ri_mag_frm_acc = df[df[\"Loss\"]==\"MISO_RI_MAG\"][\"7mic_frm_acc\"].mean()\n",
    "\n",
    "    miso_ri_avg += miso_ri_frm_acc\n",
    "    miso_ri_mag_avg += miso_ri_mag_frm_acc\n",
    "\n",
    "    print(f\"t60: {t60}, MISO_RI: {miso_ri_frm_acc}, MISO_RI_MAG: {miso_ri_mag_frm_acc}\")\n",
    "\n",
    "print(f\"MISO_RI: {miso_ri_avg/len(t60_list)}, MISO_RI_MAG: {miso_ri_mag_avg/len(t60_list)}\")"
   ]
  },
  {
   "cell_type": "code",
   "execution_count": 38,
   "metadata": {},
   "outputs": [],
   "source": []
  },
  {
   "cell_type": "code",
   "execution_count": null,
   "metadata": {},
   "outputs": [],
   "source": [
    "import pandas as pd\n",
    "\n",
    "file_name = '..//Logs/circular_mic_miso_csv/reverb/reverb_circular_4.25cm_t60_0.0_comparison_circular_miso_doa_parallel.csv'\n",
    "# Read the CSV file into a pandas DataFrame\n",
    "df = pd.read_csv(file_name)\n",
    "\n",
    "# Define the condition to filter rows\n",
    "condition = df['condition_column'] > 10\n",
    "\n",
    "# Filter rows based on the condition\n",
    "filtered_df = df[condition]\n",
    "\n",
    "# Calculate the average of the 'value' column in the filtered DataFrame\n",
    "average_value = filtered_df['value'].mean()\n",
    "\n",
    "# Print the average value\n",
    "print(\"Average Value:\", average_value)"
   ]
  }
 ],
 "metadata": {
  "kernelspec": {
   "display_name": "Python 3",
   "language": "python",
   "name": "python3"
  },
  "language_info": {
   "codemirror_mode": {
    "name": "ipython",
    "version": 3
   },
   "file_extension": ".py",
   "mimetype": "text/x-python",
   "name": "python",
   "nbconvert_exporter": "python",
   "pygments_lexer": "ipython3",
   "version": "3.9.12"
  },
  "orig_nbformat": 4
 },
 "nbformat": 4,
 "nbformat_minor": 2
}
