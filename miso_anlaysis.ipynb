{
 "cells": [
  {
   "cell_type": "code",
   "execution_count": 1,
   "metadata": {},
   "outputs": [
    {
     "name": "stdout",
     "output_type": "stream",
     "text": [
      "t60: 0.0, MISO_RI: 0.9998662890625001, MISO_RI_MAG: 0.99983359375\n",
      "t60: 0.2, MISO_RI: 0.9945160937499999, MISO_RI_MAG: 0.9860453906250001\n",
      "t60: 0.3, MISO_RI: 0.980647734375, MISO_RI_MAG: 0.9587194140624999\n",
      "t60: 0.4, MISO_RI: 0.9629244921875, MISO_RI_MAG: 0.9322803515624999\n",
      "t60: 0.5, MISO_RI: 0.9447033593749999, MISO_RI_MAG: 0.9083560546875\n",
      "t60: 0.6, MISO_RI: 0.9269585546875, MISO_RI_MAG: 0.8878731250000002\n",
      "t60: 0.7, MISO_RI: 0.9103913671875, MISO_RI_MAG: 0.8694076953125001\n",
      "t60: 0.8, MISO_RI: 0.8959067968750001, MISO_RI_MAG: 0.8530338671875001\n",
      "t60: 0.9, MISO_RI: 0.88378765625, MISO_RI_MAG: 0.8390288671875001\n",
      "t60: 1.0, MISO_RI: 0.8746494140625, MISO_RI_MAG: 0.8276205859375001\n",
      "MISO_RI: 0.9374351757812498, MISO_RI_MAG: 0.9062198945312501\n"
     ]
    }
   ],
   "source": [
    "import pandas as pd\n",
    "\n",
    "t60_list = [round(0.1*i, 1) for i in range(0, 11) if i!= 1]\n",
    "\n",
    "array_type, inter_mic_dist = 'linear', 8.0\n",
    "#array_type, inter_mic_dist = 'circular', 4.25\n",
    "\n",
    "miso_ri_avg, miso_ri_mag_avg = 0,0\n",
    "for t60 in t60_list:\n",
    "    \n",
    "    file_name = f'../Logs/{array_type}_mic_miso_csv/reverb/reverb_{array_type}_{inter_mic_dist}cm_t60_{t60}_comparison_{array_type}_miso_doa_parallel.csv'\n",
    "    #print(file_name)\n",
    "    # Read the CSV file into a pandas DataFrame\n",
    "    df = pd.read_csv(file_name)\n",
    "\n",
    "    miso_ri_frm_acc = df[df[\"Loss\"]==\"MISO_RI\"][\"7mic_frm_acc\"].mean()\n",
    "    miso_ri_mag_frm_acc = df[df[\"Loss\"]==\"MISO_RI_MAG\"][\"7mic_frm_acc\"].mean()\n",
    "\n",
    "    miso_ri_avg += miso_ri_frm_acc\n",
    "    miso_ri_mag_avg += miso_ri_mag_frm_acc\n",
    "\n",
    "    print(f\"t60: {t60}, MISO_RI: {miso_ri_frm_acc}, MISO_RI_MAG: {miso_ri_mag_frm_acc}\")\n",
    "\n",
    "print(f\"MISO_RI: {miso_ri_avg/len(t60_list)}, MISO_RI_MAG: {miso_ri_mag_avg/len(t60_list)}\")"
   ]
  },
  {
   "cell_type": "code",
   "execution_count": 13,
   "metadata": {},
   "outputs": [
    {
     "name": "stdout",
     "output_type": "stream",
     "text": [
      "../Logs/linear_mic_miso_csv/noisy/point_source/noisy_point_source_linear_8.0cm_snr_-5.0dB_linear_miso_doa_parallel.csv\n",
      "snr: -5.0, MISO_RI: 0.9417903515624999, MISO_RI_MAG: 0.922773203125\n",
      "../Logs/linear_mic_miso_csv/noisy/point_source/noisy_point_source_linear_8.0cm_snr_-2.5dB_linear_miso_doa_parallel.csv\n",
      "snr: -2.5, MISO_RI: 0.9566444531250001, MISO_RI_MAG: 0.9410568749999999\n",
      "../Logs/linear_mic_miso_csv/noisy/point_source/noisy_point_source_linear_8.0cm_snr_0.0dB_linear_miso_doa_parallel.csv\n",
      "snr: 0.0, MISO_RI: 0.967836328125, MISO_RI_MAG: 0.9550636718750001\n",
      "../Logs/linear_mic_miso_csv/noisy/point_source/noisy_point_source_linear_8.0cm_snr_2.5dB_linear_miso_doa_parallel.csv\n",
      "snr: 2.5, MISO_RI: 0.9759498828125001, MISO_RI_MAG: 0.9654045312499999\n",
      "../Logs/linear_mic_miso_csv/noisy/point_source/noisy_point_source_linear_8.0cm_snr_5.0dB_linear_miso_doa_parallel.csv\n",
      "snr: 5.0, MISO_RI: 0.9814545703125, MISO_RI_MAG: 0.9725390624999999\n",
      "../Logs/linear_mic_miso_csv/noisy/point_source/noisy_point_source_linear_8.0cm_snr_10.0dB_linear_miso_doa_parallel.csv\n",
      "snr: 10.0, MISO_RI: 0.9875964453125, MISO_RI_MAG: 0.9803831640625\n",
      "../Logs/linear_mic_miso_csv/noisy/point_source/noisy_point_source_linear_8.0cm_snr_15.0dB_linear_miso_doa_parallel.csv\n",
      "snr: 15.0, MISO_RI: 0.9903760937499999, MISO_RI_MAG: 0.9831317187499999\n",
      "../Logs/linear_mic_miso_csv/noisy/point_source/noisy_point_source_linear_8.0cm_snr_20.0dB_linear_miso_doa_parallel.csv\n",
      "snr: 20.0, MISO_RI: 0.9915270312499999, MISO_RI_MAG: 0.9837193359375\n",
      "MISO_RI: 0.9741468945312499, MISO_RI_MAG: 0.9630089453125\n"
     ]
    }
   ],
   "source": [
    "import pandas as pd\n",
    "\n",
    "array_type, num_mics, inter_mic_dist, dataset_condition, noise_simulation = 'linear', 8, 8.0, 'noisy', 'point_source'\n",
    "#array_type, num_mics, inter_mic_dist, dataset_condition, noise_simulation = 'circular', 7, 4.25, 'noisy', 'point_source'\n",
    "snr_list = [-5.0, -2.5, 0.0, 2.5, 5.0, 10.0, 15.0, 20.0]\n",
    "\n",
    "miso_ri_avg, miso_ri_mag_avg = 0,0\n",
    "for snr in snr_list:\n",
    "    file_name = f'../Logs/{array_type}_mic_miso_csv/{dataset_condition}/{noise_simulation}/{dataset_condition}_{noise_simulation}_{array_type}_{inter_mic_dist}cm_snr_{snr}dB_{array_type}_miso_doa_parallel.csv'\n",
    "    print(file_name)\n",
    "    # Read the CSV file into a pandas DataFrame\n",
    "    df = pd.read_csv(file_name)\n",
    "\n",
    "    miso_ri_frm_acc = df[df[\"Loss\"]==\"MISO_RI\"][f\"{num_mics}mic_frm_acc\"].mean()\n",
    "    miso_ri_mag_frm_acc = df[df[\"Loss\"]==\"MISO_RI_MAG\"][f\"{num_mics}mic_frm_acc\"].mean()\n",
    "\n",
    "    miso_ri_avg += miso_ri_frm_acc\n",
    "    miso_ri_mag_avg += miso_ri_mag_frm_acc\n",
    "\n",
    "    print(f\"snr: {snr}, MISO_RI: {miso_ri_frm_acc}, MISO_RI_MAG: {miso_ri_mag_frm_acc}\")\n",
    "\n",
    "print(f\"MISO_RI: {miso_ri_avg/len(snr_list)}, MISO_RI_MAG: {miso_ri_mag_avg/len(snr_list)}\")"
   ]
  },
  {
   "cell_type": "code",
   "execution_count": 1,
   "metadata": {},
   "outputs": [
    {
     "name": "stdout",
     "output_type": "stream",
     "text": [
      "snr: -5.0, t60: 0.2, MISO_RI: 0.7594494140625001, MISO_RI_MAG: 0.7933325\n",
      "snr: -5.0, t60: 0.4, MISO_RI: 0.6962159375000001, MISO_RI_MAG: 0.750463671875\n",
      "snr: -5.0, t60: 0.6, MISO_RI: 0.646633203125, MISO_RI_MAG: 0.7139540234374999\n",
      "snr: -5.0, t60: 0.8, MISO_RI: 0.6057155078124999, MISO_RI_MAG: 0.6822496093749999\n",
      "snr: -5.0, t60: 1.0, MISO_RI: 0.570086015625, MISO_RI_MAG: 0.654891015625\n",
      "SNR: -5.0, MISO_RI: 0.655620015625, MISO_RI_MAG: 0.7189781640625\n",
      "snr: 0.0, t60: 0.2, MISO_RI: 0.8441538281250001, MISO_RI_MAG: 0.870646484375\n",
      "snr: 0.0, t60: 0.4, MISO_RI: 0.79226078125, MISO_RI_MAG: 0.83445640625\n",
      "snr: 0.0, t60: 0.6, MISO_RI: 0.75065171875, MISO_RI_MAG: 0.8016719531250001\n",
      "snr: 0.0, t60: 0.8, MISO_RI: 0.7163816796875, MISO_RI_MAG: 0.7738217578125\n",
      "snr: 0.0, t60: 1.0, MISO_RI: 0.6866778124999999, MISO_RI_MAG: 0.7511262109375\n",
      "SNR: 0.0, MISO_RI: 0.7580251640625001, MISO_RI_MAG: 0.8063445625\n",
      "snr: 5.0, t60: 0.2, MISO_RI: 0.8935969140625002, MISO_RI_MAG: 0.9161273828125\n",
      "snr: 5.0, t60: 0.4, MISO_RI: 0.84462125, MISO_RI_MAG: 0.882220234375\n",
      "snr: 5.0, t60: 0.6, MISO_RI: 0.8067745703125, MISO_RI_MAG: 0.8503342968750001\n",
      "snr: 5.0, t60: 0.8, MISO_RI: 0.7768463671875001, MISO_RI_MAG: 0.8245021093750001\n",
      "snr: 5.0, t60: 1.0, MISO_RI: 0.752364609375, MISO_RI_MAG: 0.8040777734374999\n",
      "SNR: 5.0, MISO_RI: 0.8148407421875001, MISO_RI_MAG: 0.855452359375\n"
     ]
    }
   ],
   "source": [
    "import pandas as pd\n",
    "\n",
    "array_type, num_mics, inter_mic_dist, dataset_condition, noise_simulation = 'linear', 8, 8.0, 'noisy_reverb', 'diffuse' #'point_source'\n",
    "#array_type, num_mics, inter_mic_dist, dataset_condition, noise_simulation = 'circular', 7, 4.25, 'noisy_reverb', 'point_source'\n",
    "t60_list = [round(0.1*i, 1) for i in range(2, 11, 2)]\n",
    "snr_list = [-5.0, 0.0, 5.0]\n",
    "\n",
    "for snr in snr_list:\n",
    "    miso_ri_avg, miso_ri_mag_avg = 0,0\n",
    "    for t60 in t60_list:\n",
    "        file_name = f'../Logs/{array_type}_mic_miso_csv/{dataset_condition}/{noise_simulation}/{dataset_condition}_{noise_simulation}_{array_type}_{inter_mic_dist}cm_t60_{t60}_snr_{snr}dB_{array_type}_miso_doa_parallel.csv'\n",
    "        #print(file_name)\n",
    "        # Read the CSV file into a pandas DataFrame\n",
    "        df = pd.read_csv(file_name)\n",
    "\n",
    "        miso_ri_frm_acc = df[df[\"Loss\"]==\"MISO_RI\"][f\"{num_mics}mic_frm_acc\"].mean()\n",
    "        miso_ri_mag_frm_acc = df[df[\"Loss\"]==\"MISO_RI_MAG\"][f\"{num_mics}mic_frm_acc\"].mean()\n",
    "\n",
    "        miso_ri_avg += miso_ri_frm_acc\n",
    "        miso_ri_mag_avg += miso_ri_mag_frm_acc\n",
    "\n",
    "        print(f\"snr: {snr}, t60: {t60}, MISO_RI: {miso_ri_frm_acc}, MISO_RI_MAG: {miso_ri_mag_frm_acc}\")\n",
    "\n",
    "    print(f\"SNR: {snr}, MISO_RI: {miso_ri_avg/len(t60_list)}, MISO_RI_MAG: {miso_ri_mag_avg/len(t60_list)}\")"
   ]
  },
  {
   "cell_type": "code",
   "execution_count": null,
   "metadata": {},
   "outputs": [],
   "source": [
    "    if dataset_condition ==\"reverb\":\n",
    "        app_str = f't60_{T60}'\n",
    "    elif dataset_condition ==\"noisy\":\n",
    "        app_str = f'snr_{SNR}dB'\n",
    "    elif dataset_condition ==\"noisy_reverb\":\n",
    "        app_str = f't60_{T60}_snr_{SNR}dB'\n",
    "    else:\n",
    "        app_str = ''"
   ]
  },
  {
   "cell_type": "code",
   "execution_count": null,
   "metadata": {},
   "outputs": [],
   "source": [
    "import pandas as pd\n",
    "\n",
    "file_name = '..//Logs/circular_mic_miso_csv/reverb/reverb_circular_4.25cm_t60_0.0_comparison_circular_miso_doa_parallel.csv'\n",
    "# Read the CSV file into a pandas DataFrame\n",
    "df = pd.read_csv(file_name)\n",
    "\n",
    "# Define the condition to filter rows\n",
    "condition = df['condition_column'] > 10\n",
    "\n",
    "# Filter rows based on the condition\n",
    "filtered_df = df[condition]\n",
    "\n",
    "# Calculate the average of the 'value' column in the filtered DataFrame\n",
    "average_value = filtered_df['value'].mean()\n",
    "\n",
    "# Print the average value\n",
    "print(\"Average Value:\", average_value)"
   ]
  }
 ],
 "metadata": {
  "kernelspec": {
   "display_name": "Python 3",
   "language": "python",
   "name": "python3"
  },
  "language_info": {
   "codemirror_mode": {
    "name": "ipython",
    "version": 3
   },
   "file_extension": ".py",
   "mimetype": "text/x-python",
   "name": "python",
   "nbconvert_exporter": "python",
   "pygments_lexer": "ipython3",
   "version": "3.9.12"
  },
  "orig_nbformat": 4
 },
 "nbformat": 4,
 "nbformat_minor": 2
}
