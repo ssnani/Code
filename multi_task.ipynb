{
 "cells": [
  {
   "cell_type": "code",
   "execution_count": 1,
   "metadata": {},
   "outputs": [],
   "source": [
    "import os\n",
    "import pandas as pd\n",
    "import numpy as np"
   ]
  },
  {
   "cell_type": "code",
   "execution_count": 2,
   "metadata": {},
   "outputs": [],
   "source": [
    "files_path = \"/users/PAS1937/battula12/Shanmukh/Projects/MVTSS/Controlled_Experiments/Logs/multi_task/moving/\"\n",
    "\n",
    "array_types = [\"linear_array\", \"circular_array\"]\n",
    "dataset_conditions = [\"reverb\", \"noisy_reverb\"]\n",
    "noise_simulations = [\"point_source\", \"diffuse\"]"
   ]
  },
  {
   "cell_type": "code",
   "execution_count": 3,
   "metadata": {},
   "outputs": [],
   "source": [
    "search_pattern = [\"acc_epoch\"]\n",
    "\n",
    "array_type = \"circular_array\"\n",
    "reverb_log_dir = os.path.join(files_path, f\"{array_type}/reverb\")\n",
    "noisy_reverb_ps_log_dir = os.path.join(files_path, f\"{array_type}/noisy_reverb/point_source\")\n",
    "noisy_reverb_diffuse_log_dir = os.path.join(files_path, f\"{array_type}/noisy_reverb/diffuse\")\n"
   ]
  },
  {
   "cell_type": "code",
   "execution_count": 4,
   "metadata": {},
   "outputs": [],
   "source": [
    "def get_test_config_details(line):\n",
    "    snr,t60,app_str = None, None,\"\"\n",
    "    \n",
    "    if \"dataset_condition:\" in line:\n",
    "        line_split_info = line.split(',')\n",
    "        if line_split_info[-1]=='':\n",
    "            line_split_info.pop()\n",
    "        dataset_condition = line_split_info[-1].split()[-1]\n",
    "        if dataset_condition==\"noisy\":\n",
    "            snr = line_split_info[-3].split()[-1]\n",
    "            app_str = f'snr_{snr}'\n",
    "        elif dataset_condition==\"noisy_reverb\":\n",
    "            \n",
    "            snr = line_split_info[-3].split()[-1]\n",
    "            t60 = line_split_info[-4].split()[-1]\n",
    "            app_str = f'snr_{snr}_t60_{t60}'\n",
    "            \n",
    "        elif dataset_condition==\"reverb\":\n",
    "            t60 = line_split_info[-4].split()[-1]\n",
    "            app_str = f't60_{t60}'\n",
    "\n",
    "            \n",
    "    return snr, t60, app_str"
   ]
  },
  {
   "cell_type": "code",
   "execution_count": 7,
   "metadata": {},
   "outputs": [],
   "source": [
    "def search_pattern_file(file_path, search_pattern_list):\n",
    "    exp_dict = {}\n",
    "    app_str = \"\"\n",
    "    with open(file_path, 'r') as f:\n",
    "        for line in f.readlines():\n",
    "            line = line.strip()\n",
    "            if app_str==\"\":\n",
    "                snr, t60, app_str = get_test_config_details(line)\n",
    "                \n",
    "            for search_pattern in search_pattern_list: #search_doa_pattern_list:\n",
    "                if search_pattern in line:\n",
    "                    line_split_info = line.split()\n",
    "                    print(line_split_info, len(line_split_info))\n",
    "                    if len(line_split_info)==5:\n",
    "                        key_str = f'{search_pattern}_{app_str}'\n",
    "                        exp_dict[key_str] = float(line_split_info[3])\n",
    "                        #print(key_str, line.split()[3])\n",
    "                \n",
    "    return exp_dict"
   ]
  },
  {
   "cell_type": "code",
   "execution_count": 5,
   "metadata": {},
   "outputs": [],
   "source": [
    "def get_all_exp_dict(log_dir: str, search_pattern: list):\n",
    "    log_dir_files = os.listdir(log_dir)\n",
    "    log_dir_files = [x for x in log_dir_files if os.path.isfile(os.path.join(log_dir,x))]\n",
    "    #print(log_dir_files)\n",
    "    _exp_dict={}\n",
    "    for _file in log_dir_files:\n",
    "        file_path = os.path.join(log_dir, _file)\n",
    "        #print(file_path)\n",
    "        exp_dict = search_pattern_file(file_path, search_pattern)\n",
    "        _exp_dict.update(exp_dict)\n",
    "    \n",
    "    return _exp_dict"
   ]
  },
  {
   "cell_type": "code",
   "execution_count": 8,
   "metadata": {},
   "outputs": [
    {
     "name": "stdout",
     "output_type": "stream",
     "text": [
      "['│', 'acc_epoch', '│', '0.9986311197280884', '│'] 5\n",
      "['│', 'acc_epoch', '│', '0.9991754293441772', '│'] 5\n",
      "['│', 'acc_epoch', '│', '0.9988487362861633', '│'] 5\n",
      "['│', 'acc_epoch', '│', '0.9984169006347656', '│'] 5\n",
      "['│', 'acc_epoch', '│', '0.9976455569267273', '│'] 5\n",
      "['│', 'acc_epoch', '│', '0.9959070086479187', '│'] 5\n",
      "['│', 'acc_epoch', '│', '0.9936320185661316', '│'] 5\n",
      "['│', 'acc_epoch', '│', '0.9810401797294617', '│'] 5\n",
      "['│', 'acc_epoch', '│', '0.9920080900192261', '│'] 5\n",
      "['│', 'acc_epoch', '│', '0.947060763835907', '│'] 5\n",
      "['│', 'acc_epoch', '│', '0.9013878107070923', '│'] 5\n",
      "['│', 'acc_epoch', '│', '0.9902311563491821', '│'] 5\n",
      "['│', 'acc_epoch', '│', '0.9642425775527954', '│'] 5\n",
      "['│', 'acc_epoch', '│', '0.9751957654953003', '│'] 5\n",
      "['│', 'acc_epoch', '│', '0.9261616468429565', '│'] 5\n",
      "['│', 'acc_epoch', '│', '0.9928839802742004', '│'] 5\n",
      "['│', 'acc_epoch', '│', '0.9753925204277039', '│'] 5\n",
      "['│', 'acc_epoch', '│', '0.9900338053703308', '│'] 5\n",
      "['│', 'acc_epoch', '│', '0.9968994855880737', '│'] 5\n",
      "['│', 'acc_epoch', '│', '0.995496392250061', '│'] 5\n",
      "['│', 'acc_epoch', '│', '0.9860477447509766', '│'] 5\n",
      "['│', 'acc_epoch', '│', '0.9679697155952454', '│'] 5\n",
      "['│', 'acc_epoch', '│', '0.9662522077560425', '│'] 5\n",
      "['│', 'acc_epoch', '│', '0.9597710371017456', '│'] 5\n",
      "['│', 'acc_epoch', '│', '0.9500465393066406', '│'] 5\n",
      "['│', 'acc_epoch', '│', '0.9363611340522766', '│'] 5\n",
      "['│', 'acc_epoch', '│', '0.9945477247238159', '│'] 5\n",
      "['│', 'acc_epoch', '│', '0.9936196208000183', '│'] 5\n",
      "['│', 'acc_epoch', '│', '0.9919213056564331', '│'] 5\n",
      "['│', 'acc_epoch', '│', '0.9895617365837097', '│'] 5\n",
      "['│', 'acc_epoch', '│', '0.9862119555473328', '│'] 5\n",
      "['│', 'acc_epoch', '│', '0.9978059530258179', '│'] 5\n",
      "['│', 'acc_epoch', '│', '0.9973666071891785', '│'] 5\n",
      "['│', 'acc_epoch', '│', '0.996566653251648', '│'] 5\n",
      "['│', 'acc_epoch', '│', '0.9952901005744934', '│'] 5\n",
      "['│', 'acc_epoch', '│', '0.9936727285385132', '│'] 5\n"
     ]
    }
   ],
   "source": [
    "reverb_exp_dict = get_all_exp_dict(reverb_log_dir, search_pattern)\n",
    "noisy_reverb_ps_exp_dict = get_all_exp_dict(noisy_reverb_ps_log_dir, search_pattern)\n",
    "noisy_reverb_diffuse_exp_dict = get_all_exp_dict(noisy_reverb_diffuse_log_dir, search_pattern)"
   ]
  },
  {
   "cell_type": "code",
   "execution_count": 9,
   "metadata": {},
   "outputs": [
    {
     "data": {
      "text/plain": [
       "{'acc_epoch_t60_0.0': 0.9986311197280884,\n",
       " 'acc_epoch_t60_0.2': 0.9991754293441772,\n",
       " 'acc_epoch_t60_0.4': 0.9988487362861633,\n",
       " 'acc_epoch_t60_0.6': 0.9984169006347656,\n",
       " 'acc_epoch_t60_0.8': 0.9976455569267273,\n",
       " 'acc_epoch_t60_1.0': 0.9959070086479187}"
      ]
     },
     "execution_count": 9,
     "metadata": {},
     "output_type": "execute_result"
    }
   ],
   "source": [
    "reverb_exp_dict"
   ]
  },
  {
   "cell_type": "code",
   "execution_count": 10,
   "metadata": {},
   "outputs": [],
   "source": [
    "#plotting frm Acc\n",
    "from itertools import product\n",
    "\n",
    "noisy_snr_list = [-5.0, -2.5, 0.0, 2.5, 5.0, 10.0, 15.0, 20.0]\n",
    "\n",
    "noisy_reverb_snr_list = [-5.0, 0.0, 5.0]#, 10.0, 20.0 ]\n",
    "noisy_reverb_t60_list = [0.2, 0.4, 0.6, 0.8, 1.0]\n",
    "noisy_reverb_list = list(product(noisy_reverb_snr_list, noisy_reverb_t60_list))\n",
    "\n",
    "#reverb_t60_list = [0.0, 0.2, 0.3, 0.4, 0.5, 0.6, 0.7, 0.8, 0.9, 1.0]\n",
    "reverb_t60_list = [0.0, 0.2, 0.4, 0.6, 0.8, 1.0]"
   ]
  },
  {
   "cell_type": "code",
   "execution_count": 11,
   "metadata": {},
   "outputs": [],
   "source": [
    "def build_app_str(dataset_condition, val):\n",
    "    if dataset_condition==\"noisy\":\n",
    "        app_str = f'snr_{val}'\n",
    "    elif dataset_condition==\"noisy_reverb\":\n",
    "        app_str = f'snr_{val[0]}_t60_{val[1]}'   \n",
    "    elif dataset_condition==\"reverb\":\n",
    "        app_str = f't60_{val}'\n",
    "    return app_str"
   ]
  },
  {
   "cell_type": "code",
   "execution_count": 12,
   "metadata": {},
   "outputs": [],
   "source": [
    "def _print(measure, exp_dict, dataset_condition, tst_conditions, loss_list, dataset_simulation=\"\"):\n",
    "    print(tst_conditions)\n",
    "    for loss in loss_list:\n",
    "        val_list = []\n",
    "        for tst_val in tst_conditions:\n",
    "            app_str = build_app_str(dataset_condition, tst_val)\n",
    "            key_str = f'{measure}_{app_str}'\n",
    "\n",
    "            val_list.append(exp_dict[key_str])\n",
    "        print(loss, val_list)"
   ]
  },
  {
   "cell_type": "code",
   "execution_count": 13,
   "metadata": {},
   "outputs": [
    {
     "name": "stdout",
     "output_type": "stream",
     "text": [
      "[0.0, 0.2, 0.3, 0.4, 0.5, 0.6, 0.7, 0.8, 0.9, 1.0]\n"
     ]
    },
    {
     "ename": "KeyError",
     "evalue": "'acc_epoch_t60_0.3'",
     "output_type": "error",
     "traceback": [
      "\u001b[0;31m---------------------------------------------------------------------------\u001b[0m",
      "\u001b[0;31mKeyError\u001b[0m                                  Traceback (most recent call last)",
      "\u001b[1;32m/users/PAS1937/battula12/Shanmukh/Projects/MVTSS/Controlled_Experiments/Code/multi_task.ipynb Cell 12\u001b[0m in \u001b[0;36m<cell line: 1>\u001b[0;34m()\u001b[0m\n\u001b[0;32m----> <a href='vscode-notebook-cell://ssh-remote%2Bpitzer.osc.edu/users/PAS1937/battula12/Shanmukh/Projects/MVTSS/Controlled_Experiments/Code/multi_task.ipynb#X14sdnNjb2RlLXJlbW90ZQ%3D%3D?line=0'>1</a>\u001b[0m _print(\u001b[39m\"\u001b[39;49m\u001b[39macc_epoch\u001b[39;49m\u001b[39m\"\u001b[39;49m, reverb_exp_dict, \u001b[39m\"\u001b[39;49m\u001b[39mreverb\u001b[39;49m\u001b[39m\"\u001b[39;49m, reverb_t60_list, [\u001b[39m\"\u001b[39;49m\u001b[39m\"\u001b[39;49m], \u001b[39m\"\u001b[39;49m\u001b[39m\"\u001b[39;49m)\n\u001b[1;32m      <a href='vscode-notebook-cell://ssh-remote%2Bpitzer.osc.edu/users/PAS1937/battula12/Shanmukh/Projects/MVTSS/Controlled_Experiments/Code/multi_task.ipynb#X14sdnNjb2RlLXJlbW90ZQ%3D%3D?line=1'>2</a>\u001b[0m _print(\u001b[39m\"\u001b[39m\u001b[39macc_epoch\u001b[39m\u001b[39m\"\u001b[39m, noisy_reverb_ps_exp_dict, \u001b[39m\"\u001b[39m\u001b[39mnoisy_reverb\u001b[39m\u001b[39m\"\u001b[39m, noisy_reverb_list, [\u001b[39m\"\u001b[39m\u001b[39m\"\u001b[39m], \u001b[39m\"\u001b[39m\u001b[39mps\u001b[39m\u001b[39m\"\u001b[39m)\n\u001b[1;32m      <a href='vscode-notebook-cell://ssh-remote%2Bpitzer.osc.edu/users/PAS1937/battula12/Shanmukh/Projects/MVTSS/Controlled_Experiments/Code/multi_task.ipynb#X14sdnNjb2RlLXJlbW90ZQ%3D%3D?line=2'>3</a>\u001b[0m _print(\u001b[39m\"\u001b[39m\u001b[39macc_epoch\u001b[39m\u001b[39m\"\u001b[39m, noisy_reverb_diffuse_exp_dict, \u001b[39m\"\u001b[39m\u001b[39mnoisy_reverb\u001b[39m\u001b[39m\"\u001b[39m, noisy_reverb_list, [\u001b[39m\"\u001b[39m\u001b[39m\"\u001b[39m], \u001b[39m\"\u001b[39m\u001b[39mdiffuse\u001b[39m\u001b[39m\"\u001b[39m)\n",
      "\u001b[1;32m/users/PAS1937/battula12/Shanmukh/Projects/MVTSS/Controlled_Experiments/Code/multi_task.ipynb Cell 12\u001b[0m in \u001b[0;36m_print\u001b[0;34m(measure, exp_dict, dataset_condition, tst_conditions, loss_list, dataset_simulation)\u001b[0m\n\u001b[1;32m      <a href='vscode-notebook-cell://ssh-remote%2Bpitzer.osc.edu/users/PAS1937/battula12/Shanmukh/Projects/MVTSS/Controlled_Experiments/Code/multi_task.ipynb#X14sdnNjb2RlLXJlbW90ZQ%3D%3D?line=5'>6</a>\u001b[0m     app_str \u001b[39m=\u001b[39m build_app_str(dataset_condition, tst_val)\n\u001b[1;32m      <a href='vscode-notebook-cell://ssh-remote%2Bpitzer.osc.edu/users/PAS1937/battula12/Shanmukh/Projects/MVTSS/Controlled_Experiments/Code/multi_task.ipynb#X14sdnNjb2RlLXJlbW90ZQ%3D%3D?line=6'>7</a>\u001b[0m     key_str \u001b[39m=\u001b[39m \u001b[39mf\u001b[39m\u001b[39m'\u001b[39m\u001b[39m{\u001b[39;00mmeasure\u001b[39m}\u001b[39;00m\u001b[39m_\u001b[39m\u001b[39m{\u001b[39;00mapp_str\u001b[39m}\u001b[39;00m\u001b[39m'\u001b[39m\n\u001b[0;32m----> <a href='vscode-notebook-cell://ssh-remote%2Bpitzer.osc.edu/users/PAS1937/battula12/Shanmukh/Projects/MVTSS/Controlled_Experiments/Code/multi_task.ipynb#X14sdnNjb2RlLXJlbW90ZQ%3D%3D?line=8'>9</a>\u001b[0m     val_list\u001b[39m.\u001b[39mappend(exp_dict[key_str])\n\u001b[1;32m     <a href='vscode-notebook-cell://ssh-remote%2Bpitzer.osc.edu/users/PAS1937/battula12/Shanmukh/Projects/MVTSS/Controlled_Experiments/Code/multi_task.ipynb#X14sdnNjb2RlLXJlbW90ZQ%3D%3D?line=9'>10</a>\u001b[0m \u001b[39mprint\u001b[39m(loss, val_list)\n",
      "\u001b[0;31mKeyError\u001b[0m: 'acc_epoch_t60_0.3'"
     ]
    }
   ],
   "source": [
    "_print(\"acc_epoch\", reverb_exp_dict, \"reverb\", reverb_t60_list, [\"\"], \"\")\n",
    "_print(\"acc_epoch\", noisy_reverb_ps_exp_dict, \"noisy_reverb\", noisy_reverb_list, [\"\"], \"ps\")\n",
    "_print(\"acc_epoch\", noisy_reverb_diffuse_exp_dict, \"noisy_reverb\", noisy_reverb_list, [\"\"], \"diffuse\")"
   ]
  },
  {
   "cell_type": "code",
   "execution_count": 63,
   "metadata": {},
   "outputs": [
    {
     "data": {
      "text/plain": [
       "{'acc_epoch_snr_-5.0_t60_0.4': 0.9509741067886353,\n",
       " 'acc_epoch_snr_-5.0_t60_0.2': 0.9200452566146851,\n",
       " 'acc_epoch_snr_5.0_t60_0.6': 0.9968636631965637,\n",
       " 'acc_epoch_snr_5.0_t60_0.8': 0.9954746961593628,\n",
       " 'acc_epoch_snr_-5.0_t60_0.6': 0.9367882609367371,\n",
       " 'acc_epoch_snr_-5.0_t60_0.8': 0.9133656620979309,\n",
       " 'acc_epoch_snr_0.0_t60_0.6': 0.9911887049674988,\n",
       " 'acc_epoch_snr_0.0_t60_0.4': 0.9942905306816101,\n",
       " 'acc_epoch_snr_5.0_t60_1.0': 0.9934441447257996,\n",
       " 'acc_epoch_snr_-5.0_t60_1.0': 0.8878486752510071,\n",
       " 'acc_epoch_snr_0.0_t60_0.2': 0.9814140200614929,\n",
       " 'acc_epoch_snr_5.0_t60_0.4': 0.9978854060173035,\n",
       " 'acc_epoch_snr_5.0_t60_0.2': 0.9939332008361816,\n",
       " 'acc_epoch_snr_0.0_t60_0.8': 0.9876143336296082,\n",
       " 'acc_epoch_snr_0.0_t60_1.0': 0.9830060005187988}"
      ]
     },
     "execution_count": 63,
     "metadata": {},
     "output_type": "execute_result"
    }
   ],
   "source": [
    "noisy_reverb_ps_exp_dict"
   ]
  },
  {
   "cell_type": "code",
   "execution_count": 7,
   "metadata": {},
   "outputs": [],
   "source": [
    "se_measures_pattern = [\"STOI\", \"PESQ_NB\"]"
   ]
  },
  {
   "cell_type": "code",
   "execution_count": 22,
   "metadata": {},
   "outputs": [
    {
     "name": "stdout",
     "output_type": "stream",
     "text": [
      "['│', 'ESTOI_epoch', '│', '0.5490276977089484', '│'] 5\n",
      "['│', 'MIX_ESTOI_epoch', '│', '0.23888022043295973', '│'] 5\n",
      "['│', 'MIX_PESQ_NB_epoch', '│', '1.2094317638499175', '│'] 5\n",
      "['│', 'MIX_STOI_epoch', '│', '0.5238080213259423', '│'] 5\n",
      "['│', 'PESQ_NB_epoch', '│', '1.9544265247621588', '│'] 5\n",
      "['│', 'STOI_epoch', '│', '0.7538456853848726', '│'] 5\n",
      "['│', 'ESTOI_epoch', '│', '0.49865645102701883', '│'] 5\n",
      "['│', 'MIX_ESTOI_epoch', '│', '0.20382957277911545', '│'] 5\n",
      "['│', 'MIX_PESQ_NB_epoch', '│', '1.1747029425559843', '│'] 5\n",
      "['│', 'MIX_STOI_epoch', '│', '0.492614943755469', '│'] 5\n",
      "['│', 'PESQ_NB_epoch', '│', '1.8065288900485403', '│'] 5\n",
      "['│', 'STOI_epoch', '│', '0.7180457805808883', '│'] 5\n",
      "['│', 'ESTOI_epoch', '│', '0.6399418776328593', '│'] 5\n",
      "['│', 'MIX_ESTOI_epoch', '│', '0.2786667285879045', '│'] 5\n",
      "['│', 'MIX_PESQ_NB_epoch', '│', '1.267096366337059', '│'] 5\n",
      "['│', 'MIX_STOI_epoch', '│', '0.5626695231263328', '│'] 5\n",
      "['│', 'PESQ_NB_epoch', '│', '2.235184134414883', '│'] 5\n",
      "['│', 'STOI_epoch', '│', '0.8144112745121372', '│'] 5\n",
      "['│', 'ESTOI_epoch', '│', '0.4604113106544442', '│'] 5\n",
      "['│', 'MIX_ESTOI_epoch', '│', '0.17466878877276143', '│'] 5\n",
      "['│', 'MIX_PESQ_NB_epoch', '│', '1.1588795542230454', '│'] 5\n",
      "['│', 'MIX_STOI_epoch', '│', '0.46819598564472764', '│'] 5\n",
      "['│', 'PESQ_NB_epoch', '│', '1.7074318411886142', '│'] 5\n",
      "['│', 'STOI_epoch', '│', '0.6896502858103852', '│'] 5\n",
      "['│', 'ESTOI_epoch', '│', '0.42872314159243874', '│'] 5\n",
      "['│', 'MIX_ESTOI_epoch', '│', '0.1511653822734143', '│'] 5\n",
      "['│', 'MIX_PESQ_NB_epoch', '│', '1.1609027352494725', '│'] 5\n",
      "['│', 'MIX_STOI_epoch', '│', '0.4492127164266663', '│'] 5\n",
      "['│', 'PESQ_NB_epoch', '│', '1.6336026350859807', '│'] 5\n",
      "['│', 'STOI_epoch', '│', '0.6653000964445419', '│'] 5\n",
      "['│', 'ESTOI_epoch', '│', '0.7663587896013961', '│'] 5\n",
      "['│', 'MIX_ESTOI_epoch', '│', '0.40741330848133134', '│'] 5\n",
      "['│', 'MIX_PESQ_NB_epoch', '│', '1.575289934522668', '│'] 5\n",
      "['│', 'MIX_STOI_epoch', '│', '0.6687653198511361', '│'] 5\n",
      "['│', 'PESQ_NB_epoch', '│', '2.686611786204634', '│'] 5\n",
      "['│', 'STOI_epoch', '│', '0.8912287365184997', '│'] 5\n",
      "['│', 'ESTOI_epoch', '│', '0.687501733080284', '│'] 5\n",
      "['│', 'MIX_ESTOI_epoch', '│', '0.34389571808769287', '│'] 5\n",
      "['│', 'MIX_PESQ_NB_epoch', '│', '1.4557429824893062', '│'] 5\n",
      "['│', 'MIX_STOI_epoch', '│', '0.6092727235680635', '│'] 5\n",
      "['│', 'PESQ_NB_epoch', '│', '2.393241406091005', '│'] 5\n",
      "['│', 'STOI_epoch', '│', '0.8460506305682103', '│'] 5\n",
      "['│', 'ESTOI_epoch', '│', '0.6379974652593725', '│'] 5\n",
      "['│', 'MIX_ESTOI_epoch', '│', '0.2913847888103656', '│'] 5\n",
      "['│', 'MIX_PESQ_NB_epoch', '│', '1.3749118544630548', '│'] 5\n",
      "['│', 'MIX_STOI_epoch', '│', '0.5637089768545813', '│'] 5\n",
      "['│', 'PESQ_NB_epoch', '│', '2.2276321429771047', '│'] 5\n",
      "['│', 'STOI_epoch', '│', '0.8162416709817713', '│'] 5\n",
      "['│', 'ESTOI_epoch', '│', '0.5983186455496452', '│'] 5\n",
      "['│', 'MIX_ESTOI_epoch', '│', '0.24898841265872199', '│'] 5\n",
      "['│', 'MIX_PESQ_NB_epoch', '│', '1.3259078765384502', '│'] 5\n",
      "['│', 'MIX_STOI_epoch', '│', '0.528517969111483', '│'] 5\n",
      "['│', 'PESQ_NB_epoch', '│', '2.108664427042217', '│'] 5\n",
      "['│', 'STOI_epoch', '│', '0.791171740315867', '│'] 5\n",
      "['│', 'ESTOI_epoch', '│', '0.5646048115425064', '│'] 5\n",
      "['│', 'MIX_ESTOI_epoch', '│', '0.21540164342670703', '│'] 5\n",
      "['│', 'MIX_PESQ_NB_epoch', '│', '1.2819707168213057', '│'] 5\n",
      "['│', 'MIX_STOI_epoch', '│', '0.5012238942094935', '│'] 5\n",
      "['│', 'PESQ_NB_epoch', '│', '2.0185260102724176', '│'] 5\n",
      "['│', 'STOI_epoch', '│', '0.7689680643061735', '│'] 5\n",
      "['│', 'ESTOI_epoch', '│', '0.843847553722264', '│'] 5\n",
      "['│', 'MIX_ESTOI_epoch', '│', '0.5390737796152074', '│'] 5\n",
      "['│', 'MIX_PESQ_NB_epoch', '│', '1.9003748485643144', '│'] 5\n",
      "['│', 'MIX_STOI_epoch', '│', '0.7627707245138731', '│'] 5\n",
      "['│', 'PESQ_NB_epoch', '│', '3.0131133409631294', '│'] 5\n",
      "['│', 'STOI_epoch', '│', '0.9323986994777643', '│'] 5\n",
      "['│', 'ESTOI_epoch', '│', '0.7266052158177458', '│'] 5\n",
      "['│', 'MIX_ESTOI_epoch', '│', '0.3738504819677845', '│'] 5\n",
      "['│', 'MIX_PESQ_NB_epoch', '│', '1.580715072001144', '│'] 5\n",
      "['│', 'MIX_STOI_epoch', '│', '0.6255015504696866', '│'] 5\n",
      "['│', 'PESQ_NB_epoch', '│', '2.5103656104103016', '│'] 5\n",
      "['│', 'STOI_epoch', '│', '0.8706402254060059', '│'] 5\n",
      "['│', 'ESTOI_epoch', '│', '0.7745396569121715', '│'] 5\n",
      "['│', 'MIX_ESTOI_epoch', '│', '0.44614197490158425', '│'] 5\n",
      "['│', 'MIX_PESQ_NB_epoch', '│', '1.7083202544258829', '│'] 5\n",
      "['│', 'MIX_STOI_epoch', '│', '0.6839669286513976', '│'] 5\n",
      "['│', 'PESQ_NB_epoch', '│', '2.6963152737334677', '│'] 5\n",
      "['│', 'STOI_epoch', '│', '0.8966089681201697', '│'] 5\n",
      "['│', 'ESTOI_epoch', '│', '0.6514623830002899', '│'] 5\n",
      "['│', 'MIX_ESTOI_epoch', '│', '0.27382164804714176', '│'] 5\n",
      "['│', 'MIX_PESQ_NB_epoch', '│', '1.4368378744078227', '│'] 5\n",
      "['│', 'MIX_STOI_epoch', '│', '0.546309322370285', '│'] 5\n",
      "['│', 'PESQ_NB_epoch', '│', '2.272599599807263', '│'] 5\n",
      "['│', 'STOI_epoch', '│', '0.82735357357216', '│'] 5\n",
      "['│', 'ESTOI_epoch', '│', '0.6863631706153484', '│'] 5\n",
      "['│', 'MIX_ESTOI_epoch', '│', '0.317504926399479', '│'] 5\n",
      "['│', 'MIX_PESQ_NB_epoch', '│', '1.4956593812667482', '│'] 5\n",
      "['│', 'MIX_STOI_epoch', '│', '0.5808419305062039', '│'] 5\n",
      "['│', 'PESQ_NB_epoch', '│', '2.3764219505258866', '│'] 5\n",
      "['│', 'STOI_epoch', '│', '0.8479376545927424', '│'] 5\n",
      "['│', 'ESTOI_epoch', '│', '0.6721282823363414', '│'] 5\n",
      "['│', 'MIX_ESTOI_epoch', '│', '0.27326198452888184', '│'] 5\n",
      "['│', 'MIX_PESQ_NB_epoch', '│', '1.4113204461179862', '│'] 5\n",
      "['│', 'MIX_STOI_epoch', '│', '0.5402946455143638', '│'] 5\n",
      "['│', 'PESQ_NB_epoch', '│', '2.2667423379791005', '│'] 5\n",
      "['│', 'STOI_epoch', '│', '0.8299226097697263', '│'] 5\n",
      "['│', 'ESTOI_epoch', '│', '0.6257410417206931', '│'] 5\n",
      "['│', 'MIX_ESTOI_epoch', '│', '0.24790005077672342', '│'] 5\n",
      "['│', 'MIX_PESQ_NB_epoch', '│', '1.3402493998409655', '│'] 5\n",
      "['│', 'MIX_STOI_epoch', '│', '0.519901807211273', '│'] 5\n",
      "['│', 'PESQ_NB_epoch', '│', '2.1000334962715153', '│'] 5\n",
      "['│', 'STOI_epoch', '│', '0.7954874420782638', '│'] 5\n",
      "['│', 'ESTOI_epoch', '│', '0.5923103689955961', '│'] 5\n",
      "['│', 'MIX_ESTOI_epoch', '│', '0.21422708384899694', '│'] 5\n",
      "['│', 'MIX_PESQ_NB_epoch', '│', '1.3247569106602977', '│'] 5\n",
      "['│', 'MIX_STOI_epoch', '│', '0.49398033134592023', '│'] 5\n",
      "['│', 'PESQ_NB_epoch', '│', '2.0106744806865833', '│'] 5\n",
      "['│', 'STOI_epoch', '│', '0.7735854864766263', '│'] 5\n",
      "['│', 'ESTOI_epoch', '│', '0.7016346248443344', '│'] 5\n",
      "['│', 'MIX_ESTOI_epoch', '│', '0.3444245087196146', '│'] 5\n",
      "['│', 'MIX_PESQ_NB_epoch', '│', '1.4202091016450233', '│'] 5\n",
      "['│', 'MIX_STOI_epoch', '│', '0.5983285092367906', '│'] 5\n",
      "['│', 'PESQ_NB_epoch', '│', '2.342672259041076', '│'] 5\n",
      "['│', 'STOI_epoch', '│', '0.8433576524972004', '│'] 5\n",
      "['│', 'ESTOI_epoch', '│', '0.6622792424127295', '│'] 5\n",
      "['│', 'MIX_ESTOI_epoch', '│', '0.2907094229682511', '│'] 5\n",
      "['│', 'MIX_PESQ_NB_epoch', '│', '1.3683426855264047', '│'] 5\n",
      "['│', 'MIX_STOI_epoch', '│', '0.5536688088208132', '│'] 5\n",
      "['│', 'PESQ_NB_epoch', '│', '2.2100604365851857', '│'] 5\n",
      "['│', 'STOI_epoch', '│', '0.8188402511644007', '│'] 5\n",
      "['│', 'ESTOI_epoch', '│', '0.519757571493571', '│'] 5\n",
      "['│', 'MIX_ESTOI_epoch', '│', '0.203189013843247', '│'] 5\n",
      "['│', 'MIX_PESQ_NB_epoch', '│', '1.2652023554723564', '│'] 5\n",
      "['│', 'MIX_STOI_epoch', '│', '0.48308824821343926', '│'] 5\n",
      "['│', 'PESQ_NB_epoch', '│', '1.7864080550384618', '│'] 5\n",
      "['│', 'STOI_epoch', '│', '0.71898412026183', '│'] 5\n",
      "['│', 'ESTOI_epoch', '│', '0.4833744169074496', '│'] 5\n",
      "['│', 'MIX_ESTOI_epoch', '│', '0.17321686848138668', '│'] 5\n",
      "['│', 'MIX_PESQ_NB_epoch', '│', '1.2525797861359103', '│'] 5\n",
      "['│', 'MIX_STOI_epoch', '│', '0.45994557854747525', '│'] 5\n",
      "['│', 'PESQ_NB_epoch', '│', '1.6958495911122147', '│'] 5\n",
      "['│', 'STOI_epoch', '│', '0.6932354802597458', '│'] 5\n",
      "['│', 'ESTOI_epoch', '│', '0.7064000877199327', '│'] 5\n",
      "['│', 'MIX_ESTOI_epoch', '│', '0.3166319771421433', '│'] 5\n",
      "['│', 'MIX_PESQ_NB_epoch', '│', '1.4521473672183882', '│'] 5\n",
      "['│', 'MIX_STOI_epoch', '│', '0.5734751931479709', '│'] 5\n",
      "['│', 'PESQ_NB_epoch', '│', '2.3680497494085757', '│'] 5\n",
      "['│', 'STOI_epoch', '│', '0.8506718134819975', '│'] 5\n",
      "['│', 'ESTOI_epoch', '│', '0.7438991833931009', '│'] 5\n",
      "['│', 'MIX_ESTOI_epoch', '│', '0.37266497624257877', '│'] 5\n",
      "['│', 'MIX_PESQ_NB_epoch', '│', '1.5145016082990062', '│'] 5\n",
      "['│', 'MIX_STOI_epoch', '│', '0.6166553948927819', '│'] 5\n",
      "['│', 'PESQ_NB_epoch', '│', '2.4977647587013845', '│'] 5\n",
      "['│', 'STOI_epoch', '│', '0.8726693213891872', '│'] 5\n",
      "['│', 'ESTOI_epoch', '│', '0.8320041295017738', '│'] 5\n",
      "['│', 'MIX_ESTOI_epoch', '│', '0.5398617390814754', '│'] 5\n",
      "['│', 'MIX_PESQ_NB_epoch', '│', '1.7758132156702395', '│'] 5\n",
      "['│', 'MIX_STOI_epoch', '│', '0.7544765277982598', '│'] 5\n",
      "['│', 'PESQ_NB_epoch', '│', '2.8677179943014655', '│'] 5\n",
      "['│', 'STOI_epoch', '│', '0.9221962991575492', '│'] 5\n",
      "['│', 'ESTOI_epoch', '│', '0.7845018892894706', '│'] 5\n",
      "['│', 'MIX_ESTOI_epoch', '│', '0.4448397788992766', '│'] 5\n",
      "['│', 'MIX_PESQ_NB_epoch', '│', '1.613363010417039', '│'] 5\n",
      "['│', 'MIX_STOI_epoch', '│', '0.6739510468279476', '│'] 5\n",
      "['│', 'PESQ_NB_epoch', '│', '2.6615171529850654', '│'] 5\n",
      "['│', 'STOI_epoch', '│', '0.8956677325965259', '│'] 5\n",
      "['│', 'ESTOI_epoch', '│', '0.6070160326277562', '│'] 5\n",
      "['│', 'MIX_ESTOI_epoch', '│', '0.28537443878293667', '│'] 5\n",
      "['│', 'MIX_PESQ_NB_epoch', '│', '1.3400338234265143', '│'] 5\n",
      "['│', 'MIX_STOI_epoch', '│', '0.5564763624907925', '│'] 5\n",
      "['│', 'PESQ_NB_epoch', '│', '2.020347940047311', '│'] 5\n",
      "['│', 'STOI_epoch', '│', '0.7790048501594735', '│'] 5\n",
      "['│', 'ESTOI_epoch', '│', '0.5586293954689656', '│'] 5\n",
      "['│', 'MIX_ESTOI_epoch', '│', '0.2399358587100358', '│'] 5\n",
      "['│', 'MIX_PESQ_NB_epoch', '│', '1.2861260719916072', '│'] 5\n",
      "['│', 'MIX_STOI_epoch', '│', '0.5135013286736044', '│'] 5\n",
      "['│', 'PESQ_NB_epoch', '│', '1.89100595031189', '│'] 5\n",
      "['│', 'STOI_epoch', '│', '0.7459820802009846', '│'] 5\n",
      "['│', 'ESTOI_epoch', '│', '0.7488865551901165', '│'] 5\n",
      "['│', 'MIX_ESTOI_epoch', '│', '0.4130207187201164', '│'] 5\n",
      "['│', 'MIX_PESQ_NB_epoch', '│', '1.5344185162732074', '│'] 5\n",
      "['│', 'MIX_STOI_epoch', '│', '0.6613281999600134', '│'] 5\n",
      "['│', 'PESQ_NB_epoch', '│', '2.5123114356105263', '│'] 5\n",
      "['│', 'STOI_epoch', '│', '0.8724940892084943', '│'] 5\n",
      "['│', 'ESTOI_epoch', '│', '0.45011843396634443', '│'] 5\n",
      "['│', 'MIX_ESTOI_epoch', '│', '0.149370869348985', '│'] 5\n",
      "['│', 'MIX_PESQ_NB_epoch', '│', '1.2322387001647284', '│'] 5\n",
      "['│', 'MIX_STOI_epoch', '│', '0.44220195844549337', '│'] 5\n",
      "['│', 'PESQ_NB_epoch', '│', '1.6209888009848477', '│'] 5\n",
      "['│', 'STOI_epoch', '│', '0.6693840846454473', '│'] 5\n"
     ]
    }
   ],
   "source": [
    "reverb_exp_dict = get_all_exp_dict(reverb_log_dir, se_measures_pattern)\n",
    "noisy_reverb_ps_exp_dict = get_all_exp_dict(noisy_reverb_ps_log_dir, se_measures_pattern)\n",
    "noisy_reverb_diffuse_exp_dict = get_all_exp_dict(noisy_reverb_diffuse_log_dir, se_measures_pattern)"
   ]
  },
  {
   "cell_type": "code",
   "execution_count": 27,
   "metadata": {},
   "outputs": [
    {
     "data": {
      "text/plain": [
       "{'STOI_snr_-5.0_t60_0.4': 0.7538456853848726,\n",
       " 'PESQ_NB_snr_-5.0_t60_0.4': 1.9544265247621588,\n",
       " 'STOI_snr_-5.0_t60_0.6': 0.7180457805808883,\n",
       " 'PESQ_NB_snr_-5.0_t60_0.6': 1.8065288900485403,\n",
       " 'STOI_snr_-5.0_t60_0.2': 0.8144112745121372,\n",
       " 'PESQ_NB_snr_-5.0_t60_0.2': 2.235184134414883,\n",
       " 'STOI_snr_-5.0_t60_0.8': 0.6896502858103852,\n",
       " 'PESQ_NB_snr_-5.0_t60_0.8': 1.7074318411886142,\n",
       " 'STOI_snr_-5.0_t60_1.0': 0.6653000964445419,\n",
       " 'PESQ_NB_snr_-5.0_t60_1.0': 1.6336026350859807,\n",
       " 'STOI_snr_0.0_t60_0.2': 0.8912287365184997,\n",
       " 'PESQ_NB_snr_0.0_t60_0.2': 2.686611786204634,\n",
       " 'STOI_snr_0.0_t60_0.4': 0.8460506305682103,\n",
       " 'PESQ_NB_snr_0.0_t60_0.4': 2.393241406091005,\n",
       " 'STOI_snr_0.0_t60_0.6': 0.8162416709817713,\n",
       " 'PESQ_NB_snr_0.0_t60_0.6': 2.2276321429771047,\n",
       " 'STOI_snr_0.0_t60_0.8': 0.791171740315867,\n",
       " 'PESQ_NB_snr_0.0_t60_0.8': 2.108664427042217,\n",
       " 'STOI_snr_0.0_t60_1.0': 0.7689680643061735,\n",
       " 'PESQ_NB_snr_0.0_t60_1.0': 2.0185260102724176,\n",
       " 'STOI_snr_5.0_t60_0.2': 0.9323986994777643,\n",
       " 'PESQ_NB_snr_5.0_t60_0.2': 3.0131133409631294,\n",
       " 'STOI_snr_5.0_t60_0.6': 0.8706402254060059,\n",
       " 'PESQ_NB_snr_5.0_t60_0.6': 2.5103656104103016,\n",
       " 'STOI_snr_5.0_t60_0.4': 0.8966089681201697,\n",
       " 'PESQ_NB_snr_5.0_t60_0.4': 2.6963152737334677,\n",
       " 'STOI_snr_5.0_t60_1.0': 0.82735357357216,\n",
       " 'PESQ_NB_snr_5.0_t60_1.0': 2.272599599807263,\n",
       " 'STOI_snr_5.0_t60_0.8': 0.8479376545927424,\n",
       " 'PESQ_NB_snr_5.0_t60_0.8': 2.3764219505258866}"
      ]
     },
     "execution_count": 27,
     "metadata": {},
     "output_type": "execute_result"
    }
   ],
   "source": [
    "noisy_reverb_ps_exp_dict"
   ]
  },
  {
   "cell_type": "code",
   "execution_count": 24,
   "metadata": {},
   "outputs": [
    {
     "name": "stdout",
     "output_type": "stream",
     "text": [
      " STOI, 0.0\n",
      " PESQ_NB, 0.0\n"
     ]
    }
   ],
   "source": [
    "t60_list = [0.0, 0.2, 0.3, 0.4, 0.5, 0.6, 0.7, 0.8, 0.9, 1.0]\n",
    "measures_list = [\"STOI\", \"PESQ_NB\"]\n",
    "#Loss = [\"MIX\", \"MISO_RI\", \"MISO_RI_MAG\"]\n",
    "keys_list = reverb_exp_dict.keys()\n",
    "\n",
    "for measure in measures_list:\n",
    "    val_list=[]\n",
    "    for t60 in t60_list: \n",
    "        app_str = f\"t60_{t60}\"  \n",
    "        key_str = f'{measure}_{app_str}' #if \"MIX\" not in loss else f'{loss}_{measure}_epoch_{app_str}'  #f'{loss}_est_{num_mics}mic_enh_{measure}_{app_str}' #inside file pattern\n",
    "        if key_str in keys_list:\n",
    "            val = reverb_exp_dict[key_str]\n",
    "        else:\n",
    "            val = 0.0\n",
    "        val_list.append(val)\n",
    "    print(f\" {measure}, {np.mean(val_list)}\")"
   ]
  },
  {
   "cell_type": "code",
   "execution_count": 28,
   "metadata": {},
   "outputs": [
    {
     "name": "stdout",
     "output_type": "stream",
     "text": [
      "STOI, 0.8054322208898302\n",
      "PESQ_NB, 2.190142962604347\n"
     ]
    }
   ],
   "source": [
    "exp_dict = noisy_reverb_ps_exp_dict # noisy_reverb_diffuse_exp_dict\n",
    "\n",
    "snr_list = [-5.0, 0.0, 5.0]\n",
    "t60_list = [0.2, 0.4, 0.6, 0.8, 1.0]\n",
    "measures_list = [\"STOI\", \"PESQ_NB\"]\n",
    "keys_list = exp_dict.keys()\n",
    "\n",
    "\n",
    "\n",
    "for measure in measures_list:\n",
    "    val_list=[] \n",
    "    for _snr in snr_list:\n",
    "        for t60 in t60_list:                                                   \n",
    "                            \n",
    "            app_str = f\"snr_{_snr}_t60_{t60}\"  \n",
    "            key_str = f'{measure}_{app_str}' #if \"MIX\" not in loss else f'{loss}_{measure}_epoch_{app_str}' #f'{measure}_{loss}_est_{num_mics}mic_enh_{mic_idx}_{app_str}' #inside file pattern\n",
    "\n",
    "            if key_str in keys_list:\n",
    "                val = exp_dict[key_str]\n",
    "            else:\n",
    "                #print(key_str)\n",
    "                val = 0.0\n",
    "            val_list.append(val)\n",
    "    #print(val_list)\n",
    "    print(f\"{measure}, {np.mean(val_list)}\")"
   ]
  },
  {
   "attachments": {},
   "cell_type": "markdown",
   "metadata": {},
   "source": [
    "Circular array\n",
    "nr_ps:  STOI, 0.8334184718703059 , PESQ_NB, 2.335496293759587 \\\\\n",
    "nr_dif:  STOI, 0.8284373132143797, PESQ_NB, 2.281116524542644"
   ]
  },
  {
   "cell_type": "code",
   "execution_count": null,
   "metadata": {},
   "outputs": [],
   "source": []
  }
 ],
 "metadata": {
  "kernelspec": {
   "display_name": "Python 3",
   "language": "python",
   "name": "python3"
  },
  "language_info": {
   "codemirror_mode": {
    "name": "ipython",
    "version": 3
   },
   "file_extension": ".py",
   "mimetype": "text/x-python",
   "name": "python",
   "nbconvert_exporter": "python",
   "pygments_lexer": "ipython3",
   "version": "3.9.12"
  },
  "orig_nbformat": 4
 },
 "nbformat": 4,
 "nbformat_minor": 2
}
