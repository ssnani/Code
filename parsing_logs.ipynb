{
 "cells": [
  {
   "cell_type": "code",
   "execution_count": null,
   "metadata": {},
   "outputs": [],
   "source": []
  },
  {
   "cell_type": "code",
   "execution_count": null,
   "metadata": {},
   "outputs": [],
   "source": []
  },
  {
   "cell_type": "code",
   "execution_count": 1,
   "metadata": {},
   "outputs": [],
   "source": [
    "def get_test_config_details(lst, dataset_condition):\n",
    "    ckpt_name_list = lst[1].split('/')\n",
    "    train, mic_idx = ckpt_name_list[-3], ckpt_name_list[-1][-2]\n",
    "\n",
    "    exp_name_list = lst[-1].split('_')\n",
    "    #idx = 4 if exp_name_list[-1][0]=='-' else 3\n",
    "    if dataset_condition==\"noisy_reverb\":\n",
    "        snr, t60, test = exp_name_list[-1][:-3], exp_name_list[-3], exp_name_list[-5]\n",
    "    elif dataset_condition==\"reverb\":\n",
    "        snr, t60, test = None, exp_name_list[-1][:-1], exp_name_list[-3]\n",
    "    elif dataset_condition==\"noisy\":\n",
    "        snr, t60, test = exp_name_list[-1][:-3], None, exp_name_list[-3]\n",
    "    else:\n",
    "        pass\n",
    "\n",
    "    return mic_idx, train, test, t60, snr"
   ]
  },
  {
   "cell_type": "code",
   "execution_count": 2,
   "metadata": {},
   "outputs": [],
   "source": [
    "# getting metrics for noisy_reverb\n",
    "import os\n",
    "from collections import namedtuple\n",
    "\n",
    "metrics = namedtuple('metrics', [\"mix_stoi\", \"enh_stoi\", \"mix_pesq_nb\", \"enh_pesq_nb\"])\n",
    "doa_metrics = namedtuple('doa_metrics', [\"mix_frm_Acc\", \"est_frm_Acc\", \"mix_blk_Acc\", \"est_blk_Acc\"])\n",
    "\n",
    "dataset_condition = \"noisy\"\n",
    "comparison_domain = \"doa\"\n",
    "\n",
    "scenarios = [\"stationary\", \"moving\"]\n",
    "#t60_list = [0.2, 0.4, 0.6, 0.8, 1.0] # rows \n",
    "#snr_list = [-5.0, 0.0, 5.0, 10.0, 20.0] # col\n",
    "\n",
    "files_list = os.listdir(f'../Logs/{dataset_condition}/{comparison_domain}')\n",
    "exp_dict = {}\n",
    "doa_exp_dict = {}\n",
    "for file in files_list:\n",
    "    if os.path.isfile(os.path.join(f'../Logs/{dataset_condition}/{comparison_domain}', file)) and os.path.splitext(file)[1]==\".out\":\n",
    "        with open(os.path.join(f'../Logs/{dataset_condition}/{comparison_domain}', file), 'r') as f:\n",
    "            for line in f.readlines():\n",
    "                if \"ckpt_dir\" in line.strip():\n",
    "                    mic_idx, train, test, t60, snr = get_test_config_details(line.split(), dataset_condition)\n",
    "                elif \"PESQ_NB_epoch\" in line.strip():\n",
    "                    if \"PESQ_NB_epoch\"==line.strip().split()[1]:\n",
    "                        pesq_nb_enh = line.strip().split()[3]\n",
    "                        #print(pesq_nb_enh)\n",
    "                    elif \"MIX_PESQ_NB_epoch\"==line.strip().split()[1]:\n",
    "                        pesq_nb_mix = line.strip().split()[3]\n",
    "                        #print(pesq_nb_mix)\n",
    "                    else:\n",
    "                        continue\n",
    "                    #print(line)\n",
    "                elif \"STOI_epoch\" in line.strip():\n",
    "                    if \"STOI_epoch\"==line.strip().split()[1]:\n",
    "                        stoi_enh = line.strip().split()[3]\n",
    "                        #print(stoi_enh)\n",
    "                    elif \"MIX_STOI_epoch\"==line.strip().split()[1]:\n",
    "                        stoi_mix = line.strip().split()[3]\n",
    "                        #print(stoi_mix)\n",
    "                    else:\n",
    "                        continue\n",
    "                elif \"blk_Acc_epoch\" in line.strip():\n",
    "                    if \"est_blk_Acc_epoch\"==line.strip().split()[1]:\n",
    "                        est_blk_Acc = line.strip().split()[3]\n",
    "                    elif \"mix_blk_Acc_epoch\"==line.strip().split()[1]:\n",
    "                        mix_blk_Acc = line.strip().split()[3]\n",
    "                    else:\n",
    "                        continue\n",
    "                elif \"frm_Acc_epoch\" in line.strip():\n",
    "                    if \"est_frm_Acc_epoch\"==line.strip().split()[1]:\n",
    "                        est_frm_Acc = line.strip().split()[3]\n",
    "                    elif \"mix_frm_Acc_epoch\"==line.strip().split()[1]:\n",
    "                        mix_frm_Acc = line.strip().split()[3]\n",
    "                    else:\n",
    "                        continue\n",
    "                \n",
    "                #print(line)\n",
    "\n",
    "    \n",
    "        \n",
    "        if comparison_domain ==\"doa\":\n",
    "            exp_metrics = doa_metrics(mix_frm_Acc, est_frm_Acc, mix_blk_Acc, est_blk_Acc)\n",
    "        else:\n",
    "            exp_metrics = metrics(stoi_mix, stoi_enh, pesq_nb_mix, pesq_nb_enh)\n",
    "\n",
    "        #exp_metrics = { \"mix_stoi\": stoi_mix, \"enh_stoi\": stoi_enh, \"mix_pesq_nb\": pesq_nb_mix, \"enh_pesq_nb\": pesq_nb_enh}\n",
    "\n",
    "        if dataset_condition ==\"reverb\":\n",
    "            exp_app_str = f't60_{t60}'\n",
    "        elif dataset_condition ==\"noisy\":\n",
    "            exp_app_str = f'snr_{snr}'\n",
    "        elif dataset_condition ==\"noisy_reverb\":\n",
    "            exp_app_str = f't60_{t60}_snr_{snr}'\n",
    "        else:\n",
    "            exp_app_str = ''\n",
    "\n",
    "        key_str = f'train_{train}_mic_idx_{mic_idx}_test_{test}_{exp_app_str}' if comparison_domain!=\"doa\" else f'train_{train}_test_{test}_{exp_app_str}'\n",
    "        exp_dict[key_str] = exp_metrics\n",
    "        #doa_exp_dict[f'train_{train}_mic_idx_{mic_idx}_test_{test}_{exp_app_str}'] = doa_metrics\n",
    "\n",
    "        #break\n",
    "\n",
    "\n"
   ]
  },
  {
   "cell_type": "code",
   "execution_count": 5,
   "metadata": {},
   "outputs": [],
   "source": [
    "\n",
    "import torch\n",
    "torch.save(exp_dict, f\"{dataset_condition}_doa_results.pt\")\n"
   ]
  },
  {
   "cell_type": "code",
   "execution_count": 3,
   "metadata": {},
   "outputs": [
    {
     "data": {
      "text/plain": [
       "doa_metrics(mix_frm_Acc='0.15387825667858124', est_frm_Acc='0.4100947976112366', mix_blk_Acc='0.18034960329532623', est_blk_Acc='0.7193621397018433')"
      ]
     },
     "execution_count": 3,
     "metadata": {},
     "output_type": "execute_result"
    }
   ],
   "source": [
    "mic_idx=0\n",
    "#dataset_condition = \"reverb\"\n",
    "train=\"stationary\"\n",
    "test = \"stationary\"\n",
    "t60=0.8\n",
    "snr = -5.0\n",
    "if dataset_condition ==\"reverb\":\n",
    "    exp_app_str = f't60_{t60}'\n",
    "elif dataset_condition ==\"noisy\":\n",
    "    exp_app_str = f'snr_{snr}'\n",
    "elif dataset_condition ==\"noisy_reverb\":\n",
    "    exp_app_str = f't60_{t60}_snr_{snr}'\n",
    "else:\n",
    "    exp_app_str = ''\n",
    "\n",
    "key_str = f'train_{train}_mic_idx_{mic_idx}_test_{test}_{exp_app_str}' if comparison_domain!=\"doa\" else f'train_{train}_test_{test}_{exp_app_str}'\n",
    "exp_dict[key_str]"
   ]
  },
  {
   "cell_type": "code",
   "execution_count": 4,
   "metadata": {},
   "outputs": [
    {
     "data": {
      "text/plain": [
       "{'train_moving_test_stationary_snr_0.0': doa_metrics(mix_frm_Acc='0.27210357785224915', est_frm_Acc='0.555447518825531', mix_blk_Acc='0.39209479093551636', est_blk_Acc='0.8997735381126404'),\n",
       " 'train_moving_test_moving_snr_-2.5': doa_metrics(mix_frm_Acc='0.19740110635757446', est_frm_Acc='0.49139314889907837', mix_blk_Acc='0.2623746991157532', est_blk_Acc='0.8549056649208069'),\n",
       " 'train_moving_test_stationary_snr_15.0': doa_metrics(mix_frm_Acc='0.6917834281921387', est_frm_Acc='0.7959786653518677', mix_blk_Acc='0.9208812117576599', est_blk_Acc='0.976082980632782'),\n",
       " 'train_stationary_test_moving_snr_-2.5': doa_metrics(mix_frm_Acc='0.19740110635757446', est_frm_Acc='0.4283803105354309', mix_blk_Acc='0.2623746991157532', est_blk_Acc='0.7674936652183533'),\n",
       " 'train_stationary_test_stationary_snr_20.0': doa_metrics(mix_frm_Acc='0.7873621582984924', est_frm_Acc='0.8323114514350891', mix_blk_Acc='0.9596425294876099', est_blk_Acc='0.9806771278381348'),\n",
       " 'train_moving_test_moving_snr_15.0': doa_metrics(mix_frm_Acc='0.6848724484443665', est_frm_Acc='0.7940918803215027', mix_blk_Acc='0.9191244840621948', est_blk_Acc='0.9754732847213745'),\n",
       " 'train_moving_test_stationary_snr_-2.5': doa_metrics(mix_frm_Acc='0.20791976153850555', est_frm_Acc='0.5006510615348816', mix_blk_Acc='0.2738898694515228', est_blk_Acc='0.8611583709716797'),\n",
       " 'train_moving_test_stationary_snr_5.0': doa_metrics(mix_frm_Acc='0.41938647627830505', est_frm_Acc='0.6542186737060547', mix_blk_Acc='0.6428429484367371', est_blk_Acc='0.9425926804542542'),\n",
       " 'train_moving_test_moving_snr_20.0': doa_metrics(mix_frm_Acc='0.7822378277778625', est_frm_Acc='0.8399388790130615', mix_blk_Acc='0.9585496783256531', est_blk_Acc='0.9817259907722473'),\n",
       " 'train_stationary_test_stationary_snr_5.0': doa_metrics(mix_frm_Acc='0.41938647627830505', est_frm_Acc='0.6325164437294006', mix_blk_Acc='0.6428429484367371', est_blk_Acc='0.924646258354187'),\n",
       " 'train_stationary_test_moving_snr_15.0': doa_metrics(mix_frm_Acc='0.6848724484443665', est_frm_Acc='0.7735574841499329', mix_blk_Acc='0.9191244840621948', est_blk_Acc='0.9715556502342224'),\n",
       " 'train_moving_test_moving_snr_2.5': doa_metrics(mix_frm_Acc='0.33310526609420776', est_frm_Acc='0.5988343954086304', mix_blk_Acc='0.5094863772392273', est_blk_Acc='0.9212333559989929'),\n",
       " 'train_moving_test_moving_snr_0.0': doa_metrics(mix_frm_Acc='0.26121124625205994', est_frm_Acc='0.546806275844574', mix_blk_Acc='0.3785017728805542', est_blk_Acc='0.8935917019844055'),\n",
       " 'train_moving_test_stationary_snr_2.5': doa_metrics(mix_frm_Acc='0.3440234661102295', est_frm_Acc='0.6068163514137268', mix_blk_Acc='0.518325686454773', est_blk_Acc='0.9253252744674683'),\n",
       " 'train_stationary_test_moving_snr_0.0': doa_metrics(mix_frm_Acc='0.26121124625205994', est_frm_Acc='0.48988816142082214', mix_blk_Acc='0.3785017728805542', est_blk_Acc='0.8317892551422119'),\n",
       " 'train_stationary_test_moving_snr_5.0': doa_metrics(mix_frm_Acc='0.4092007875442505', est_frm_Acc='0.6035969853401184', mix_blk_Acc='0.6350916028022766', est_blk_Acc='0.9129143953323364'),\n",
       " 'train_stationary_test_stationary_snr_2.5': doa_metrics(mix_frm_Acc='0.3440234661102295', est_frm_Acc='0.5824690461158752', mix_blk_Acc='0.518325686454773', est_blk_Acc='0.8964260220527649'),\n",
       " 'train_stationary_test_stationary_snr_-5.0': doa_metrics(mix_frm_Acc='0.15387825667858124', est_frm_Acc='0.4100947976112366', mix_blk_Acc='0.18034960329532623', est_blk_Acc='0.7193621397018433'),\n",
       " 'train_stationary_test_stationary_snr_15.0': doa_metrics(mix_frm_Acc='0.6917834281921387', est_frm_Acc='0.7836107015609741', mix_blk_Acc='0.9208812117576599', est_blk_Acc='0.9750403761863708'),\n",
       " 'train_stationary_test_stationary_snr_-2.5': doa_metrics(mix_frm_Acc='0.20791976153850555', est_frm_Acc='0.4700159430503845', mix_blk_Acc='0.2738898694515228', est_blk_Acc='0.7944241166114807'),\n",
       " 'train_moving_test_moving_snr_10.0': doa_metrics(mix_frm_Acc='0.558441162109375', est_frm_Acc='0.7306936979293823', mix_blk_Acc='0.8244005441665649', est_blk_Acc='0.9635651707649231'),\n",
       " 'train_moving_test_moving_snr_5.0': doa_metrics(mix_frm_Acc='0.4092007875442505', est_frm_Acc='0.6473630666732788', mix_blk_Acc='0.6350916028022766', est_blk_Acc='0.940788745880127'),\n",
       " 'train_moving_test_stationary_snr_10.0': doa_metrics(mix_frm_Acc='0.5667604207992554', est_frm_Acc='0.734937846660614', mix_blk_Acc='0.8302284479141235', est_blk_Acc='0.964056134223938'),\n",
       " 'train_moving_test_moving_snr_-5.0': doa_metrics(mix_frm_Acc='0.14353059232234955', est_frm_Acc='0.4331965148448944', mix_blk_Acc='0.16670507192611694', est_blk_Acc='0.7975761294364929'),\n",
       " 'train_stationary_test_moving_snr_2.5': doa_metrics(mix_frm_Acc='0.33310526609420776', est_frm_Acc='0.5486484169960022', mix_blk_Acc='0.5094863772392273', est_blk_Acc='0.8786045908927917'),\n",
       " 'train_stationary_test_stationary_snr_0.0': doa_metrics(mix_frm_Acc='0.27210357785224915', est_frm_Acc='0.5273060202598572', mix_blk_Acc='0.39209479093551636', est_blk_Acc='0.8526639938354492'),\n",
       " 'train_stationary_test_moving_snr_10.0': doa_metrics(mix_frm_Acc='0.558441162109375', est_frm_Acc='0.6989800333976746', mix_blk_Acc='0.8244005441665649', est_blk_Acc='0.9528441429138184'),\n",
       " 'train_stationary_test_moving_snr_-5.0': doa_metrics(mix_frm_Acc='0.14353059232234955', est_frm_Acc='0.3668324053287506', mix_blk_Acc='0.16670507192611694', est_blk_Acc='0.6868995428085327'),\n",
       " 'train_stationary_test_stationary_snr_10.0': doa_metrics(mix_frm_Acc='0.5667604207992554', est_frm_Acc='0.7183929681777954', mix_blk_Acc='0.8302284479141235', est_blk_Acc='0.9593474864959717'),\n",
       " 'train_stationary_test_moving_snr_20.0': doa_metrics(mix_frm_Acc='0.7822378277778625', est_frm_Acc='0.8273261189460754', mix_blk_Acc='0.9585496783256531', est_blk_Acc='0.979749858379364'),\n",
       " 'train_moving_test_stationary_snr_-5.0': doa_metrics(mix_frm_Acc='0.15387825667858124', est_frm_Acc='0.44237157702445984', mix_blk_Acc='0.18034960329532623', est_blk_Acc='0.8058769106864929'),\n",
       " 'train_moving_test_stationary_snr_20.0': doa_metrics(mix_frm_Acc='0.7873621582984924', est_frm_Acc='0.840337336063385', mix_blk_Acc='0.9596425294876099', est_blk_Acc='0.9822227358818054')}"
      ]
     },
     "execution_count": 4,
     "metadata": {},
     "output_type": "execute_result"
    }
   ],
   "source": [
    "exp_dict"
   ]
  },
  {
   "cell_type": "code",
   "execution_count": 6,
   "metadata": {},
   "outputs": [
    {
     "data": {
      "text/plain": [
       "32"
      ]
     },
     "execution_count": 6,
     "metadata": {},
     "output_type": "execute_result"
    }
   ],
   "source": [
    "len(exp_dict)"
   ]
  },
  {
   "cell_type": "code",
   "execution_count": 1,
   "metadata": {},
   "outputs": [
    {
     "ename": "AttributeError",
     "evalue": "Can't get attribute 'metrics' on <module '__main__'>",
     "output_type": "error",
     "traceback": [
      "\u001b[0;31m---------------------------------------------------------------------------\u001b[0m",
      "\u001b[0;31mAttributeError\u001b[0m                            Traceback (most recent call last)",
      "\u001b[1;32m/u/battula12/Projects/MVSS/Controlled_Experiments/Code/parsing_logs.ipynb Cell 9\u001b[0m in \u001b[0;36m<cell line: 4>\u001b[0;34m()\u001b[0m\n\u001b[1;32m      <a href='vscode-notebook-cell://ssh-remote%2Blogin.delta.ncsa.illinois.edu/u/battula12/Projects/MVSS/Controlled_Experiments/Code/parsing_logs.ipynb#X11sdnNjb2RlLXJlbW90ZQ%3D%3D?line=1'>2</a>\u001b[0m dataset_condition \u001b[39m=\u001b[39m \u001b[39m\"\u001b[39m\u001b[39mnoisy\u001b[39m\u001b[39m\"\u001b[39m\n\u001b[1;32m      <a href='vscode-notebook-cell://ssh-remote%2Blogin.delta.ncsa.illinois.edu/u/battula12/Projects/MVSS/Controlled_Experiments/Code/parsing_logs.ipynb#X11sdnNjb2RlLXJlbW90ZQ%3D%3D?line=2'>3</a>\u001b[0m comparison_domain\u001b[39m=\u001b[39m\u001b[39m\"\u001b[39m\u001b[39mse\u001b[39m\u001b[39m\"\u001b[39m\n\u001b[0;32m----> <a href='vscode-notebook-cell://ssh-remote%2Blogin.delta.ncsa.illinois.edu/u/battula12/Projects/MVSS/Controlled_Experiments/Code/parsing_logs.ipynb#X11sdnNjb2RlLXJlbW90ZQ%3D%3D?line=3'>4</a>\u001b[0m exp_dict \u001b[39m=\u001b[39m torch\u001b[39m.\u001b[39;49mload(\u001b[39mf\u001b[39;49m\u001b[39m'\u001b[39;49m\u001b[39m../Logs/\u001b[39;49m\u001b[39m{\u001b[39;49;00mdataset_condition\u001b[39m}\u001b[39;49;00m\u001b[39m/\u001b[39;49m\u001b[39m{\u001b[39;49;00mdataset_condition\u001b[39m}\u001b[39;49;00m\u001b[39m_\u001b[39;49m\u001b[39m{\u001b[39;49;00mcomparison_domain\u001b[39m}\u001b[39;49;00m\u001b[39m_results.pt\u001b[39;49m\u001b[39m'\u001b[39;49m)\n",
      "File \u001b[0;32m~/.conda/envs/moving_source/lib/python3.9/site-packages/torch/serialization.py:712\u001b[0m, in \u001b[0;36mload\u001b[0;34m(f, map_location, pickle_module, **pickle_load_args)\u001b[0m\n\u001b[1;32m    710\u001b[0m             opened_file\u001b[39m.\u001b[39mseek(orig_position)\n\u001b[1;32m    711\u001b[0m             \u001b[39mreturn\u001b[39;00m torch\u001b[39m.\u001b[39mjit\u001b[39m.\u001b[39mload(opened_file)\n\u001b[0;32m--> 712\u001b[0m         \u001b[39mreturn\u001b[39;00m _load(opened_zipfile, map_location, pickle_module, \u001b[39m*\u001b[39;49m\u001b[39m*\u001b[39;49mpickle_load_args)\n\u001b[1;32m    713\u001b[0m \u001b[39mreturn\u001b[39;00m _legacy_load(opened_file, map_location, pickle_module, \u001b[39m*\u001b[39m\u001b[39m*\u001b[39mpickle_load_args)\n",
      "File \u001b[0;32m~/.conda/envs/moving_source/lib/python3.9/site-packages/torch/serialization.py:1049\u001b[0m, in \u001b[0;36m_load\u001b[0;34m(zip_file, map_location, pickle_module, pickle_file, **pickle_load_args)\u001b[0m\n\u001b[1;32m   1047\u001b[0m unpickler \u001b[39m=\u001b[39m UnpicklerWrapper(data_file, \u001b[39m*\u001b[39m\u001b[39m*\u001b[39mpickle_load_args)\n\u001b[1;32m   1048\u001b[0m unpickler\u001b[39m.\u001b[39mpersistent_load \u001b[39m=\u001b[39m persistent_load\n\u001b[0;32m-> 1049\u001b[0m result \u001b[39m=\u001b[39m unpickler\u001b[39m.\u001b[39;49mload()\n\u001b[1;32m   1051\u001b[0m torch\u001b[39m.\u001b[39m_utils\u001b[39m.\u001b[39m_validate_loaded_sparse_tensors()\n\u001b[1;32m   1053\u001b[0m \u001b[39mreturn\u001b[39;00m result\n",
      "File \u001b[0;32m~/.conda/envs/moving_source/lib/python3.9/site-packages/torch/serialization.py:1042\u001b[0m, in \u001b[0;36m_load.<locals>.UnpicklerWrapper.find_class\u001b[0;34m(self, mod_name, name)\u001b[0m\n\u001b[1;32m   1040\u001b[0m         \u001b[39mpass\u001b[39;00m\n\u001b[1;32m   1041\u001b[0m mod_name \u001b[39m=\u001b[39m load_module_mapping\u001b[39m.\u001b[39mget(mod_name, mod_name)\n\u001b[0;32m-> 1042\u001b[0m \u001b[39mreturn\u001b[39;00m \u001b[39msuper\u001b[39;49m()\u001b[39m.\u001b[39;49mfind_class(mod_name, name)\n",
      "\u001b[0;31mAttributeError\u001b[0m: Can't get attribute 'metrics' on <module '__main__'>"
     ]
    }
   ],
   "source": [
    "import torch\n",
    "dataset_condition = \"noisy\"\n",
    "comparison_domain=\"se\"\n",
    "exp_dict = torch.load(f'../Logs/{dataset_condition}/{dataset_condition}_{comparison_domain}_results.pt')"
   ]
  },
  {
   "cell_type": "code",
   "execution_count": 2,
   "metadata": {},
   "outputs": [],
   "source": [
    "#MIMO\n",
    "\n",
    "# getting metrics for noisy_reverb\n",
    "import os\n",
    "from collections import namedtuple\n",
    "\n",
    "metrics = namedtuple('metrics', [\"mix_stoi\", \"enh_stoi\", \"mix_pesq_nb\", \"enh_pesq_nb\", \"mix_frm_Acc\", \"est_frm_Acc\", \"mix_blk_Acc\", \"est_blk_Acc\"])\n",
    "\n",
    "\n",
    "dataset_condition = \"noisy_reverb\"\n",
    "comparison_domain = \"doa\"\n",
    "\n",
    "scenarios = [\"stationary\", \"moving\"]\n",
    "#t60_list = [0.2, 0.4, 0.6, 0.8, 1.0] # rows \n",
    "#snr_list = [-5.0, 0.0, 5.0, 10.0, 20.0] # col\n",
    "\n",
    "files_list = os.listdir(f'../Logs/{dataset_condition}/mimo')\n",
    "exp_dict = {}\n",
    "doa_exp_dict = {}\n",
    "for file in files_list:\n",
    "    if os.path.isfile(os.path.join(f'../Logs/{dataset_condition}/mimo', file)) and os.path.splitext(file)[1]==\".out\":\n",
    "        with open(os.path.join(f'../Logs/{dataset_condition}/mimo', file), 'r') as f:\n",
    "            for line in f.readlines():\n",
    "                if \"ckpt_dir\" in line.strip():\n",
    "                    mic_idx, train, test, t60, snr = get_test_config_details(line.split(), dataset_condition)\n",
    "                elif \"PESQ_NB_epoch\" in line.strip():\n",
    "                    if \"PESQ_NB_epoch\"==line.strip().split()[1]:\n",
    "                        pesq_nb_enh = line.strip().split()[3]\n",
    "                        #print(pesq_nb_enh)\n",
    "                    elif \"MIX_PESQ_NB_epoch\"==line.strip().split()[1]:\n",
    "                        pesq_nb_mix = line.strip().split()[3]\n",
    "                        #print(pesq_nb_mix)\n",
    "                    else:\n",
    "                        continue\n",
    "                    #print(line)\n",
    "                elif \"STOI_epoch\" in line.strip():\n",
    "                    if \"STOI_epoch\"==line.strip().split()[1]:\n",
    "                        stoi_enh = line.strip().split()[3]\n",
    "                        #print(stoi_enh)\n",
    "                    elif \"MIX_STOI_epoch\"==line.strip().split()[1]:\n",
    "                        stoi_mix = line.strip().split()[3]\n",
    "                        #print(stoi_mix)\n",
    "                    else:\n",
    "                        continue\n",
    "                elif \"blk_Acc_epoch\" in line.strip():\n",
    "                    if \"est_blk_Acc_epoch\"==line.strip().split()[1]:\n",
    "                        est_blk_Acc = line.strip().split()[3]\n",
    "                    elif \"mix_blk_Acc_epoch\"==line.strip().split()[1]:\n",
    "                        mix_blk_Acc = line.strip().split()[3]\n",
    "                    else:\n",
    "                        continue\n",
    "                elif \"frm_Acc_epoch\" in line.strip():\n",
    "                    if \"est_frm_Acc_epoch\"==line.strip().split()[1]:\n",
    "                        est_frm_Acc = line.strip().split()[3]\n",
    "                    elif \"mix_frm_Acc_epoch\"==line.strip().split()[1]:\n",
    "                        mix_frm_Acc = line.strip().split()[3]\n",
    "                    else:\n",
    "                        continue\n",
    "                \n",
    "                #print(line)\n",
    "\n",
    "    \n",
    "        \n",
    "\n",
    "        exp_metrics = metrics(stoi_mix, stoi_enh, pesq_nb_mix, pesq_nb_enh, mix_frm_Acc, est_frm_Acc, mix_blk_Acc, est_blk_Acc)\n",
    "\n",
    "        #exp_metrics = { \"mix_stoi\": stoi_mix, \"enh_stoi\": stoi_enh, \"mix_pesq_nb\": pesq_nb_mix, \"enh_pesq_nb\": pesq_nb_enh}\n",
    "\n",
    "        if dataset_condition ==\"reverb\":\n",
    "            exp_app_str = f't60_{t60}'\n",
    "        elif dataset_condition ==\"noisy\":\n",
    "            exp_app_str = f'snr_{snr}'\n",
    "        elif dataset_condition ==\"noisy_reverb\":\n",
    "            exp_app_str = f't60_{t60}_snr_{snr}'\n",
    "        else:\n",
    "            exp_app_str = ''\n",
    "\n",
    "        key_str = f'train_{train}_test_{test}_{exp_app_str}' \n",
    "        exp_dict[key_str] = exp_metrics\n",
    "        #doa_exp_dict[f'train_{train}_mic_idx_{mic_idx}_test_{test}_{exp_app_str}'] = doa_metrics\n",
    "\n",
    "        #break\n",
    "\n",
    "\n"
   ]
  },
  {
   "cell_type": "code",
   "execution_count": 3,
   "metadata": {},
   "outputs": [
    {
     "data": {
      "text/plain": [
       "{'train_stationary_test_stationary_t60_0.8_snr_0.0': metrics(mix_stoi='0.5678197160888757', enh_stoi='0.8237930815488047', mix_pesq_nb='1.3424806104946816', enh_pesq_nb='2.251976325369904', mix_frm_Acc='0.14404839277267456', est_frm_Acc='0.42789226770401', mix_blk_Acc='0.17921335995197296', est_blk_Acc='0.7054809331893921'),\n",
       " 'train_stationary_test_stationary_t60_0.8_snr_20.0': metrics(mix_stoi='0.7179071205927772', enh_stoi='0.9222700608162427', mix_pesq_nb='1.8176167043343183', enh_pesq_nb='2.8290046109551907', mix_frm_Acc='0.2246537059545517', est_frm_Acc='0.5416213870048523', mix_blk_Acc='0.29116711020469666', est_blk_Acc='0.8157580494880676'),\n",
       " 'train_stationary_test_moving_t60_0.4_snr_0.0': metrics(mix_stoi='0.6411536643682065', enh_stoi='0.861915714183658', mix_pesq_nb='1.4941485943507182', enh_pesq_nb='2.490244897146491', mix_frm_Acc='0.16722916066646576', est_frm_Acc='0.32033368945121765', mix_blk_Acc='0.2333357185125351', est_blk_Acc='0.5338303446769714'),\n",
       " 'train_moving_test_moving_t60_0.2_snr_-5.0': metrics(mix_stoi='0.5804943661925591', enh_stoi='0.8513746953213998', mix_pesq_nb='1.2831073412542986', enh_pesq_nb='2.4526021526812443', mix_frm_Acc='0.12306574732065201', est_frm_Acc='0.4298560619354248', mix_blk_Acc='0.14534923434257507', est_blk_Acc='0.7006535530090332'),\n",
       " 'train_stationary_test_moving_t60_1.0_snr_5.0': metrics(mix_stoi='0.5944325683990572', enh_stoi='0.8457311967856205', mix_pesq_nb='1.4571590808168906', enh_pesq_nb='2.363615736832165', mix_frm_Acc='0.15796372294425964', est_frm_Acc='0.2818441689014435', mix_blk_Acc='0.19206608831882477', est_blk_Acc='0.4935988187789917'),\n",
       " 'train_moving_test_stationary_t60_0.6_snr_10.0': metrics(mix_stoi='0.5805906489308498', enh_stoi='0.8465369567914963', mix_pesq_nb='1.2770436067273077', enh_pesq_nb='2.4358688603350984', mix_frm_Acc='0.1341717541217804', est_frm_Acc='0.44590774178504944', mix_blk_Acc='0.15838785469532013', est_blk_Acc='0.7136615514755249'),\n",
       " 'train_stationary_test_moving_t60_0.4_snr_-5.0': metrics(mix_stoi='0.5449197712284352', enh_stoi='0.7804370527233229', mix_pesq_nb='1.2224466645717023', enh_pesq_nb='2.0552060729402513', mix_frm_Acc='0.11172623932361603', est_frm_Acc='0.25292089581489563', mix_blk_Acc='0.1372501701116562', est_blk_Acc='0.4397621750831604'),\n",
       " 'train_moving_test_stationary_t60_0.4_snr_20.0': metrics(mix_stoi='0.5805906489308498', enh_stoi='0.8465369567914963', mix_pesq_nb='1.2770436067273077', enh_pesq_nb='2.4358688603350984', mix_frm_Acc='0.1341717541217804', est_frm_Acc='0.44590774178504944', mix_blk_Acc='0.15838785469532013', est_blk_Acc='0.7136615514755249'),\n",
       " 'train_moving_test_stationary_t60_1.0_snr_20.0': metrics(mix_stoi='0.9376032036888294', enh_stoi='0.9804626432916141', mix_pesq_nb='2.921924332439785', enh_pesq_nb='3.664044487811014', mix_frm_Acc='0.5597104430198669', est_frm_Acc='0.7730636596679688', mix_blk_Acc='0.772489607334137', est_blk_Acc='0.9413013458251953'),\n",
       " 'train_moving_test_stationary_t60_0.4_snr_-5.0': metrics(mix_stoi='0.5453094857720976', enh_stoi='0.7921155427152791', mix_pesq_nb='1.216843826680229', enh_pesq_nb='2.1186948811643895', mix_frm_Acc='0.12304611504077911', est_frm_Acc='0.40176382660865784', mix_blk_Acc='0.15355762839317322', est_blk_Acc='0.666537344455719'),\n",
       " 'train_moving_test_stationary_t60_0.8_snr_10.0': metrics(mix_stoi='0.6763118104631386', enh_stoi='0.9045002578970022', mix_pesq_nb='1.6828881754932554', enh_pesq_nb='2.701856527965071', mix_frm_Acc='0.20082560181617737', est_frm_Acc='0.5042558908462524', mix_blk_Acc='0.26235923171043396', est_blk_Acc='0.7957477569580078'),\n",
       " 'train_moving_test_stationary_t60_0.2_snr_20.0': metrics(mix_stoi='0.6763118104631386', enh_stoi='0.9045002578970022', mix_pesq_nb='1.6828881754932554', enh_pesq_nb='2.701856527965071', mix_frm_Acc='0.20082560181617737', est_frm_Acc='0.5042558908462524', mix_blk_Acc='0.26235923171043396', est_blk_Acc='0.7957477569580078'),\n",
       " 'train_moving_test_stationary_t60_1.0_snr_10.0': metrics(mix_stoi='0.6365635833488772', enh_stoi='0.8881590842900173', mix_pesq_nb='1.5886337676313915', enh_pesq_nb='2.587101971611791', mix_frm_Acc='0.18157684803009033', est_frm_Acc='0.4736103117465973', mix_blk_Acc='0.22318881750106812', est_blk_Acc='0.7641301155090332'),\n",
       " 'train_stationary_test_stationary_t60_0.4_snr_0.0': metrics(mix_stoi='0.6416630953760333', enh_stoi='0.8733293531744087', mix_pesq_nb='1.4953081913615744', enh_pesq_nb='2.549620821438223', mix_frm_Acc='0.17748433351516724', est_frm_Acc='0.4990815818309784', mix_blk_Acc='0.24843376874923706', est_blk_Acc='0.7843841314315796'),\n",
       " 'train_moving_test_stationary_t60_0.8_snr_20.0': metrics(mix_stoi='0.5177292988730656', enh_stoi='0.754018565899077', mix_pesq_nb='1.1777505841817968', enh_pesq_nb='1.9331603002615863', mix_frm_Acc='0.11649103462696075', est_frm_Acc='0.3645199239253998', mix_blk_Acc='0.14527085423469543', est_blk_Acc='0.623908519744873'),\n",
       " 'train_stationary_test_moving_t60_0.2_snr_5.0': metrics(mix_stoi='0.7934603532430305', enh_stoi='0.9355315682155089', mix_pesq_nb='1.9517009630583682', enh_pesq_nb='3.0926421248797733', mix_frm_Acc='0.31758004426956177', est_frm_Acc='0.45289888978004456', mix_blk_Acc='0.501732349395752', est_blk_Acc='0.6639872789382935'),\n",
       " 'train_stationary_test_moving_t60_0.8_snr_20.0': metrics(mix_stoi='0.7147549387506993', enh_stoi='0.908453309235116', mix_pesq_nb='1.8059082443385341', enh_pesq_nb='2.75206370822681', mix_frm_Acc='0.22369277477264404', est_frm_Acc='0.3501105308532715', mix_blk_Acc='0.2951914668083191', est_blk_Acc='0.5659430623054504'),\n",
       " 'train_moving_test_stationary_t60_0.4_snr_0.0': metrics(mix_stoi='0.6416630953760333', enh_stoi='0.8745115365150827', mix_pesq_nb='1.4953081913615744', enh_pesq_nb='2.5639645359326875', mix_frm_Acc='0.17748433351516724', est_frm_Acc='0.49103644490242004', mix_blk_Acc='0.24843376874923706', est_blk_Acc='0.77756267786026'),\n",
       " 'train_moving_test_moving_t60_0.6_snr_10.0': metrics(mix_stoi='0.723891424380906', enh_stoi='0.9220270409069207', mix_pesq_nb='1.8090582032217954', enh_pesq_nb='2.8499397144435026', mix_frm_Acc='0.22860825061798096', est_frm_Acc='0.5342565178871155', mix_blk_Acc='0.32204097509384155', est_blk_Acc='0.8224859237670898'),\n",
       " 'train_stationary_test_moving_t60_1.0_snr_0.0': metrics(mix_stoi='0.5389034315135331', enh_stoi='0.7896909287133925', mix_pesq_nb='1.2967743212362661', enh_pesq_nb='2.1064213666080365', mix_frm_Acc='0.13025812804698944', est_frm_Acc='0.24567373096942902', mix_blk_Acc='0.15432798862457275', est_blk_Acc='0.44240355491638184'),\n",
       " 'train_moving_test_stationary_t60_1.0_snr_-5.0': metrics(mix_stoi='0.4763726483746688', enh_stoi='0.6981592942222343', mix_pesq_nb='1.135584450270644', enh_pesq_nb='1.7198475852582336', mix_frm_Acc='0.10606851428747177', est_frm_Acc='0.3165913224220276', mix_blk_Acc='0.1215929314494133', est_blk_Acc='0.5551124215126038'),\n",
       " 'train_stationary_test_stationary_t60_0.2_snr_0.0': metrics(mix_stoi='0.6938811263320952', enh_stoi='0.9109514089547296', mix_pesq_nb='1.604127645519681', enh_pesq_nb='2.8504044718308683', mix_frm_Acc='0.22202041745185852', est_frm_Acc='0.5591399669647217', mix_blk_Acc='0.3200784921646118', est_blk_Acc='0.8350425958633423'),\n",
       " 'train_stationary_test_stationary_t60_1.0_snr_10.0': metrics(mix_stoi='0.6365635833488772', enh_stoi='0.8863018197873225', mix_pesq_nb='1.5886337676313915', enh_pesq_nb='2.569497502288563', mix_frm_Acc='0.18157684803009033', est_frm_Acc='0.4823427200317383', mix_blk_Acc='0.22318881750106812', est_blk_Acc='0.7658069729804993'),\n",
       " 'train_stationary_test_stationary_t60_0.8_snr_5.0': metrics(mix_stoi='0.6310353934810038', enh_stoi='0.8762971173731983', mix_pesq_nb='1.5352693524883028', enh_pesq_nb='2.523133029930056', mix_frm_Acc='0.17632834613323212', est_frm_Acc='0.4777612090110779', mix_blk_Acc='0.2257366180419922', est_blk_Acc='0.7645261287689209'),\n",
       " 'train_stationary_test_moving_t60_1.0_snr_10.0': metrics(mix_stoi='0.6338497046247672', enh_stoi='0.8734441587124963', mix_pesq_nb='1.579085080392632', enh_pesq_nb='2.5106348533714327', mix_frm_Acc='0.17839251458644867', est_frm_Acc='0.30401745438575745', mix_blk_Acc='0.2205120474100113', est_blk_Acc='0.5199657082557678'),\n",
       " 'train_moving_test_stationary_t60_0.6_snr_-5.0': metrics(mix_stoi='0.9376032036888294', enh_stoi='0.9804626432916141', mix_pesq_nb='2.921924332439785', enh_pesq_nb='3.664044487811014', mix_frm_Acc='0.5597104430198669', est_frm_Acc='0.7730636596679688', mix_blk_Acc='0.772489607334137', est_blk_Acc='0.9413013458251953'),\n",
       " 'train_moving_test_stationary_t60_0.8_snr_0.0': metrics(mix_stoi='0.5678197160888757', enh_stoi='0.8239796736016726', mix_pesq_nb='1.3424806104946816', enh_pesq_nb='2.249798083237922', mix_frm_Acc='0.14404839277267456', est_frm_Acc='0.4150988459587097', mix_blk_Acc='0.17921335995197296', est_blk_Acc='0.6976265907287598'),\n",
       " 'train_stationary_test_stationary_t60_1.0_snr_20.0': metrics(mix_stoi='0.672675273370417', enh_stoi='0.9051341227794159', mix_pesq_nb='1.6960646223074665', enh_pesq_nb='2.690198390145882', mix_frm_Acc='0.20014457404613495', est_frm_Acc='0.5088304281234741', mix_blk_Acc='0.2473183423280716', est_blk_Acc='0.7858425378799438'),\n",
       " 'train_moving_test_stationary_t60_0.8_snr_-5.0': metrics(mix_stoi='0.6310353934810038', enh_stoi='0.8774174839615033', mix_pesq_nb='1.5352693524883028', enh_pesq_nb='2.5331879686820633', mix_frm_Acc='0.17632834613323212', est_frm_Acc='0.46940723061561584', mix_blk_Acc='0.2257366180419922', est_blk_Acc='0.7623433470726013'),\n",
       " 'train_moving_test_stationary_t60_0.2_snr_0.0': metrics(mix_stoi='0.6938811263320952', enh_stoi='0.9111219630391502', mix_pesq_nb='1.604127645519681', enh_pesq_nb='2.870255795580075', mix_frm_Acc='0.22202041745185852', est_frm_Acc='0.5539510846138', mix_blk_Acc='0.3200784921646118', est_blk_Acc='0.8259416222572327'),\n",
       " 'train_moving_test_moving_t60_1.0_snr_5.0': metrics(mix_stoi='0.5944325683990572', enh_stoi='0.8598630824095734', mix_pesq_nb='1.45719082784303', enh_pesq_nb='2.4286254756831287', mix_frm_Acc='0.15796372294425964', est_frm_Acc='0.4311627745628357', mix_blk_Acc='0.19206608831882477', est_blk_Acc='0.7207304835319519'),\n",
       " 'train_moving_test_stationary_t60_0.6_snr_0.0': metrics(mix_stoi='0.6009038105503614', enh_stoi='0.8471945988840263', mix_pesq_nb='1.403164019207458', enh_pesq_nb='2.3798435141784204', mix_frm_Acc='0.1572282612323761', est_frm_Acc='0.4459187388420105', mix_blk_Acc='0.20854806900024414', est_blk_Acc='0.7340570688247681'),\n",
       " 'train_stationary_test_moving_t60_0.6_snr_5.0': metrics(mix_stoi='0.6719220130383426', enh_stoi='0.8849742783992267', mix_pesq_nb='1.6305074715237708', enh_pesq_nb='2.6097028395700934', mix_frm_Acc='0.19372005760669708', est_frm_Acc='0.3328619599342346', mix_blk_Acc='0.2681502103805542', est_blk_Acc='0.55569988489151'),\n",
       " 'train_stationary_test_stationary_t60_1.0_snr_0.0': metrics(mix_stoi='0.5408756854192187', enh_stoi='0.8036092423952574', mix_pesq_nb='1.2982127380522908', enh_pesq_nb='2.1581218640696127', mix_frm_Acc='0.13477306067943573', est_frm_Acc='0.40634453296661377', mix_blk_Acc='0.15931211411952972', est_blk_Acc='0.6766348481178284'),\n",
       " 'train_moving_test_moving_t60_0.6_snr_0.0': metrics(mix_stoi='0.5997014994422186', enh_stoi='0.8481080170911786', mix_pesq_nb='1.4018730360684863', enh_pesq_nb='2.3803495834993775', mix_frm_Acc='0.14961670339107513', est_frm_Acc='0.4317153990268707', mix_blk_Acc='0.1975151002407074', est_blk_Acc='0.7211494445800781'),\n",
       " 'train_moving_test_stationary_t60_0.2_snr_5.0': metrics(mix_stoi='0.7935033003483195', enh_stoi='0.9463801455728983', mix_pesq_nb='1.9513179987358773', enh_pesq_nb='3.1832965791309613', mix_frm_Acc='0.32603225111961365', est_frm_Acc='0.6441898345947266', mix_blk_Acc='0.5108342170715332', est_blk_Acc='0.8921917080879211'),\n",
       " 'train_stationary_test_moving_t60_0.2_snr_0.0': metrics(mix_stoi='0.693804655338274', enh_stoi='0.8992512989455572', mix_pesq_nb='1.606894288742915', enh_pesq_nb='2.7730800720236717', mix_frm_Acc='0.21099893748760223', est_frm_Acc='0.3780971169471741', mix_blk_Acc='0.3043581545352936', est_blk_Acc='0.5971363186836243'),\n",
       " 'train_moving_test_stationary_t60_0.2_snr_-5.0': metrics(mix_stoi='0.5805906489308498', enh_stoi='0.8465369567914963', mix_pesq_nb='1.2770436067273077', enh_pesq_nb='2.4358688603350984', mix_frm_Acc='0.1341717541217804', est_frm_Acc='0.44590774178504944', mix_blk_Acc='0.15838785469532013', est_blk_Acc='0.7136615514755249'),\n",
       " 'train_moving_test_moving_t60_0.4_snr_-5.0': metrics(mix_stoi='0.5449197712284352', enh_stoi='0.7955237273170291', mix_pesq_nb='1.2224491496417547', enh_pesq_nb='2.1263528323123357', mix_frm_Acc='0.11172623932361603', est_frm_Acc='0.3848535120487213', mix_blk_Acc='0.1372501701116562', est_blk_Acc='0.6473684310913086'),\n",
       " 'train_moving_test_moving_t60_0.8_snr_20.0': metrics(mix_stoi='0.7147549387506993', enh_stoi='0.9226343854307739', mix_pesq_nb='1.8059082443385341', enh_pesq_nb='2.8331887565795975', mix_frm_Acc='0.22369277477264404', est_frm_Acc='0.5244669318199158', mix_blk_Acc='0.2951914668083191', est_blk_Acc='0.8085584044456482'),\n",
       " 'train_moving_test_moving_t60_0.4_snr_0.0': metrics(mix_stoi='0.6411536643682065', enh_stoi='0.8761840580945502', mix_pesq_nb='1.4941485943507182', enh_pesq_nb='2.569117458252398', mix_frm_Acc='0.16722916066646576', est_frm_Acc='0.47459861636161804', mix_blk_Acc='0.2333357185125351', est_blk_Acc='0.7668341994285583'),\n",
       " 'train_stationary_test_stationary_t60_0.2_snr_20.0': metrics(mix_stoi='0.9377552949069341', enh_stoi='0.9805720056645986', mix_pesq_nb='2.9265031061738718', enh_pesq_nb='3.650978954320243', mix_frm_Acc='0.5590975284576416', est_frm_Acc='0.7893638610839844', mix_blk_Acc='0.7672371864318848', est_blk_Acc='0.9491292834281921'),\n",
       " 'train_stationary_test_moving_t60_1.0_snr_20.0': metrics(mix_stoi='0.6692155399311023', enh_stoi='0.8905035235839994', mix_pesq_nb='1.6830172111879769', enh_pesq_nb='2.6157417967143934', mix_frm_Acc='0.19803252816200256', est_frm_Acc='0.32204514741897583', mix_blk_Acc='0.2480836808681488', est_blk_Acc='0.5351032018661499'),\n",
       " 'train_moving_test_moving_t60_0.6_snr_-5.0': metrics(mix_stoi='0.5167975820795072', enh_stoi='0.7561888622103707', mix_pesq_nb='1.1757248284572424', enh_pesq_nb='1.936731802736717', mix_frm_Acc='0.10784593224525452', est_frm_Acc='0.34980908036231995', mix_blk_Acc='0.1309671401977539', est_blk_Acc='0.6069706082344055'),\n",
       " 'train_moving_test_stationary_t60_0.6_snr_20.0': metrics(mix_stoi='0.7746155771103986', enh_stoi='0.9406437859813899', mix_pesq_nb='1.9977141131412757', enh_pesq_nb='3.0170161414445773', mix_frm_Acc='0.26499101519584656', est_frm_Acc='0.5792633891105652', mix_blk_Acc='0.3624888062477112', est_blk_Acc='0.8503950834274292'),\n",
       " 'train_moving_test_moving_t60_0.4_snr_10.0': metrics(mix_stoi='0.7867747160730086', enh_stoi='0.9417999446099835', mix_pesq_nb='2.0092008855828536', enh_pesq_nb='3.0637380089160855', mix_frm_Acc='0.2835078835487366', est_frm_Acc='0.5939274430274963', mix_blk_Acc='0.42306169867515564', est_blk_Acc='0.8631320595741272'),\n",
       " 'train_stationary_test_stationary_t60_0.4_snr_10.0': metrics(mix_stoi='0.7876725117949129', enh_stoi='0.9412788987363565', mix_pesq_nb='2.0153230963333204', enh_pesq_nb='3.048222983476247', mix_frm_Acc='0.28647297620773315', est_frm_Acc='0.6105054616928101', mix_blk_Acc='0.42242151498794556', est_blk_Acc='0.8737226128578186'),\n",
       " 'train_moving_test_stationary_t60_0.6_snr_5.0': metrics(mix_stoi='0.7257049757574539', enh_stoi='0.9216592761072203', mix_pesq_nb='1.81786982599027', enh_pesq_nb='2.8416530129212694', mix_frm_Acc='0.23116667568683624', est_frm_Acc='0.55101478099823', mix_blk_Acc='0.3213822543621063', est_blk_Acc='0.8294798135757446'),\n",
       " 'train_stationary_test_moving_t60_0.4_snr_10.0': metrics(mix_stoi='0.7867747160730086', enh_stoi='0.9307482878430655', mix_pesq_nb='2.0092008855828536', enh_pesq_nb='2.9890412785866727', mix_frm_Acc='0.2835078835487366', est_frm_Acc='0.41411569714546204', mix_blk_Acc='0.42306169867515564', est_blk_Acc='0.6276137232780457'),\n",
       " 'train_moving_test_moving_t60_0.8_snr_0.0': metrics(mix_stoi='0.5661417596816933', enh_stoi='0.8245312360819954', mix_pesq_nb='1.340005701947908', enh_pesq_nb='2.249323275768119', mix_frm_Acc='0.13851208984851837', est_frm_Acc='0.4017085134983063', mix_blk_Acc='0.17142947018146515', est_blk_Acc='0.6839666366577148'),\n",
       " 'train_moving_test_stationary_t60_0.4_snr_5.0': metrics(mix_stoi='0.7261102432523303', enh_stoi='0.918661249573685', mix_pesq_nb='1.776226916365911', enh_pesq_nb='2.8672534594288037', mix_frm_Acc='0.23623110353946686', est_frm_Acc='0.5588540434837341', mix_blk_Acc='0.34917593002319336', est_blk_Acc='0.840070903301239'),\n",
       " 'train_moving_test_stationary_t60_0.4_snr_10.0': metrics(mix_stoi='0.8465737798949704', enh_stoi='0.9589705937859365', mix_pesq_nb='2.3004497009471128', enh_pesq_nb='3.249820375664307', mix_frm_Acc='0.34324130415916443', est_frm_Acc='0.6568769812583923', mix_blk_Acc='0.4863663911819458', est_blk_Acc='0.895163893699646'),\n",
       " 'train_stationary_test_stationary_t60_0.2_snr_10.0': metrics(mix_stoi='0.8665365659469279', enh_stoi='0.965191508632715', mix_pesq_nb='2.2996409432938423', enh_pesq_nb='3.3895598273021887', mix_frm_Acc='0.4260248839855194', est_frm_Acc='0.7158300280570984', mix_blk_Acc='0.654317319393158', est_blk_Acc='0.9296447038650513'),\n",
       " 'train_stationary_test_moving_t60_1.0_snr_-5.0': metrics(mix_stoi='0.8665365659469279', enh_stoi='0.965191508632715', mix_pesq_nb='2.2996409432938423', enh_pesq_nb='3.3895598273021887', mix_frm_Acc='0.4260248839855194', est_frm_Acc='0.7158300280570984', mix_blk_Acc='0.654317319393158', est_blk_Acc='0.9296447038650513'),\n",
       " 'train_stationary_test_moving_t60_0.8_snr_-5.0': metrics(mix_stoi='0.8665365659469279', enh_stoi='0.965191508632715', mix_pesq_nb='2.2996409432938423', enh_pesq_nb='3.3895598273021887', mix_frm_Acc='0.4260248839855194', est_frm_Acc='0.7158300280570984', mix_blk_Acc='0.654317319393158', est_blk_Acc='0.9296447038650513'),\n",
       " 'train_stationary_test_moving_t60_0.8_snr_10.0': metrics(mix_stoi='0.6739377343873173', enh_stoi='0.8914656251346043', mix_pesq_nb='1.6753187908424674', enh_pesq_nb='2.628885057004798', mix_frm_Acc='0.19835585355758667', est_frm_Acc='0.3290262520313263', mix_blk_Acc='0.2608637809753418', est_blk_Acc='0.5500649809837341'),\n",
       " 'train_stationary_test_moving_t60_0.2_snr_20.0': metrics(mix_stoi='0.9376032036888294', enh_stoi='0.9661945254558404', mix_pesq_nb='2.921924332439785', enh_pesq_nb='3.515394801660825', mix_frm_Acc='0.5597104430198669', est_frm_Acc='0.5651357173919678', mix_blk_Acc='0.772489607334137', est_blk_Acc='0.7207644581794739'),\n",
       " 'train_moving_test_stationary_t60_1.0_snr_5.0': metrics(mix_stoi='0.772046198691467', enh_stoi='0.9400638831794039', mix_pesq_nb='1.9860644440045703', enh_pesq_nb='3.0102593068949237', mix_frm_Acc='0.2651349902153015', est_frm_Acc='0.5720205307006836', mix_blk_Acc='0.36893826723098755', est_blk_Acc='0.8444920182228088'),\n",
       " 'train_moving_test_stationary_t60_1.0_snr_0.0': metrics(mix_stoi='0.772046198691467', enh_stoi='0.9400638831794039', mix_pesq_nb='1.9860644440045703', enh_pesq_nb='3.0102593068949237', mix_frm_Acc='0.2651349902153015', est_frm_Acc='0.5720205307006836', mix_blk_Acc='0.36893826723098755', est_blk_Acc='0.8444920182228088'),\n",
       " 'train_moving_test_moving_t60_1.0_snr_-5.0': metrics(mix_stoi='0.47480855305999736', enh_stoi='0.6982329974982548', mix_pesq_nb='1.1364978569494883', enh_pesq_nb='1.7150929738274991', mix_frm_Acc='0.10046970099210739', est_frm_Acc='0.3055456578731537', mix_blk_Acc='0.11382299661636353', est_blk_Acc='0.539618730545044'),\n",
       " 'train_moving_test_moving_t60_1.0_snr_10.0': metrics(mix_stoi='0.6338497046247672', enh_stoi='0.8878044157504994', mix_pesq_nb='1.579085080392632', enh_pesq_nb='2.584183976055197', mix_frm_Acc='0.17839251458644867', est_frm_Acc='0.4629713296890259', mix_blk_Acc='0.2205120474100113', est_blk_Acc='0.7541236281394958'),\n",
       " 'train_moving_test_moving_t60_0.6_snr_20.0': metrics(mix_stoi='0.772046198691467', enh_stoi='0.9400638831794039', mix_pesq_nb='1.9860644440045703', enh_pesq_nb='3.0102593068949237', mix_frm_Acc='0.2651349902153015', est_frm_Acc='0.5720205307006836', mix_blk_Acc='0.36893826723098755', est_blk_Acc='0.8444920182228088'),\n",
       " 'train_stationary_test_stationary_t60_0.6_snr_20.0': metrics(mix_stoi='0.7746155771103986', enh_stoi='0.9402098948774312', mix_pesq_nb='1.9977141131412757', enh_pesq_nb='3.007103298117507', mix_frm_Acc='0.26499101519584656', est_frm_Acc='0.5875539183616638', mix_blk_Acc='0.3624888062477112', est_blk_Acc='0.8521616458892822'),\n",
       " 'train_moving_test_moving_t60_0.2_snr_10.0': metrics(mix_stoi='0.8665048628137089', enh_stoi='0.9657428679229584', mix_pesq_nb='2.299805571526639', enh_pesq_nb='3.413415169847699', mix_frm_Acc='0.4208556115627289', est_frm_Acc='0.6989144086837769', mix_blk_Acc='0.6530535817146301', est_blk_Acc='0.917566180229187'),\n",
       " 'train_stationary_test_moving_t60_0.4_snr_5.0': metrics(mix_stoi='0.7254493052774735', enh_stoi='0.9074155378730617', mix_pesq_nb='1.7733525161012855', enh_pesq_nb='2.796859779210077', mix_frm_Acc='0.22959774732589722', est_frm_Acc='0.37595078349113464', mix_blk_Acc='0.3410041034221649', est_blk_Acc='0.5961925387382507'),\n",
       " 'train_stationary_test_stationary_t60_0.6_snr_5.0': metrics(mix_stoi='0.6733914410539348', enh_stoi='0.8960119433743813', mix_pesq_nb='1.636364161669241', enh_pesq_nb='2.6627308152054274', mix_frm_Acc='0.19822461903095245', est_frm_Acc='0.512880802154541', mix_blk_Acc='0.2720712721347809', est_blk_Acc='0.8005925416946411'),\n",
       " 'train_moving_test_moving_t60_1.0_snr_20.0': metrics(mix_stoi='0.6692155399311023', enh_stoi='0.9062147837119034', mix_pesq_nb='1.6830172111879769', enh_pesq_nb='2.7001681770658004', mix_frm_Acc='0.19803252816200256', est_frm_Acc='0.4898216128349304', mix_blk_Acc='0.2480836808681488', est_blk_Acc='0.773881733417511'),\n",
       " 'train_stationary_test_stationary_t60_0.6_snr_-5.0': metrics(mix_stoi='0.5177292988730656', enh_stoi='0.757186594419235', mix_pesq_nb='1.1777470498140656', enh_pesq_nb='1.9574423398803287', mix_frm_Acc='0.11649103462696075', est_frm_Acc='0.37971577048301697', mix_blk_Acc='0.14527085423469543', est_blk_Acc='0.6341410875320435'),\n",
       " 'train_stationary_test_moving_t60_0.8_snr_5.0': metrics(mix_stoi='0.629040040787879', enh_stoi='0.8646663023122554', mix_pesq_nb='1.529494940161826', enh_pesq_nb='2.4706166375230296', mix_frm_Acc='0.17223642766475677', est_frm_Acc='0.30356094241142273', mix_blk_Acc='0.22125104069709778', est_blk_Acc='0.5202330946922302'),\n",
       " 'train_stationary_test_stationary_t60_0.6_snr_0.0': metrics(mix_stoi='0.6009038105503614', enh_stoi='0.8467196242474199', mix_pesq_nb='1.403164019207458', enh_pesq_nb='2.378352180778114', mix_frm_Acc='0.1572282612323761', est_frm_Acc='0.457610160112381', mix_blk_Acc='0.20854806900024414', est_blk_Acc='0.7412340641021729'),\n",
       " 'train_moving_test_moving_t60_0.6_snr_5.0': metrics(mix_stoi='0.6719220130383426', enh_stoi='0.8970185438948921', mix_pesq_nb='1.6305074715237708', enh_pesq_nb='2.6708259245821915', mix_frm_Acc='0.19372005760669708', est_frm_Acc='0.49270570278167725', mix_blk_Acc='0.2681502103805542', est_blk_Acc='0.7901880741119385'),\n",
       " 'train_stationary_test_stationary_t60_0.2_snr_5.0': metrics(mix_stoi='0.7935033003483195', enh_stoi='0.9463114488224957', mix_pesq_nb='1.9513179987358773', enh_pesq_nb='3.1662562375331507', mix_frm_Acc='0.32603225111961365', est_frm_Acc='0.6471662521362305', mix_blk_Acc='0.5108342170715332', est_blk_Acc='0.9013792276382446'),\n",
       " 'train_stationary_test_stationary_t60_0.8_snr_-5.0': metrics(mix_stoi='0.7935033003483195', enh_stoi='0.9463114488224957', mix_pesq_nb='1.9513179987358773', enh_pesq_nb='3.1662562375331507', mix_frm_Acc='0.32603225111961365', est_frm_Acc='0.6471662521362305', mix_blk_Acc='0.5108342170715332', est_blk_Acc='0.9013792276382446'),\n",
       " 'train_stationary_test_moving_t60_0.8_snr_0.0': metrics(mix_stoi='0.7935033003483195', enh_stoi='0.9463114488224957', mix_pesq_nb='1.9513179987358773', enh_pesq_nb='3.1662562375331507', mix_frm_Acc='0.32603225111961365', est_frm_Acc='0.6471662521362305', mix_blk_Acc='0.5108342170715332', est_blk_Acc='0.9013792276382446'),\n",
       " 'train_moving_test_moving_t60_0.2_snr_0.0': metrics(mix_stoi='0.693804655338274', enh_stoi='0.9135782278919984', mix_pesq_nb='1.606894288742915', enh_pesq_nb='2.8849649072361836', mix_frm_Acc='0.21099893748760223', est_frm_Acc='0.5376619100570679', mix_blk_Acc='0.3043581545352936', est_blk_Acc='0.8163692355155945'),\n",
       " 'train_moving_test_moving_t60_0.4_snr_5.0': metrics(mix_stoi='0.7254493052774735', enh_stoi='0.9193345074601208', mix_pesq_nb='1.7733525161012855', enh_pesq_nb='2.8704898240939194', mix_frm_Acc='0.22959774732589722', est_frm_Acc='0.5441858768463135', mix_blk_Acc='0.3410041034221649', est_blk_Acc='0.8320363759994507'),\n",
       " 'train_stationary_test_stationary_t60_0.6_snr_10.0': metrics(mix_stoi='0.7257049757574539', enh_stoi='0.9216592761072203', mix_pesq_nb='1.81786982599027', enh_pesq_nb='2.8416530129212694', mix_frm_Acc='0.23116667568683624', est_frm_Acc='0.55101478099823', mix_blk_Acc='0.3213822543621063', est_blk_Acc='0.8294798135757446'),\n",
       " 'train_moving_test_moving_t60_0.8_snr_10.0': metrics(mix_stoi='0.6739377343873173', enh_stoi='0.9042512162306195', mix_pesq_nb='1.6753187908424674', enh_pesq_nb='2.698588596429983', mix_frm_Acc='0.19835585355758667', est_frm_Acc='0.49361440539360046', mix_blk_Acc='0.2608637809753418', est_blk_Acc='0.7865166068077087'),\n",
       " 'train_moving_test_moving_t60_0.2_snr_5.0': metrics(mix_stoi='0.7934603532430305', enh_stoi='0.9477224514381424', mix_pesq_nb='1.9517009630583682', enh_pesq_nb='3.1974514499934354', mix_frm_Acc='0.31758004426956177', est_frm_Acc='0.6293233633041382', mix_blk_Acc='0.501732349395752', est_blk_Acc='0.8841181993484497'),\n",
       " 'train_stationary_test_stationary_t60_0.2_snr_-5.0': metrics(mix_stoi='0.5805906489308498', enh_stoi='0.8479563480432987', mix_pesq_nb='1.277034613751448', enh_pesq_nb='2.421746505199612', mix_frm_Acc='0.1341717541217804', est_frm_Acc='0.45678430795669556', mix_blk_Acc='0.15838785469532013', est_blk_Acc='0.7207450866699219'),\n",
       " 'train_stationary_test_stationary_t60_0.4_snr_5.0': metrics(mix_stoi='0.7261102432523303', enh_stoi='0.917827428855712', mix_pesq_nb='1.776226916365911', enh_pesq_nb='2.8506103800564477', mix_frm_Acc='0.23623110353946686', est_frm_Acc='0.5644338130950928', mix_blk_Acc='0.34917593002319336', est_blk_Acc='0.845252275466919'),\n",
       " 'train_stationary_test_moving_t60_0.6_snr_-5.0': metrics(mix_stoi='0.5167975820795072', enh_stoi='0.7434786614239646', mix_pesq_nb='1.1756255847250432', enh_pesq_nb='1.8982334361430862', mix_frm_Acc='0.10784593224525452', est_frm_Acc='0.22741995751857758', mix_blk_Acc='0.1309671401977539', est_blk_Acc='0.4055926501750946'),\n",
       " 'train_moving_test_stationary_t60_0.8_snr_5.0': metrics(mix_stoi='0.6310353934810038', enh_stoi='0.8774174839615033', mix_pesq_nb='1.5352693524883028', enh_pesq_nb='2.5331879686820633', mix_frm_Acc='0.17632834613323212', est_frm_Acc='0.46940723061561584', mix_blk_Acc='0.2257366180419922', est_blk_Acc='0.7623433470726013'),\n",
       " 'train_stationary_test_moving_t60_0.6_snr_10.0': metrics(mix_stoi='0.723891424380906', enh_stoi='0.9104345990662829', mix_pesq_nb='1.8090582032217954', enh_pesq_nb='2.7824929634000357', mix_frm_Acc='0.22860825061798096', est_frm_Acc='0.36338716745376587', mix_blk_Acc='0.32204097509384155', est_blk_Acc='0.5842178463935852'),\n",
       " 'train_moving_test_moving_t60_0.8_snr_-5.0': metrics(mix_stoi='0.4936875042629193', enh_stoi='0.7245695997804904', mix_pesq_nb='1.1528360456992737', enh_pesq_nb='1.8067252331450914', mix_frm_Acc='0.10395244508981705', est_frm_Acc='0.32504206895828247', mix_blk_Acc='0.12189582735300064', est_blk_Acc='0.5715795159339905'),\n",
       " 'train_stationary_test_moving_t60_0.2_snr_10.0': metrics(mix_stoi='0.8665048628137089', enh_stoi='0.9542290232784073', mix_pesq_nb='2.299805571526639', enh_pesq_nb='3.304628797926604', mix_frm_Acc='0.4208556115627289', est_frm_Acc='0.5091022849082947', mix_blk_Acc='0.6530535817146301', est_blk_Acc='0.6988483667373657'),\n",
       " 'train_stationary_test_stationary_t60_1.0_snr_-5.0': metrics(mix_stoi='0.8665048628137089', enh_stoi='0.9542290232784073', mix_pesq_nb='2.299805571526639', enh_pesq_nb='3.304628797926604', mix_frm_Acc='0.4208556115627289', est_frm_Acc='0.5091022849082947', mix_blk_Acc='0.6530535817146301', est_blk_Acc='0.6988483667373657'),\n",
       " 'train_moving_test_moving_t60_1.0_snr_0.0': metrics(mix_stoi='0.5389034315135331', enh_stoi='0.8035901972634288', mix_pesq_nb='1.2967689667827036', enh_pesq_nb='2.152551030132362', mix_frm_Acc='0.13025812804698944', est_frm_Acc='0.3792409896850586', mix_blk_Acc='0.15432798862457275', est_blk_Acc='0.6525431871414185'),\n",
       " 'train_moving_test_moving_t60_0.8_snr_5.0': metrics(mix_stoi='0.629040040787879', enh_stoi='0.8775540088191007', mix_pesq_nb='1.5294991018627528', enh_pesq_nb='2.532406916041037', mix_frm_Acc='0.17223642766475677', est_frm_Acc='0.457563191652298', mix_blk_Acc='0.22125104069709778', est_blk_Acc='0.7535418272018433'),\n",
       " 'train_stationary_test_stationary_t60_1.0_snr_5.0': metrics(mix_stoi='0.5967542846676901', enh_stoi='0.8583403339233617', mix_pesq_nb='1.4649245973997587', enh_pesq_nb='2.417907289343681', mix_frm_Acc='0.16205130517482758', est_frm_Acc='0.45239439606666565', mix_blk_Acc='0.1974603533744812', est_blk_Acc='0.7367202639579773'),\n",
       " 'train_stationary_test_moving_t60_0.6_snr_20.0': metrics(mix_stoi='0.772046198691467', enh_stoi='0.9269050451726988', mix_pesq_nb='1.9860644440045703', enh_pesq_nb='2.926457666959897', mix_frm_Acc='0.2651349902153015', est_frm_Acc='0.38953837752342224', mix_blk_Acc='0.36893826723098755', est_blk_Acc='0.6006784439086914'),\n",
       " 'train_stationary_test_stationary_t60_0.8_snr_10.0': metrics(mix_stoi='0.6763118104631386', enh_stoi='0.9034270822232415', mix_pesq_nb='1.6828881754932554', enh_pesq_nb='2.6878387785199687', mix_frm_Acc='0.20082560181617737', est_frm_Acc='0.5108292102813721', mix_blk_Acc='0.26235923171043396', est_blk_Acc='0.7949238419532776'),\n",
       " 'train_moving_test_moving_t60_0.2_snr_20.0': metrics(mix_stoi='0.9376032036888294', enh_stoi='0.9804626432916141', mix_pesq_nb='2.921924332439785', enh_pesq_nb='3.664044487811014', mix_frm_Acc='0.5597104430198669', est_frm_Acc='0.7730636596679688', mix_blk_Acc='0.772489607334137', est_blk_Acc='0.9413013458251953'),\n",
       " 'train_stationary_test_moving_t60_0.6_snr_0.0': metrics(mix_stoi='0.5997014994422186', enh_stoi='0.8346223521807618', mix_pesq_nb='1.4018730360684863', enh_pesq_nb='2.323017435639043', mix_frm_Acc='0.14961670339107513', est_frm_Acc='0.2863355278968811', mix_blk_Acc='0.1975151002407074', est_blk_Acc='0.4939854145050049'),\n",
       " 'train_moving_test_stationary_t60_0.2_snr_10.0': metrics(mix_stoi='0.8450552550346258', enh_stoi='0.9460956519880106', mix_pesq_nb='2.2876813877905127', enh_pesq_nb='3.1616861599801984', mix_frm_Acc='0.3441886007785797', est_frm_Acc='0.4491373598575592', mix_blk_Acc='0.4902186691761017', est_blk_Acc='0.6457074284553528'),\n",
       " 'train_stationary_test_stationary_t60_0.4_snr_-5.0': metrics(mix_stoi='0.5453094857720976', enh_stoi='0.7931257849252119', mix_pesq_nb='1.2168195273795417', enh_pesq_nb='2.1201451066234474', mix_frm_Acc='0.12304611504077911', est_frm_Acc='0.4145579934120178', mix_blk_Acc='0.15355762839317322', est_blk_Acc='0.674957811832428'),\n",
       " 'train_stationary_test_moving_t60_0.4_snr_20.0': metrics(mix_stoi='0.8450552550346258', enh_stoi='0.9460956519880106', mix_pesq_nb='2.2876813877905127', enh_pesq_nb='3.1616861599801984', mix_frm_Acc='0.3441886007785797', est_frm_Acc='0.4491373598575592', mix_blk_Acc='0.4902186691761017', est_blk_Acc='0.6457074284553528'),\n",
       " 'train_stationary_test_stationary_t60_0.4_snr_20.0': metrics(mix_stoi='0.8465737798949704', enh_stoi='0.9589705937859365', mix_pesq_nb='2.3004497009471128', enh_pesq_nb='3.249820375664307', mix_frm_Acc='0.34324130415916443', est_frm_Acc='0.6568769812583923', mix_blk_Acc='0.4863663911819458', est_blk_Acc='0.895163893699646'),\n",
       " 'train_stationary_test_moving_t60_0.2_snr_-5.0': metrics(mix_stoi='0.5804943661925591', enh_stoi='0.8359771218589119', mix_pesq_nb='1.2831073412542986', enh_pesq_nb='2.340246688060568', mix_frm_Acc='0.12306574732065201', est_frm_Acc='0.2940467298030853', mix_blk_Acc='0.14534923434257507', est_blk_Acc='0.49411895871162415'),\n",
       " 'train_moving_test_moving_t60_0.4_snr_20.0': metrics(mix_stoi='0.8450552550346258', enh_stoi='0.958961672659908', mix_pesq_nb='2.2876813877905127', enh_pesq_nb='3.2600849936821445', mix_frm_Acc='0.3441886007785797', est_frm_Acc='0.6410075426101685', mix_blk_Acc='0.4902186691761017', est_blk_Acc='0.8870276808738708')}"
      ]
     },
     "execution_count": 3,
     "metadata": {},
     "output_type": "execute_result"
    }
   ],
   "source": [
    "exp_dict"
   ]
  },
  {
   "cell_type": "code",
   "execution_count": 5,
   "metadata": {},
   "outputs": [],
   "source": [
    "import torch\n",
    "torch.save(exp_dict, f\"{dataset_condition}_mimo_results.pt\")"
   ]
  },
  {
   "cell_type": "code",
   "execution_count": 4,
   "metadata": {},
   "outputs": [
    {
     "data": {
      "text/plain": [
       "100"
      ]
     },
     "execution_count": 4,
     "metadata": {},
     "output_type": "execute_result"
    }
   ],
   "source": [
    "len(exp_dict)"
   ]
  },
  {
   "cell_type": "code",
   "execution_count": null,
   "metadata": {},
   "outputs": [],
   "source": []
  }
 ],
 "metadata": {
  "kernelspec": {
   "display_name": "moving_source",
   "language": "python",
   "name": "python3"
  },
  "language_info": {
   "codemirror_mode": {
    "name": "ipython",
    "version": 3
   },
   "file_extension": ".py",
   "mimetype": "text/x-python",
   "name": "python",
   "nbconvert_exporter": "python",
   "pygments_lexer": "ipython3",
   "version": "3.9.13"
  },
  "orig_nbformat": 4,
  "vscode": {
   "interpreter": {
    "hash": "5b19b528aa93bd51c7336d5aea62157de271cd7dded6857ac2564e2dc9749b07"
   }
  }
 },
 "nbformat": 4,
 "nbformat_minor": 2
}
