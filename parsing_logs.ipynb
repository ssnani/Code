{
 "cells": [
  {
   "cell_type": "code",
   "execution_count": null,
   "metadata": {},
   "outputs": [],
   "source": []
  },
  {
   "cell_type": "code",
   "execution_count": null,
   "metadata": {},
   "outputs": [],
   "source": []
  },
  {
   "cell_type": "code",
   "execution_count": 1,
   "metadata": {},
   "outputs": [],
   "source": [
    "def get_test_config_details(lst, dataset_condition):\n",
    "    ckpt_name_list = lst[1].split('/')\n",
    "    train, mic_idx = ckpt_name_list[-3], ckpt_name_list[-1][-2]\n",
    "\n",
    "    exp_name_list = lst[-1].split('_')\n",
    "    #idx = 4 if exp_name_list[-1][0]=='-' else 3\n",
    "    if dataset_condition==\"noisy_reverb\":\n",
    "        snr, t60, test = exp_name_list[-1][:-3], exp_name_list[-3], exp_name_list[-5]\n",
    "    elif dataset_condition==\"reverb\":\n",
    "        snr, t60, test = None, exp_name_list[-1][:-1], exp_name_list[-3]\n",
    "    elif dataset_condition==\"noisy\":\n",
    "        snr, t60, test = exp_name_list[-1][:-3], None, exp_name_list[-3]\n",
    "    else:\n",
    "        pass\n",
    "\n",
    "    return mic_idx, train, test, t60, snr"
   ]
  },
  {
   "cell_type": "code",
   "execution_count": 2,
   "metadata": {},
   "outputs": [],
   "source": [
    "# getting metrics for noisy_reverb\n",
    "import os\n",
    "from collections import namedtuple\n",
    "\n",
    "metrics = namedtuple('metrics', [\"mix_stoi\", \"enh_stoi\", \"mix_pesq_nb\", \"enh_pesq_nb\"])\n",
    "doa_metrics = namedtuple('doa_metrics', [\"mix_frm_Acc\", \"est_frm_Acc\", \"mix_blk_Acc\", \"est_blk_Acc\"])\n",
    "\n",
    "dataset_condition = \"noisy\"\n",
    "comparison_domain = \"doa\"\n",
    "\n",
    "scenarios = [\"stationary\", \"moving\"]\n",
    "#t60_list = [0.2, 0.4, 0.6, 0.8, 1.0] # rows \n",
    "#snr_list = [-5.0, 0.0, 5.0, 10.0, 20.0] # col\n",
    "\n",
    "files_list = os.listdir(f'../Logs/{dataset_condition}/{comparison_domain}')\n",
    "exp_dict = {}\n",
    "doa_exp_dict = {}\n",
    "for file in files_list:\n",
    "    if os.path.isfile(os.path.join(f'../Logs/{dataset_condition}/{comparison_domain}', file)) and os.path.splitext(file)[1]==\".out\":\n",
    "        with open(os.path.join(f'../Logs/{dataset_condition}/{comparison_domain}', file), 'r') as f:\n",
    "            for line in f.readlines():\n",
    "                if \"ckpt_dir\" in line.strip():\n",
    "                    mic_idx, train, test, t60, snr = get_test_config_details(line.split(), dataset_condition)\n",
    "                elif \"PESQ_NB_epoch\" in line.strip():\n",
    "                    if \"PESQ_NB_epoch\"==line.strip().split()[1]:\n",
    "                        pesq_nb_enh = line.strip().split()[3]\n",
    "                        #print(pesq_nb_enh)\n",
    "                    elif \"MIX_PESQ_NB_epoch\"==line.strip().split()[1]:\n",
    "                        pesq_nb_mix = line.strip().split()[3]\n",
    "                        #print(pesq_nb_mix)\n",
    "                    else:\n",
    "                        continue\n",
    "                    #print(line)\n",
    "                elif \"STOI_epoch\" in line.strip():\n",
    "                    if \"STOI_epoch\"==line.strip().split()[1]:\n",
    "                        stoi_enh = line.strip().split()[3]\n",
    "                        #print(stoi_enh)\n",
    "                    elif \"MIX_STOI_epoch\"==line.strip().split()[1]:\n",
    "                        stoi_mix = line.strip().split()[3]\n",
    "                        #print(stoi_mix)\n",
    "                    else:\n",
    "                        continue\n",
    "                elif \"blk_Acc_epoch\" in line.strip():\n",
    "                    if \"est_blk_Acc_epoch\"==line.strip().split()[1]:\n",
    "                        est_blk_Acc = line.strip().split()[3]\n",
    "                    elif \"mix_blk_Acc_epoch\"==line.strip().split()[1]:\n",
    "                        mix_blk_Acc = line.strip().split()[3]\n",
    "                    else:\n",
    "                        continue\n",
    "                elif \"frm_Acc_epoch\" in line.strip():\n",
    "                    if \"est_frm_Acc_epoch\"==line.strip().split()[1]:\n",
    "                        est_frm_Acc = line.strip().split()[3]\n",
    "                    elif \"mix_frm_Acc_epoch\"==line.strip().split()[1]:\n",
    "                        mix_frm_Acc = line.strip().split()[3]\n",
    "                    else:\n",
    "                        continue\n",
    "                \n",
    "                #print(line)\n",
    "\n",
    "    \n",
    "        \n",
    "        if comparison_domain ==\"doa\":\n",
    "            exp_metrics = doa_metrics(mix_frm_Acc, est_frm_Acc, mix_blk_Acc, est_blk_Acc)\n",
    "        else:\n",
    "            exp_metrics = metrics(stoi_mix, stoi_enh, pesq_nb_mix, pesq_nb_enh)\n",
    "\n",
    "        #exp_metrics = { \"mix_stoi\": stoi_mix, \"enh_stoi\": stoi_enh, \"mix_pesq_nb\": pesq_nb_mix, \"enh_pesq_nb\": pesq_nb_enh}\n",
    "\n",
    "        if dataset_condition ==\"reverb\":\n",
    "            exp_app_str = f't60_{t60}'\n",
    "        elif dataset_condition ==\"noisy\":\n",
    "            exp_app_str = f'snr_{snr}'\n",
    "        elif dataset_condition ==\"noisy_reverb\":\n",
    "            exp_app_str = f't60_{t60}_snr_{snr}'\n",
    "        else:\n",
    "            exp_app_str = ''\n",
    "\n",
    "        key_str = f'train_{train}_mic_idx_{mic_idx}_test_{test}_{exp_app_str}' if comparison_domain!=\"doa\" else f'train_{train}_test_{test}_{exp_app_str}'\n",
    "        exp_dict[key_str] = exp_metrics\n",
    "        #doa_exp_dict[f'train_{train}_mic_idx_{mic_idx}_test_{test}_{exp_app_str}'] = doa_metrics\n",
    "\n",
    "        #break\n",
    "\n",
    "\n"
   ]
  },
  {
   "cell_type": "code",
   "execution_count": 5,
   "metadata": {},
   "outputs": [],
   "source": [
    "\n",
    "import torch\n",
    "torch.save(exp_dict, f\"{dataset_condition}_doa_results.pt\")\n"
   ]
  },
  {
   "cell_type": "code",
   "execution_count": 3,
   "metadata": {},
   "outputs": [
    {
     "data": {
      "text/plain": [
       "doa_metrics(mix_frm_Acc='0.15387825667858124', est_frm_Acc='0.4100947976112366', mix_blk_Acc='0.18034960329532623', est_blk_Acc='0.7193621397018433')"
      ]
     },
     "execution_count": 3,
     "metadata": {},
     "output_type": "execute_result"
    }
   ],
   "source": [
    "mic_idx=0\n",
    "#dataset_condition = \"reverb\"\n",
    "train=\"stationary\"\n",
    "test = \"stationary\"\n",
    "t60=0.8\n",
    "snr = -5.0\n",
    "if dataset_condition ==\"reverb\":\n",
    "    exp_app_str = f't60_{t60}'\n",
    "elif dataset_condition ==\"noisy\":\n",
    "    exp_app_str = f'snr_{snr}'\n",
    "elif dataset_condition ==\"noisy_reverb\":\n",
    "    exp_app_str = f't60_{t60}_snr_{snr}'\n",
    "else:\n",
    "    exp_app_str = ''\n",
    "\n",
    "key_str = f'train_{train}_mic_idx_{mic_idx}_test_{test}_{exp_app_str}' if comparison_domain!=\"doa\" else f'train_{train}_test_{test}_{exp_app_str}'\n",
    "exp_dict[key_str]"
   ]
  },
  {
   "cell_type": "code",
   "execution_count": 4,
   "metadata": {},
   "outputs": [
    {
     "data": {
      "text/plain": [
       "{'train_moving_test_stationary_snr_0.0': doa_metrics(mix_frm_Acc='0.27210357785224915', est_frm_Acc='0.555447518825531', mix_blk_Acc='0.39209479093551636', est_blk_Acc='0.8997735381126404'),\n",
       " 'train_moving_test_moving_snr_-2.5': doa_metrics(mix_frm_Acc='0.19740110635757446', est_frm_Acc='0.49139314889907837', mix_blk_Acc='0.2623746991157532', est_blk_Acc='0.8549056649208069'),\n",
       " 'train_moving_test_stationary_snr_15.0': doa_metrics(mix_frm_Acc='0.6917834281921387', est_frm_Acc='0.7959786653518677', mix_blk_Acc='0.9208812117576599', est_blk_Acc='0.976082980632782'),\n",
       " 'train_stationary_test_moving_snr_-2.5': doa_metrics(mix_frm_Acc='0.19740110635757446', est_frm_Acc='0.4283803105354309', mix_blk_Acc='0.2623746991157532', est_blk_Acc='0.7674936652183533'),\n",
       " 'train_stationary_test_stationary_snr_20.0': doa_metrics(mix_frm_Acc='0.7873621582984924', est_frm_Acc='0.8323114514350891', mix_blk_Acc='0.9596425294876099', est_blk_Acc='0.9806771278381348'),\n",
       " 'train_moving_test_moving_snr_15.0': doa_metrics(mix_frm_Acc='0.6848724484443665', est_frm_Acc='0.7940918803215027', mix_blk_Acc='0.9191244840621948', est_blk_Acc='0.9754732847213745'),\n",
       " 'train_moving_test_stationary_snr_-2.5': doa_metrics(mix_frm_Acc='0.20791976153850555', est_frm_Acc='0.5006510615348816', mix_blk_Acc='0.2738898694515228', est_blk_Acc='0.8611583709716797'),\n",
       " 'train_moving_test_stationary_snr_5.0': doa_metrics(mix_frm_Acc='0.41938647627830505', est_frm_Acc='0.6542186737060547', mix_blk_Acc='0.6428429484367371', est_blk_Acc='0.9425926804542542'),\n",
       " 'train_moving_test_moving_snr_20.0': doa_metrics(mix_frm_Acc='0.7822378277778625', est_frm_Acc='0.8399388790130615', mix_blk_Acc='0.9585496783256531', est_blk_Acc='0.9817259907722473'),\n",
       " 'train_stationary_test_stationary_snr_5.0': doa_metrics(mix_frm_Acc='0.41938647627830505', est_frm_Acc='0.6325164437294006', mix_blk_Acc='0.6428429484367371', est_blk_Acc='0.924646258354187'),\n",
       " 'train_stationary_test_moving_snr_15.0': doa_metrics(mix_frm_Acc='0.6848724484443665', est_frm_Acc='0.7735574841499329', mix_blk_Acc='0.9191244840621948', est_blk_Acc='0.9715556502342224'),\n",
       " 'train_moving_test_moving_snr_2.5': doa_metrics(mix_frm_Acc='0.33310526609420776', est_frm_Acc='0.5988343954086304', mix_blk_Acc='0.5094863772392273', est_blk_Acc='0.9212333559989929'),\n",
       " 'train_moving_test_moving_snr_0.0': doa_metrics(mix_frm_Acc='0.26121124625205994', est_frm_Acc='0.546806275844574', mix_blk_Acc='0.3785017728805542', est_blk_Acc='0.8935917019844055'),\n",
       " 'train_moving_test_stationary_snr_2.5': doa_metrics(mix_frm_Acc='0.3440234661102295', est_frm_Acc='0.6068163514137268', mix_blk_Acc='0.518325686454773', est_blk_Acc='0.9253252744674683'),\n",
       " 'train_stationary_test_moving_snr_0.0': doa_metrics(mix_frm_Acc='0.26121124625205994', est_frm_Acc='0.48988816142082214', mix_blk_Acc='0.3785017728805542', est_blk_Acc='0.8317892551422119'),\n",
       " 'train_stationary_test_moving_snr_5.0': doa_metrics(mix_frm_Acc='0.4092007875442505', est_frm_Acc='0.6035969853401184', mix_blk_Acc='0.6350916028022766', est_blk_Acc='0.9129143953323364'),\n",
       " 'train_stationary_test_stationary_snr_2.5': doa_metrics(mix_frm_Acc='0.3440234661102295', est_frm_Acc='0.5824690461158752', mix_blk_Acc='0.518325686454773', est_blk_Acc='0.8964260220527649'),\n",
       " 'train_stationary_test_stationary_snr_-5.0': doa_metrics(mix_frm_Acc='0.15387825667858124', est_frm_Acc='0.4100947976112366', mix_blk_Acc='0.18034960329532623', est_blk_Acc='0.7193621397018433'),\n",
       " 'train_stationary_test_stationary_snr_15.0': doa_metrics(mix_frm_Acc='0.6917834281921387', est_frm_Acc='0.7836107015609741', mix_blk_Acc='0.9208812117576599', est_blk_Acc='0.9750403761863708'),\n",
       " 'train_stationary_test_stationary_snr_-2.5': doa_metrics(mix_frm_Acc='0.20791976153850555', est_frm_Acc='0.4700159430503845', mix_blk_Acc='0.2738898694515228', est_blk_Acc='0.7944241166114807'),\n",
       " 'train_moving_test_moving_snr_10.0': doa_metrics(mix_frm_Acc='0.558441162109375', est_frm_Acc='0.7306936979293823', mix_blk_Acc='0.8244005441665649', est_blk_Acc='0.9635651707649231'),\n",
       " 'train_moving_test_moving_snr_5.0': doa_metrics(mix_frm_Acc='0.4092007875442505', est_frm_Acc='0.6473630666732788', mix_blk_Acc='0.6350916028022766', est_blk_Acc='0.940788745880127'),\n",
       " 'train_moving_test_stationary_snr_10.0': doa_metrics(mix_frm_Acc='0.5667604207992554', est_frm_Acc='0.734937846660614', mix_blk_Acc='0.8302284479141235', est_blk_Acc='0.964056134223938'),\n",
       " 'train_moving_test_moving_snr_-5.0': doa_metrics(mix_frm_Acc='0.14353059232234955', est_frm_Acc='0.4331965148448944', mix_blk_Acc='0.16670507192611694', est_blk_Acc='0.7975761294364929'),\n",
       " 'train_stationary_test_moving_snr_2.5': doa_metrics(mix_frm_Acc='0.33310526609420776', est_frm_Acc='0.5486484169960022', mix_blk_Acc='0.5094863772392273', est_blk_Acc='0.8786045908927917'),\n",
       " 'train_stationary_test_stationary_snr_0.0': doa_metrics(mix_frm_Acc='0.27210357785224915', est_frm_Acc='0.5273060202598572', mix_blk_Acc='0.39209479093551636', est_blk_Acc='0.8526639938354492'),\n",
       " 'train_stationary_test_moving_snr_10.0': doa_metrics(mix_frm_Acc='0.558441162109375', est_frm_Acc='0.6989800333976746', mix_blk_Acc='0.8244005441665649', est_blk_Acc='0.9528441429138184'),\n",
       " 'train_stationary_test_moving_snr_-5.0': doa_metrics(mix_frm_Acc='0.14353059232234955', est_frm_Acc='0.3668324053287506', mix_blk_Acc='0.16670507192611694', est_blk_Acc='0.6868995428085327'),\n",
       " 'train_stationary_test_stationary_snr_10.0': doa_metrics(mix_frm_Acc='0.5667604207992554', est_frm_Acc='0.7183929681777954', mix_blk_Acc='0.8302284479141235', est_blk_Acc='0.9593474864959717'),\n",
       " 'train_stationary_test_moving_snr_20.0': doa_metrics(mix_frm_Acc='0.7822378277778625', est_frm_Acc='0.8273261189460754', mix_blk_Acc='0.9585496783256531', est_blk_Acc='0.979749858379364'),\n",
       " 'train_moving_test_stationary_snr_-5.0': doa_metrics(mix_frm_Acc='0.15387825667858124', est_frm_Acc='0.44237157702445984', mix_blk_Acc='0.18034960329532623', est_blk_Acc='0.8058769106864929'),\n",
       " 'train_moving_test_stationary_snr_20.0': doa_metrics(mix_frm_Acc='0.7873621582984924', est_frm_Acc='0.840337336063385', mix_blk_Acc='0.9596425294876099', est_blk_Acc='0.9822227358818054')}"
      ]
     },
     "execution_count": 4,
     "metadata": {},
     "output_type": "execute_result"
    }
   ],
   "source": [
    "exp_dict"
   ]
  },
  {
   "cell_type": "code",
   "execution_count": 6,
   "metadata": {},
   "outputs": [
    {
     "data": {
      "text/plain": [
       "32"
      ]
     },
     "execution_count": 6,
     "metadata": {},
     "output_type": "execute_result"
    }
   ],
   "source": [
    "len(exp_dict)"
   ]
  },
  {
   "cell_type": "code",
   "execution_count": 1,
   "metadata": {},
   "outputs": [
    {
     "ename": "AttributeError",
     "evalue": "Can't get attribute 'metrics' on <module '__main__'>",
     "output_type": "error",
     "traceback": [
      "\u001b[0;31m---------------------------------------------------------------------------\u001b[0m",
      "\u001b[0;31mAttributeError\u001b[0m                            Traceback (most recent call last)",
      "\u001b[1;32m/u/battula12/Projects/MVSS/Controlled_Experiments/Code/parsing_logs.ipynb Cell 9\u001b[0m in \u001b[0;36m<cell line: 4>\u001b[0;34m()\u001b[0m\n\u001b[1;32m      <a href='vscode-notebook-cell://ssh-remote%2Blogin.delta.ncsa.illinois.edu/u/battula12/Projects/MVSS/Controlled_Experiments/Code/parsing_logs.ipynb#X11sdnNjb2RlLXJlbW90ZQ%3D%3D?line=1'>2</a>\u001b[0m dataset_condition \u001b[39m=\u001b[39m \u001b[39m\"\u001b[39m\u001b[39mnoisy\u001b[39m\u001b[39m\"\u001b[39m\n\u001b[1;32m      <a href='vscode-notebook-cell://ssh-remote%2Blogin.delta.ncsa.illinois.edu/u/battula12/Projects/MVSS/Controlled_Experiments/Code/parsing_logs.ipynb#X11sdnNjb2RlLXJlbW90ZQ%3D%3D?line=2'>3</a>\u001b[0m comparison_domain\u001b[39m=\u001b[39m\u001b[39m\"\u001b[39m\u001b[39mse\u001b[39m\u001b[39m\"\u001b[39m\n\u001b[0;32m----> <a href='vscode-notebook-cell://ssh-remote%2Blogin.delta.ncsa.illinois.edu/u/battula12/Projects/MVSS/Controlled_Experiments/Code/parsing_logs.ipynb#X11sdnNjb2RlLXJlbW90ZQ%3D%3D?line=3'>4</a>\u001b[0m exp_dict \u001b[39m=\u001b[39m torch\u001b[39m.\u001b[39;49mload(\u001b[39mf\u001b[39;49m\u001b[39m'\u001b[39;49m\u001b[39m../Logs/\u001b[39;49m\u001b[39m{\u001b[39;49;00mdataset_condition\u001b[39m}\u001b[39;49;00m\u001b[39m/\u001b[39;49m\u001b[39m{\u001b[39;49;00mdataset_condition\u001b[39m}\u001b[39;49;00m\u001b[39m_\u001b[39;49m\u001b[39m{\u001b[39;49;00mcomparison_domain\u001b[39m}\u001b[39;49;00m\u001b[39m_results.pt\u001b[39;49m\u001b[39m'\u001b[39;49m)\n",
      "File \u001b[0;32m~/.conda/envs/moving_source/lib/python3.9/site-packages/torch/serialization.py:712\u001b[0m, in \u001b[0;36mload\u001b[0;34m(f, map_location, pickle_module, **pickle_load_args)\u001b[0m\n\u001b[1;32m    710\u001b[0m             opened_file\u001b[39m.\u001b[39mseek(orig_position)\n\u001b[1;32m    711\u001b[0m             \u001b[39mreturn\u001b[39;00m torch\u001b[39m.\u001b[39mjit\u001b[39m.\u001b[39mload(opened_file)\n\u001b[0;32m--> 712\u001b[0m         \u001b[39mreturn\u001b[39;00m _load(opened_zipfile, map_location, pickle_module, \u001b[39m*\u001b[39;49m\u001b[39m*\u001b[39;49mpickle_load_args)\n\u001b[1;32m    713\u001b[0m \u001b[39mreturn\u001b[39;00m _legacy_load(opened_file, map_location, pickle_module, \u001b[39m*\u001b[39m\u001b[39m*\u001b[39mpickle_load_args)\n",
      "File \u001b[0;32m~/.conda/envs/moving_source/lib/python3.9/site-packages/torch/serialization.py:1049\u001b[0m, in \u001b[0;36m_load\u001b[0;34m(zip_file, map_location, pickle_module, pickle_file, **pickle_load_args)\u001b[0m\n\u001b[1;32m   1047\u001b[0m unpickler \u001b[39m=\u001b[39m UnpicklerWrapper(data_file, \u001b[39m*\u001b[39m\u001b[39m*\u001b[39mpickle_load_args)\n\u001b[1;32m   1048\u001b[0m unpickler\u001b[39m.\u001b[39mpersistent_load \u001b[39m=\u001b[39m persistent_load\n\u001b[0;32m-> 1049\u001b[0m result \u001b[39m=\u001b[39m unpickler\u001b[39m.\u001b[39;49mload()\n\u001b[1;32m   1051\u001b[0m torch\u001b[39m.\u001b[39m_utils\u001b[39m.\u001b[39m_validate_loaded_sparse_tensors()\n\u001b[1;32m   1053\u001b[0m \u001b[39mreturn\u001b[39;00m result\n",
      "File \u001b[0;32m~/.conda/envs/moving_source/lib/python3.9/site-packages/torch/serialization.py:1042\u001b[0m, in \u001b[0;36m_load.<locals>.UnpicklerWrapper.find_class\u001b[0;34m(self, mod_name, name)\u001b[0m\n\u001b[1;32m   1040\u001b[0m         \u001b[39mpass\u001b[39;00m\n\u001b[1;32m   1041\u001b[0m mod_name \u001b[39m=\u001b[39m load_module_mapping\u001b[39m.\u001b[39mget(mod_name, mod_name)\n\u001b[0;32m-> 1042\u001b[0m \u001b[39mreturn\u001b[39;00m \u001b[39msuper\u001b[39;49m()\u001b[39m.\u001b[39;49mfind_class(mod_name, name)\n",
      "\u001b[0;31mAttributeError\u001b[0m: Can't get attribute 'metrics' on <module '__main__'>"
     ]
    }
   ],
   "source": [
    "import torch\n",
    "dataset_condition = \"noisy\"\n",
    "comparison_domain=\"se\"\n",
    "exp_dict = torch.load(f'../Logs/{dataset_condition}/{dataset_condition}_{comparison_domain}_results.pt')"
   ]
  },
  {
   "cell_type": "code",
   "execution_count": null,
   "metadata": {},
   "outputs": [],
   "source": []
  }
 ],
 "metadata": {
  "kernelspec": {
   "display_name": "moving_source",
   "language": "python",
   "name": "python3"
  },
  "language_info": {
   "codemirror_mode": {
    "name": "ipython",
    "version": 3
   },
   "file_extension": ".py",
   "mimetype": "text/x-python",
   "name": "python",
   "nbconvert_exporter": "python",
   "pygments_lexer": "ipython3",
   "version": "3.9.13"
  },
  "orig_nbformat": 4,
  "vscode": {
   "interpreter": {
    "hash": "5b19b528aa93bd51c7336d5aea62157de271cd7dded6857ac2564e2dc9749b07"
   }
  }
 },
 "nbformat": 4,
 "nbformat_minor": 2
}
