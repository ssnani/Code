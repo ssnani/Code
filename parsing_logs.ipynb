{
 "cells": [
  {
   "cell_type": "code",
   "execution_count": 1,
   "metadata": {},
   "outputs": [],
   "source": [
    "def get_test_config_details(lst, dataset_condition):\n",
    "    ckpt_name_list = lst[1].split('/')\n",
    "    train, mic_idx = ckpt_name_list[-3], ckpt_name_list[-1][-2]\n",
    "\n",
    "    exp_name_list = lst[-1].split('_')\n",
    "    #idx = 4 if exp_name_list[-1][0]=='-' else 3\n",
    "    if dataset_condition==\"noisy_reverb\":\n",
    "        snr, t60, test = exp_name_list[-1][:-3], exp_name_list[-3], exp_name_list[-5]\n",
    "    elif dataset_condition==\"reverb\":\n",
    "        snr, t60, test = None, exp_name_list[-1][:-1], exp_name_list[-3]\n",
    "    elif dataset_condition==\"noisy\":\n",
    "        snr, t60, test = exp_name_list[-1][:-3], None, exp_name_list[-3]\n",
    "    else:\n",
    "        pass\n",
    "\n",
    "    return mic_idx, train, test, t60, snr"
   ]
  },
  {
   "cell_type": "code",
   "execution_count": null,
   "metadata": {},
   "outputs": [],
   "source": [
    "# getting metrics for noisy_reverb\n",
    "import os\n",
    "from collections import namedtuple\n",
    "\n",
    "metrics = namedtuple('metrics', [\"mix_stoi\", \"enh_stoi\", \"mix_pesq_nb\", \"enh_pesq_nb\"])\n",
    "doa_metrics = namedtuple('doa_metrics', [\"mix_frm_Acc\", \"est_frm_Acc\", \"mix_blk_Acc\", \"est_blk_Acc\"])\n",
    "\n",
    "dataset_condition = \"noisy\"\n",
    "comparison_domain = \"doa\"\n",
    "\n",
    "scenarios = [\"stationary\", \"moving\"]\n",
    "#t60_list = [0.2, 0.4, 0.6, 0.8, 1.0] # rows \n",
    "#snr_list = [-5.0, 0.0, 5.0, 10.0, 20.0] # col\n",
    "\n",
    "files_list = os.listdir(f'../Logs/{dataset_condition}/{comparison_domain}')\n",
    "exp_dict = {}\n",
    "doa_exp_dict = {}\n",
    "for file in files_list:\n",
    "    if os.path.isfile(os.path.join(f'../Logs/{dataset_condition}/{comparison_domain}', file)) and os.path.splitext(file)[1]==\".out\":\n",
    "        with open(os.path.join(f'../Logs/{dataset_condition}/{comparison_domain}', file), 'r') as f:\n",
    "            for line in f.readlines():\n",
    "                if \"ckpt_dir\" in line.strip():\n",
    "                    mic_idx, train, test, t60, snr = get_test_config_details(line.split(), dataset_condition)\n",
    "                elif \"PESQ_NB_epoch\" in line.strip():\n",
    "                    if \"PESQ_NB_epoch\"==line.strip().split()[1]:\n",
    "                        pesq_nb_enh = line.strip().split()[3]\n",
    "                        #print(pesq_nb_enh)\n",
    "                    elif \"MIX_PESQ_NB_epoch\"==line.strip().split()[1]:\n",
    "                        pesq_nb_mix = line.strip().split()[3]\n",
    "                        #print(pesq_nb_mix)\n",
    "                    else:\n",
    "                        continue\n",
    "                    #print(line)\n",
    "                elif \"STOI_epoch\" in line.strip():\n",
    "                    if \"STOI_epoch\"==line.strip().split()[1]:\n",
    "                        stoi_enh = line.strip().split()[3]\n",
    "                        #print(stoi_enh)\n",
    "                    elif \"MIX_STOI_epoch\"==line.strip().split()[1]:\n",
    "                        stoi_mix = line.strip().split()[3]\n",
    "                        #print(stoi_mix)\n",
    "                    else:\n",
    "                        continue\n",
    "                elif \"blk_Acc_epoch\" in line.strip():\n",
    "                    if \"est_blk_Acc_epoch\"==line.strip().split()[1]:\n",
    "                        est_blk_Acc = line.strip().split()[3]\n",
    "                    elif \"mix_blk_Acc_epoch\"==line.strip().split()[1]:\n",
    "                        mix_blk_Acc = line.strip().split()[3]\n",
    "                    else:\n",
    "                        continue\n",
    "                elif \"frm_Acc_epoch\" in line.strip():\n",
    "                    if \"est_frm_Acc_epoch\"==line.strip().split()[1]:\n",
    "                        est_frm_Acc = line.strip().split()[3]\n",
    "                    elif \"mix_frm_Acc_epoch\"==line.strip().split()[1]:\n",
    "                        mix_frm_Acc = line.strip().split()[3]\n",
    "                    else:\n",
    "                        continue\n",
    "                \n",
    "                #print(line)\n",
    "\n",
    "    \n",
    "        \n",
    "        if comparison_domain ==\"doa\":\n",
    "            exp_metrics = doa_metrics(mix_frm_Acc, est_frm_Acc, mix_blk_Acc, est_blk_Acc)\n",
    "        else:\n",
    "            exp_metrics = metrics(stoi_mix, stoi_enh, pesq_nb_mix, pesq_nb_enh)\n",
    "\n",
    "        #exp_metrics = { \"mix_stoi\": stoi_mix, \"enh_stoi\": stoi_enh, \"mix_pesq_nb\": pesq_nb_mix, \"enh_pesq_nb\": pesq_nb_enh}\n",
    "\n",
    "        if dataset_condition ==\"reverb\":\n",
    "            exp_app_str = f't60_{t60}'\n",
    "        elif dataset_condition ==\"noisy\":\n",
    "            exp_app_str = f'snr_{snr}'\n",
    "        elif dataset_condition ==\"noisy_reverb\":\n",
    "            exp_app_str = f't60_{t60}_snr_{snr}'\n",
    "        else:\n",
    "            exp_app_str = ''\n",
    "\n",
    "        key_str = f'train_{train}_mic_idx_{mic_idx}_test_{test}_{exp_app_str}' if comparison_domain!=\"doa\" else f'train_{train}_test_{test}_{exp_app_str}'\n",
    "        exp_dict[key_str] = exp_metrics\n",
    "        #doa_exp_dict[f'train_{train}_mic_idx_{mic_idx}_test_{test}_{exp_app_str}'] = doa_metrics\n",
    "\n",
    "        #break\n",
    "\n",
    "\n"
   ]
  },
  {
   "cell_type": "code",
   "execution_count": null,
   "metadata": {},
   "outputs": [],
   "source": [
    "\n",
    "#import torch\n",
    "#torch.save(exp_dict, f\"{dataset_condition}_doa_results.pt\")\n"
   ]
  },
  {
   "cell_type": "code",
   "execution_count": null,
   "metadata": {},
   "outputs": [],
   "source": [
    "mic_idx=0\n",
    "#dataset_condition = \"reverb\"\n",
    "train=\"stationary\"\n",
    "test = \"stationary\"\n",
    "t60=0.8\n",
    "snr = -5.0\n",
    "if dataset_condition ==\"reverb\":\n",
    "    exp_app_str = f't60_{t60}'\n",
    "elif dataset_condition ==\"noisy\":\n",
    "    exp_app_str = f'snr_{snr}'\n",
    "elif dataset_condition ==\"noisy_reverb\":\n",
    "    exp_app_str = f't60_{t60}_snr_{snr}'\n",
    "else:\n",
    "    exp_app_str = ''\n",
    "\n",
    "key_str = f'train_{train}_mic_idx_{mic_idx}_test_{test}_{exp_app_str}' if comparison_domain!=\"doa\" else f'train_{train}_test_{test}_{exp_app_str}'\n",
    "exp_dict[key_str]"
   ]
  },
  {
   "cell_type": "code",
   "execution_count": null,
   "metadata": {},
   "outputs": [],
   "source": [
    "exp_dict"
   ]
  },
  {
   "cell_type": "code",
   "execution_count": null,
   "metadata": {},
   "outputs": [],
   "source": [
    "len(exp_dict)"
   ]
  },
  {
   "cell_type": "code",
   "execution_count": null,
   "metadata": {},
   "outputs": [],
   "source": [
    "import torch\n",
    "dataset_condition = \"noisy\"\n",
    "comparison_domain=\"se\"\n",
    "exp_dict = torch.load(f'../Logs/{dataset_condition}/{dataset_condition}_{comparison_domain}_results.pt')"
   ]
  },
  {
   "cell_type": "code",
   "execution_count": 5,
   "metadata": {},
   "outputs": [],
   "source": [
    "#MIMO\n",
    "\n",
    "# getting metrics for noisy_reverb\n",
    "import os\n",
    "from collections import namedtuple\n",
    "\n",
    "metrics = namedtuple('metrics', [\"mix_stoi\", \"enh_stoi\", \"mix_pesq_nb\", \"enh_pesq_nb\", \"mix_frm_Acc\", \"est_frm_Acc\", \"mix_blk_Acc\", \"est_blk_Acc\"])\n",
    "\n",
    "\n",
    "dataset_condition = \"reverb\"\n",
    "comparison_domain = \"doa\"\n",
    "\n",
    "scenarios = [\"stationary\", \"moving\"]\n",
    "#t60_list = [0.2, 0.4, 0.6, 0.8, 1.0] # rows \n",
    "#snr_list = [-5.0, 0.0, 5.0, 10.0, 20.0] # col\n",
    "\n",
    "files_list = os.listdir(f'../Logs/{dataset_condition}/mimo_ri_ph_diff_loss')\n",
    "exp_dict = {}\n",
    "doa_exp_dict = {}\n",
    "for file in files_list:\n",
    "    if os.path.isfile(os.path.join(f'../Logs/{dataset_condition}/mimo_ri_ph_diff_loss', file)) and os.path.splitext(file)[1]==\".out\":\n",
    "        try:\n",
    "            with open(os.path.join(f'../Logs/{dataset_condition}/mimo_ri_ph_diff_loss', file), 'r') as f:\n",
    "                for line in f.readlines():\n",
    "                    if \"ckpt_dir\" in line.strip():\n",
    "                        mic_idx, train, test, t60, snr = get_test_config_details(line.split(), dataset_condition)\n",
    "                    elif \"PESQ_NB_epoch\" in line.strip():\n",
    "                        if \"PESQ_NB_epoch\"==line.strip().split()[1]:\n",
    "                            pesq_nb_enh = line.strip().split()[3]\n",
    "                            #print(pesq_nb_enh)\n",
    "                        elif \"MIX_PESQ_NB_epoch\"==line.strip().split()[1]:\n",
    "                            pesq_nb_mix = line.strip().split()[3]\n",
    "                            #print(pesq_nb_mix)\n",
    "                        else:\n",
    "                            continue\n",
    "                        #print(line)\n",
    "                    elif \"STOI_epoch\" in line.strip():\n",
    "                        if \"STOI_epoch\"==line.strip().split()[1]:\n",
    "                            stoi_enh = line.strip().split()[3]\n",
    "                            #print(stoi_enh)\n",
    "                        elif \"MIX_STOI_epoch\"==line.strip().split()[1]:\n",
    "                            stoi_mix = line.strip().split()[3]\n",
    "                            #print(stoi_mix)\n",
    "                        else:\n",
    "                            continue\n",
    "                    elif \"blk_Acc_epoch\" in line.strip():\n",
    "                        if \"est_blk_Acc_epoch\"==line.strip().split()[1]:\n",
    "                            est_blk_Acc = line.strip().split()[3]\n",
    "                        elif \"mix_blk_Acc_epoch\"==line.strip().split()[1]:\n",
    "                            mix_blk_Acc = line.strip().split()[3]\n",
    "                        else:\n",
    "                            continue\n",
    "                    elif \"frm_Acc_epoch\" in line.strip():\n",
    "                        if \"est_frm_Acc_epoch\"==line.strip().split()[1]:\n",
    "                            est_frm_Acc = line.strip().split()[3]\n",
    "                        elif \"mix_frm_Acc_epoch\"==line.strip().split()[1]:\n",
    "                            mix_frm_Acc = line.strip().split()[3]\n",
    "                        else:\n",
    "                            continue\n",
    "                    \n",
    "                    #print(line)\n",
    "        except UnicodeDecodeError:\n",
    "            print(file)\n",
    "            #t60 = 1.0\n",
    "            #snr = 10.0\n",
    "            #train = \"stationary\"\n",
    "            #test = \"moving\"\n",
    "            #stoi_mix, stoi_enh, pesq_nb_mix, pesq_nb_enh, mix_frm_Acc, est_frm_Acc, mix_blk_Acc, est_blk_Acc = 0,0,0,0,0,0,0,0\n",
    "\n",
    "\n",
    "    \n",
    "        \n",
    "\n",
    "        exp_metrics = metrics(stoi_mix, stoi_enh, pesq_nb_mix, pesq_nb_enh, mix_frm_Acc, est_frm_Acc, mix_blk_Acc, est_blk_Acc)\n",
    "\n",
    "        #exp_metrics = { \"mix_stoi\": stoi_mix, \"enh_stoi\": stoi_enh, \"mix_pesq_nb\": pesq_nb_mix, \"enh_pesq_nb\": pesq_nb_enh}\n",
    "\n",
    "        if dataset_condition ==\"reverb\":\n",
    "            exp_app_str = f't60_{t60}'\n",
    "        elif dataset_condition ==\"noisy\":\n",
    "            exp_app_str = f'snr_{snr}'\n",
    "        elif dataset_condition ==\"noisy_reverb\":\n",
    "            exp_app_str = f't60_{t60}_snr_{snr}'\n",
    "        else:\n",
    "            exp_app_str = ''\n",
    "\n",
    "        key_str = f'train_{train}_test_{test}_{exp_app_str}' \n",
    "        exp_dict[key_str] = exp_metrics\n",
    "        #doa_exp_dict[f'train_{train}_mic_idx_{mic_idx}_test_{test}_{exp_app_str}'] = doa_metrics\n",
    "\n",
    "        #break\n",
    "\n",
    "\n"
   ]
  },
  {
   "cell_type": "code",
   "execution_count": null,
   "metadata": {},
   "outputs": [],
   "source": [
    "exp_dict"
   ]
  },
  {
   "cell_type": "code",
   "execution_count": 7,
   "metadata": {},
   "outputs": [],
   "source": [
    "import torch\n",
    "torch.save(exp_dict, f\"{dataset_condition}_mimo_ri_ph_diff_loss_results.pt\")"
   ]
  },
  {
   "cell_type": "code",
   "execution_count": 6,
   "metadata": {},
   "outputs": [
    {
     "data": {
      "text/plain": [
       "40"
      ]
     },
     "execution_count": 6,
     "metadata": {},
     "output_type": "execute_result"
    }
   ],
   "source": [
    "len(exp_dict)"
   ]
  },
  {
   "cell_type": "code",
   "execution_count": 5,
   "metadata": {},
   "outputs": [
    {
     "data": {
      "text/plain": [
       "metrics(mix_stoi='0.4763726483746688', enh_stoi='0.6999351528255602', mix_pesq_nb='1.135616979169807', enh_pesq_nb='1.7284795356932845', mix_frm_Acc='0.10606851428747177', est_frm_Acc='0.32389768958091736', mix_blk_Acc='0.1215929314494133', est_blk_Acc='0.5471599102020264')"
      ]
     },
     "execution_count": 5,
     "metadata": {},
     "output_type": "execute_result"
    }
   ],
   "source": [
    "exp_dict['train_moving_test_stationary_t60_1.0_snr_-5.0']"
   ]
  },
  {
   "cell_type": "code",
   "execution_count": null,
   "metadata": {},
   "outputs": [],
   "source": []
  }
 ],
 "metadata": {
  "kernelspec": {
   "display_name": "moving_source",
   "language": "python",
   "name": "python3"
  },
  "language_info": {
   "codemirror_mode": {
    "name": "ipython",
    "version": 3
   },
   "file_extension": ".py",
   "mimetype": "text/x-python",
   "name": "python",
   "nbconvert_exporter": "python",
   "pygments_lexer": "ipython3",
   "version": "3.9.13"
  },
  "orig_nbformat": 4,
  "vscode": {
   "interpreter": {
    "hash": "5b19b528aa93bd51c7336d5aea62157de271cd7dded6857ac2564e2dc9749b07"
   }
  }
 },
 "nbformat": 4,
 "nbformat_minor": 2
}
