{
 "cells": [
  {
   "cell_type": "code",
   "execution_count": 1,
   "metadata": {},
   "outputs": [],
   "source": [
    "import torch\n",
    "import numpy as np\n",
    "import matplotlib.pyplot as plt\n",
    "import csv"
   ]
  },
  {
   "cell_type": "code",
   "execution_count": 2,
   "metadata": {},
   "outputs": [],
   "source": [
    "def get_metrics(exp_dict, mic_idx, train, var_list, var2, metric, dataset_condition, comparison_domain, scenarios, model_type):\n",
    "    #Getting list of each case\n",
    "    mix_metrics = []\n",
    "    enh_metrics = []\n",
    "    mvng_enh_metrics = []\n",
    "    mvng_mix_metrics = []\n",
    "\n",
    "\n",
    "    for var in var_list:\n",
    "        for test in scenarios:\n",
    "\n",
    "            if dataset_condition ==\"reverb\":\n",
    "                exp_app_str = f't60_{var}'\n",
    "            elif dataset_condition ==\"noisy\":\n",
    "                exp_app_str = f'snr_{var}'\n",
    "            elif dataset_condition ==\"noisy_reverb\":\n",
    "                exp_app_str = f't60_{var}_snr_{var2}'\n",
    "            else:\n",
    "                exp_app_str = ''\n",
    "\n",
    "            if model_type == \"miso\":\n",
    "                key_str = f'train_{train}_mic_idx_{mic_idx}_test_{test}_{exp_app_str}' if comparison_domain!=\"doa\" else f'train_{train}_test_{test}_{exp_app_str}'\n",
    "            elif model_type ==\"mimo\":\n",
    "                key_str = f'train_{train}_test_{test}_{exp_app_str}'\n",
    "            \n",
    "            metrics = exp_dict[key_str]._asdict()\n",
    "            start_phrase = \"est\" if comparison_domain ==\"doa\" else \"enh\"\n",
    "            \n",
    "            if test==\"stationary\":\n",
    "                mix_metrics.append(metrics[f'mix_{metric}'])\n",
    "                enh_metrics.append(metrics[f'{start_phrase}_{metric}'])\n",
    "            elif test==\"moving\":\n",
    "                mvng_mix_metrics.append(metrics[f'mix_{metric}'])\n",
    "                mvng_enh_metrics.append(metrics[f'{start_phrase}_{metric}'])\n",
    "            else:\n",
    "                break\n",
    "\n",
    "            #print(f'{t60}, {test}, {exp_dict[key_str]}')\n",
    "\n",
    "    if metric ==\"stoi\" or metric == \"frm_Acc\" or metric == \"blk_Acc\":\n",
    "        stoi_format= lambda lst: [ round(float(x)*100, 2) for x in lst]\n",
    "\n",
    "        mix_metrics, enh_metrics, mvng_metrics, mvng_mix_metrics = stoi_format(mix_metrics), stoi_format(enh_metrics), stoi_format(mvng_enh_metrics), stoi_format(mvng_mix_metrics)\n",
    "\n",
    "    else:\n",
    "        pesq_format= lambda lst: [ round(float(x), 2) for x in lst]\n",
    "\n",
    "        mix_metrics, enh_metrics, mvng_metrics, mvng_mix_metrics = pesq_format(mix_metrics), pesq_format(enh_metrics), pesq_format(mvng_enh_metrics), pesq_format(mvng_mix_metrics)\n",
    "\n",
    "\n",
    "    return mix_metrics, enh_metrics, mvng_metrics, mvng_mix_metrics"
   ]
  },
  {
   "cell_type": "code",
   "execution_count": 3,
   "metadata": {},
   "outputs": [],
   "source": [
    "def get_var_list(dataset_condition):\n",
    "    if dataset_condition==\"noisy_reverb\":\n",
    "        snr_list = [-5.0, 0.0, 5.0, 10.0, 20.0] # col\n",
    "        t60_list = [0.2, 0.4, 0.6, 0.8, 1.0] # rows\n",
    "        return snr_list, t60_list\n",
    "    elif dataset_condition==\"noisy\":\n",
    "        snr_list = [-5.0, -2.5, 0.0, 2.5, 5.0, 10.0, 15.0, 20.0] # col\n",
    "        t60 = 0\n",
    "        return t60, snr_list\n",
    "    elif dataset_condition==\"reverb\":\n",
    "        snr = None\n",
    "        t60_list = [0.0, 0.2, 0.3, 0.4, 0.5, 0.6, 0.7, 0.8, 0.9, 1.0]\n",
    "        return snr, t60_list"
   ]
  },
  {
   "cell_type": "code",
   "execution_count": 4,
   "metadata": {},
   "outputs": [],
   "source": [
    "scenarios = [\"stationary\", \"moving\"]\n",
    "#comparison_domain=\"\"\n",
    "se_metrics_lst = [\"stoi\", 'pesq_nb']\n",
    "doa_metrics_lst = [\"frm_Acc\", \"blk_Acc\"]\n",
    "from collections import namedtuple\n",
    "\n",
    "metrics = namedtuple('metrics', [\"mix_stoi\", \"enh_stoi\", \"mix_pesq_nb\", \"enh_pesq_nb\", \"mix_frm_Acc\", \"est_frm_Acc\", \"mix_blk_Acc\", \"est_blk_Acc\"])"
   ]
  },
  {
   "cell_type": "code",
   "execution_count": 14,
   "metadata": {},
   "outputs": [
    {
     "name": "stdout",
     "output_type": "stream",
     "text": [
      "stoi, mix_mimo_metric: None, enh_mimo_metric: None, mvng_mimo_metric: None, mvng_mix_mimo_metric: None\n",
      "\n",
      "stoi, mix_mimo_metric: None, enh_mimo_metric: None, mvng_mimo_metric: None, mvng_mix_mimo_metric: None\n",
      "\n",
      "pesq_nb, mix_mimo_metric: None, enh_mimo_metric: None, mvng_mimo_metric: None, mvng_mix_mimo_metric: None\n",
      "\n",
      "pesq_nb, mix_mimo_metric: None, enh_mimo_metric: None, mvng_mimo_metric: None, mvng_mix_mimo_metric: None\n",
      "\n",
      "frm_Acc, mix_mimo_metric: None, enh_mimo_metric: None, mvng_mimo_metric: None, mvng_mix_mimo_metric: None\n",
      "\n",
      "frm_Acc, mix_mimo_metric: None, enh_mimo_metric: None, mvng_mimo_metric: None, mvng_mix_mimo_metric: None\n",
      "\n",
      "blk_Acc, mix_mimo_metric: None, enh_mimo_metric: None, mvng_mimo_metric: None, mvng_mix_mimo_metric: None\n",
      "\n",
      "blk_Acc, mix_mimo_metric: None, enh_mimo_metric: None, mvng_mimo_metric: None, mvng_mix_mimo_metric: None\n",
      "\n",
      "stoi, mix_mimo_metric: None, enh_mimo_metric: None, mvng_mimo_metric: None, mvng_mix_mimo_metric: None\n",
      "\n",
      "stoi, mix_mimo_metric: None, enh_mimo_metric: None, mvng_mimo_metric: None, mvng_mix_mimo_metric: None\n",
      "\n",
      "pesq_nb, mix_mimo_metric: None, enh_mimo_metric: None, mvng_mimo_metric: None, mvng_mix_mimo_metric: None\n",
      "\n",
      "pesq_nb, mix_mimo_metric: None, enh_mimo_metric: None, mvng_mimo_metric: None, mvng_mix_mimo_metric: None\n",
      "\n",
      "frm_Acc, mix_mimo_metric: None, enh_mimo_metric: None, mvng_mimo_metric: None, mvng_mix_mimo_metric: None\n",
      "\n",
      "frm_Acc, mix_mimo_metric: None, enh_mimo_metric: None, mvng_mimo_metric: None, mvng_mix_mimo_metric: None\n",
      "\n",
      "blk_Acc, mix_mimo_metric: None, enh_mimo_metric: None, mvng_mimo_metric: None, mvng_mix_mimo_metric: None\n",
      "\n",
      "blk_Acc, mix_mimo_metric: None, enh_mimo_metric: None, mvng_mimo_metric: None, mvng_mix_mimo_metric: None\n",
      "\n"
     ]
    }
   ],
   "source": [
    "dataset_condition = \"reverb\"\n",
    "train = 'stationary'\n",
    "mic_idx=-1\n",
    "model_type = \"mimo\"\n",
    "file_name = \"mimo_ph_diff_loss_unweighted_results\"\n",
    "exp_dict_mimo = torch.load(f'../Logs/{dataset_condition}/{dataset_condition}_mimo_ph_diff_loss_v2_results.pt')\n",
    "if dataset_condition !=\"noisy_reverb\":\n",
    "    var2, var_list = get_var_list(dataset_condition)\n",
    "\n",
    "header = ['Train', 'Metric', 0.0, 0.2, 0.3, 0.4, 0.5, 0.6, 0.7, 0.8, 0.9, 1.0]\n",
    "f = open(f\"{file_name}.csv\", 'w') \n",
    "write = csv.writer(f)\n",
    "write.writerow(header)\n",
    "for train in [\"stationary\", \"moving\"]:\n",
    "    for comparison_domain in [\"se\", \"doa\",]:\n",
    "        _metrics = se_metrics_lst if comparison_domain==\"se\" else doa_metrics_lst\n",
    "        for metric in _metrics:\n",
    "            mix_mimo_metric, enh_mimo_metric, mvng_mimo_metric, mvng_mix_mimo_metric = get_metrics(exp_dict_mimo, mic_idx=-1, train=train, var_list=var_list, var2=var2, metric=metric, dataset_condition=dataset_condition, comparison_domain=comparison_domain, scenarios=scenarios,model_type=\"mimo\")\n",
    "            print(f'{metric}, mix_mimo_metric: {mix_mimo_metric.insert(0, f\"mix_{metric}\")}, enh_mimo_metric: {enh_mimo_metric.insert(0, f\"enh_{metric}\")}, mvng_mimo_metric: {mvng_mimo_metric.insert(0, f\"mvng_enh_{metric}\")}, mvng_mix_mimo_metric: {mvng_mix_mimo_metric.insert(0, f\"mvng_mix_{metric}\")}\\n')\n",
    "            print(f'{metric}, mix_mimo_metric: {mix_mimo_metric.insert(0, f\"{train}\")}, enh_mimo_metric: {enh_mimo_metric.insert(0, f\"{train}\")}, mvng_mimo_metric: {mvng_mimo_metric.insert(0, f\"{train}\")}, mvng_mix_mimo_metric: {mvng_mix_mimo_metric.insert(0, f\"{train}\")}\\n')\n",
    "            rows = [ mix_mimo_metric, enh_mimo_metric, mvng_mimo_metric, mvng_mix_mimo_metric]\n",
    "            #print(f\"rows: {rows}\" )\n",
    "            #writing to csv file\n",
    "            write.writerows(rows)\n",
    "\n",
    "\n",
    "f.close()"
   ]
  },
  {
   "cell_type": "code",
   "execution_count": null,
   "metadata": {},
   "outputs": [],
   "source": []
  }
 ],
 "metadata": {
  "kernelspec": {
   "display_name": "moving_source",
   "language": "python",
   "name": "python3"
  },
  "language_info": {
   "codemirror_mode": {
    "name": "ipython",
    "version": 3
   },
   "file_extension": ".py",
   "mimetype": "text/x-python",
   "name": "python",
   "nbconvert_exporter": "python",
   "pygments_lexer": "ipython3",
   "version": "3.9.13"
  },
  "orig_nbformat": 4,
  "vscode": {
   "interpreter": {
    "hash": "5b19b528aa93bd51c7336d5aea62157de271cd7dded6857ac2564e2dc9749b07"
   }
  }
 },
 "nbformat": 4,
 "nbformat_minor": 2
}
